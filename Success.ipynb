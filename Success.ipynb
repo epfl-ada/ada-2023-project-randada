{
 "cells": [
  {
   "cell_type": "markdown",
   "id": "266f0de9-ae8a-4c58-ab8a-ab0d3452703f",
   "metadata": {},
   "source": [
    "Success analysis : finding cofounders "
   ]
  },
  {
   "cell_type": "code",
   "execution_count": null,
   "id": "b8286a37",
   "metadata": {},
   "outputs": [],
   "source": [
    "import pandas as pd\n",
    "import seaborn as sns\n",
    "import matplotlib.pyplot as plt\n",
    "import requests\n",
    "import numpy as np\n",
    "import string"
   ]
  },
  {
   "cell_type": "code",
   "execution_count": null,
   "id": "46c86838",
   "metadata": {},
   "outputs": [],
   "source": [
    "#load the dataset with the list of famous actors (top 100 from IMDB) and the dataset with the movie ratings from imdb\n",
    "famous_actors= pd.read_csv('Data/famous_actors.csv')\n",
    "movies = pd.read_csv('Data/movies_metadata_english_only.csv')\n",
    "ratings_imdb = pd.read_table('Data/ratings_imdb.tsv', sep=\"\\t\")\n",
    "movies.head()"
   ]
  },
  {
   "cell_type": "code",
   "execution_count": null,
   "id": "f956d054",
   "metadata": {},
   "outputs": [],
   "source": [
    "# import the file with the movies titles ID from imdb\n",
    "import gdown\n",
    "import pandas as pd\n",
    "\n",
    "link_drive = \"https://drive.google.com/file/d/1ZkAQhufH1q1a9aJDgs_AzR0hoo2p-LWQ/view?usp=share_link\"\n",
    "id_fichier = link_drive.split(\"/\")[-2]\n",
    "link_direct = f\"https://drive.google.com/uc?id={id_fichier}\"\n",
    "name_file_local = \"titles_imdb.tsv\"\n",
    "gdown.download(link_direct, name_file_local, quiet=False)\n",
    "movie_imdb = pd.read_csv(name_file_local, sep='\\t')"
   ]
  },
  {
   "cell_type": "code",
   "execution_count": null,
   "id": "72947412",
   "metadata": {},
   "outputs": [],
   "source": [
    "#clean the movie dataset from imdb\n",
    "\n",
    "movie_imdb['startYear'] = movie_imdb['startYear'].replace('\\\\N', np.nan)\n",
    "movie_imdb['runtimeMinutes'] = movie_imdb['runtimeMinutes'].replace('\\\\N', np.nan)\n",
    "\n",
    "movie_imdb.dropna(subset=['startYear'], inplace =True)\n",
    "movie_imdb.dropna(subset=['runtimeMinutes'], inplace =True)\n",
    "\n",
    "movie_imdb['startYear']=movie_imdb['startYear'].astype('int')\n",
    "movie_imdb['runtimeMinutes']=movie_imdb['runtimeMinutes'].astype(int).astype('int')"
   ]
  }
 ],
 "metadata": {
  "kernelspec": {
   "display_name": "Python 3 (ipykernel)",
   "language": "python",
   "name": "python3"
  },
  "language_info": {
   "codemirror_mode": {
    "name": "ipython",
    "version": 3
   },
   "file_extension": ".py",
   "mimetype": "text/x-python",
   "name": "python",
   "nbconvert_exporter": "python",
   "pygments_lexer": "ipython3",
   "version": "3.9.18"
  }
 },
 "nbformat": 4,
 "nbformat_minor": 5
}
