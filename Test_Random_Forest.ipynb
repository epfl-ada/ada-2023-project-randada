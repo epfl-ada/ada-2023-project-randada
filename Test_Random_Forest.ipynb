{
 "cells": [
  {
   "cell_type": "code",
   "execution_count": 35,
   "id": "ace66c2f-115d-4182-acc3-ea4326b5fac6",
   "metadata": {
    "execution": {
     "iopub.execute_input": "2023-12-15T18:54:34.605801Z",
     "iopub.status.busy": "2023-12-15T18:54:34.604839Z",
     "iopub.status.idle": "2023-12-15T18:54:34.621458Z",
     "shell.execute_reply": "2023-12-15T18:54:34.618524Z",
     "shell.execute_reply.started": "2023-12-15T18:54:34.605729Z"
    },
    "tags": []
   },
   "outputs": [],
   "source": [
    "import pandas as pd\n",
    "import seaborn as sns\n",
    "import numpy as np\n",
    "import matplotlib.pyplot as plt\n",
    "import math\n",
    "from sklearn.linear_model import LinearRegression, LogisticRegression, Ridge\n",
    "# from sklearn.preprocessing import OneHotEncoder\n",
    "# from pandas.plotting import scatter_matrix\n",
    "from sklearn.neighbors import KNeighborsClassifier\n",
    "from sklearn.model_selection import cross_val_predict\n",
    "from sklearn.model_selection import cross_val_score\n",
    "from sklearn.metrics import mean_squared_error, auc, roc_curve"
   ]
  },
  {
   "cell_type": "code",
   "execution_count": 36,
   "id": "3b223db2-da97-4cb7-85aa-59ce606fea1d",
   "metadata": {
    "execution": {
     "iopub.execute_input": "2023-12-15T18:54:34.846943Z",
     "iopub.status.busy": "2023-12-15T18:54:34.845975Z",
     "iopub.status.idle": "2023-12-15T18:54:34.913646Z",
     "shell.execute_reply": "2023-12-15T18:54:34.912203Z",
     "shell.execute_reply.started": "2023-12-15T18:54:34.846839Z"
    },
    "tags": []
   },
   "outputs": [],
   "source": [
    "key_features = pd.read_csv(\"Data/key_features.csv\")"
   ]
  },
  {
   "cell_type": "code",
   "execution_count": 37,
   "id": "3fb28df5-503f-4466-8f16-6d89a641117d",
   "metadata": {
    "execution": {
     "iopub.execute_input": "2023-12-15T18:54:34.915495Z",
     "iopub.status.busy": "2023-12-15T18:54:34.915216Z",
     "iopub.status.idle": "2023-12-15T18:54:34.938756Z",
     "shell.execute_reply": "2023-12-15T18:54:34.937713Z",
     "shell.execute_reply.started": "2023-12-15T18:54:34.915470Z"
    },
    "tags": []
   },
   "outputs": [
    {
     "data": {
      "text/html": [
       "<div>\n",
       "<style scoped>\n",
       "    .dataframe tbody tr th:only-of-type {\n",
       "        vertical-align: middle;\n",
       "    }\n",
       "\n",
       "    .dataframe tbody tr th {\n",
       "        vertical-align: top;\n",
       "    }\n",
       "\n",
       "    .dataframe thead th {\n",
       "        text-align: right;\n",
       "    }\n",
       "</style>\n",
       "<table border=\"1\" class=\"dataframe\">\n",
       "  <thead>\n",
       "    <tr style=\"text-align: right;\">\n",
       "      <th></th>\n",
       "      <th>Unnamed: 0.1</th>\n",
       "      <th>Unnamed: 0</th>\n",
       "      <th>Wikipedia_movie_ID</th>\n",
       "      <th>Freebase_movie_ID</th>\n",
       "      <th>Movie_name</th>\n",
       "      <th>Movie_release_date</th>\n",
       "      <th>Movie_box_office_revenue</th>\n",
       "      <th>Movie_runtime</th>\n",
       "      <th>Movie_countries</th>\n",
       "      <th>Movie_main_genre</th>\n",
       "      <th>...</th>\n",
       "      <th>PERSON</th>\n",
       "      <th>LOCATION</th>\n",
       "      <th>DATE</th>\n",
       "      <th>TIME</th>\n",
       "      <th>MONEY</th>\n",
       "      <th>PERCENT</th>\n",
       "      <th>FACILITY</th>\n",
       "      <th>GPE</th>\n",
       "      <th>pos_sentiment</th>\n",
       "      <th>neg_sentiment</th>\n",
       "    </tr>\n",
       "  </thead>\n",
       "  <tbody>\n",
       "    <tr>\n",
       "      <th>0</th>\n",
       "      <td>0</td>\n",
       "      <td>0</td>\n",
       "      <td>3217</td>\n",
       "      <td>/m/014hr</td>\n",
       "      <td>['army', 'of', 'darkness']</td>\n",
       "      <td>1992</td>\n",
       "      <td>21502796.0</td>\n",
       "      <td>81.0</td>\n",
       "      <td>['United States of America']</td>\n",
       "      <td>horror</td>\n",
       "      <td>...</td>\n",
       "      <td>0</td>\n",
       "      <td>0</td>\n",
       "      <td>0</td>\n",
       "      <td>0</td>\n",
       "      <td>0</td>\n",
       "      <td>0</td>\n",
       "      <td>0</td>\n",
       "      <td>0</td>\n",
       "      <td>0.0</td>\n",
       "      <td>0.5</td>\n",
       "    </tr>\n",
       "    <tr>\n",
       "      <th>1</th>\n",
       "      <td>1</td>\n",
       "      <td>1</td>\n",
       "      <td>3947</td>\n",
       "      <td>/m/0191n</td>\n",
       "      <td>['blue', 'velvet']</td>\n",
       "      <td>1986</td>\n",
       "      <td>8551228.0</td>\n",
       "      <td>120.0</td>\n",
       "      <td>['United States of America']</td>\n",
       "      <td>thriller</td>\n",
       "      <td>...</td>\n",
       "      <td>1</td>\n",
       "      <td>0</td>\n",
       "      <td>0</td>\n",
       "      <td>0</td>\n",
       "      <td>0</td>\n",
       "      <td>0</td>\n",
       "      <td>0</td>\n",
       "      <td>0</td>\n",
       "      <td>0.0</td>\n",
       "      <td>0.0</td>\n",
       "    </tr>\n",
       "    <tr>\n",
       "      <th>2</th>\n",
       "      <td>2</td>\n",
       "      <td>2</td>\n",
       "      <td>4231</td>\n",
       "      <td>/m/01cbx</td>\n",
       "      <td>['buffy', 'the', 'vampire', 'slayer']</td>\n",
       "      <td>1992</td>\n",
       "      <td>16624456.0</td>\n",
       "      <td>86.0</td>\n",
       "      <td>['United States of America']</td>\n",
       "      <td>action</td>\n",
       "      <td>...</td>\n",
       "      <td>0</td>\n",
       "      <td>0</td>\n",
       "      <td>0</td>\n",
       "      <td>0</td>\n",
       "      <td>0</td>\n",
       "      <td>0</td>\n",
       "      <td>0</td>\n",
       "      <td>0</td>\n",
       "      <td>0.0</td>\n",
       "      <td>0.0</td>\n",
       "    </tr>\n",
       "    <tr>\n",
       "      <th>3</th>\n",
       "      <td>3</td>\n",
       "      <td>3</td>\n",
       "      <td>4728</td>\n",
       "      <td>/m/01hq1</td>\n",
       "      <td>['batman', 'returns']</td>\n",
       "      <td>1992</td>\n",
       "      <td>266822354.0</td>\n",
       "      <td>126.0</td>\n",
       "      <td>['United States of America', 'United Kingdom']</td>\n",
       "      <td>thriller</td>\n",
       "      <td>...</td>\n",
       "      <td>1</td>\n",
       "      <td>0</td>\n",
       "      <td>0</td>\n",
       "      <td>0</td>\n",
       "      <td>0</td>\n",
       "      <td>0</td>\n",
       "      <td>0</td>\n",
       "      <td>0</td>\n",
       "      <td>0.0</td>\n",
       "      <td>0.0</td>\n",
       "    </tr>\n",
       "    <tr>\n",
       "      <th>4</th>\n",
       "      <td>4</td>\n",
       "      <td>4</td>\n",
       "      <td>5224</td>\n",
       "      <td>/m/01lsl</td>\n",
       "      <td>['citizen', 'kane']</td>\n",
       "      <td>1941</td>\n",
       "      <td>1585634.0</td>\n",
       "      <td>119.0</td>\n",
       "      <td>['United States of America']</td>\n",
       "      <td>thriller</td>\n",
       "      <td>...</td>\n",
       "      <td>1</td>\n",
       "      <td>0</td>\n",
       "      <td>0</td>\n",
       "      <td>0</td>\n",
       "      <td>0</td>\n",
       "      <td>0</td>\n",
       "      <td>0</td>\n",
       "      <td>0</td>\n",
       "      <td>0.0</td>\n",
       "      <td>0.0</td>\n",
       "    </tr>\n",
       "  </tbody>\n",
       "</table>\n",
       "<p>5 rows × 50 columns</p>\n",
       "</div>"
      ],
      "text/plain": [
       "   Unnamed: 0.1  Unnamed: 0  Wikipedia_movie_ID Freebase_movie_ID  \\\n",
       "0             0           0                3217          /m/014hr   \n",
       "1             1           1                3947          /m/0191n   \n",
       "2             2           2                4231          /m/01cbx   \n",
       "3             3           3                4728          /m/01hq1   \n",
       "4             4           4                5224          /m/01lsl   \n",
       "\n",
       "                              Movie_name  Movie_release_date  \\\n",
       "0             ['army', 'of', 'darkness']                1992   \n",
       "1                     ['blue', 'velvet']                1986   \n",
       "2  ['buffy', 'the', 'vampire', 'slayer']                1992   \n",
       "3                  ['batman', 'returns']                1992   \n",
       "4                    ['citizen', 'kane']                1941   \n",
       "\n",
       "   Movie_box_office_revenue  Movie_runtime  \\\n",
       "0                21502796.0           81.0   \n",
       "1                 8551228.0          120.0   \n",
       "2                16624456.0           86.0   \n",
       "3               266822354.0          126.0   \n",
       "4                 1585634.0          119.0   \n",
       "\n",
       "                                  Movie_countries Movie_main_genre  ...  \\\n",
       "0                    ['United States of America']           horror  ...   \n",
       "1                    ['United States of America']         thriller  ...   \n",
       "2                    ['United States of America']           action  ...   \n",
       "3  ['United States of America', 'United Kingdom']         thriller  ...   \n",
       "4                    ['United States of America']         thriller  ...   \n",
       "\n",
       "   PERSON LOCATION  DATE  TIME  MONEY PERCENT  FACILITY  GPE pos_sentiment  \\\n",
       "0       0        0     0     0      0       0         0    0           0.0   \n",
       "1       1        0     0     0      0       0         0    0           0.0   \n",
       "2       0        0     0     0      0       0         0    0           0.0   \n",
       "3       1        0     0     0      0       0         0    0           0.0   \n",
       "4       1        0     0     0      0       0         0    0           0.0   \n",
       "\n",
       "   neg_sentiment  \n",
       "0            0.5  \n",
       "1            0.0  \n",
       "2            0.0  \n",
       "3            0.0  \n",
       "4            0.0  \n",
       "\n",
       "[5 rows x 50 columns]"
      ]
     },
     "execution_count": 37,
     "metadata": {},
     "output_type": "execute_result"
    }
   ],
   "source": [
    "key_features.head()"
   ]
  },
  {
   "cell_type": "code",
   "execution_count": 38,
   "id": "8ced71a7-edc3-4648-9c2c-ad9933baeb8c",
   "metadata": {
    "execution": {
     "iopub.execute_input": "2023-12-15T18:54:35.066442Z",
     "iopub.status.busy": "2023-12-15T18:54:35.065514Z",
     "iopub.status.idle": "2023-12-15T18:54:35.081371Z",
     "shell.execute_reply": "2023-12-15T18:54:35.079509Z",
     "shell.execute_reply.started": "2023-12-15T18:54:35.066366Z"
    },
    "tags": []
   },
   "outputs": [
    {
     "data": {
      "text/plain": [
       "Index(['Unnamed: 0.1', 'Unnamed: 0', 'Wikipedia_movie_ID', 'Freebase_movie_ID',\n",
       "       'Movie_name', 'Movie_release_date', 'Movie_box_office_revenue',\n",
       "       'Movie_runtime', 'Movie_countries', 'Movie_main_genre',\n",
       "       'Box_office_adjusted', 'Director', 'Audience_imdb_rating',\n",
       "       'Audience_imdb_count', 'Budget', 'Character_in_title', 'Profit',\n",
       "       'Budget_adjusted', 'Production Companies', 'Revenu_standardized',\n",
       "       'Profit_standardized', 'imdb_rating_standardized', 'Success_indicator',\n",
       "       'Actor_name', 'Freebase_character_ID', 'Famous_actors_count',\n",
       "       'IsFamousStudio', 'IsFamousDirector', 'Budget_standardized',\n",
       "       'Title_length', 'Title_characters', 'Nouns', 'Pronouns', 'Adjectives',\n",
       "       'Verbs', 'Adverbs', 'Prepositions', 'Conjunctions', 'Interjections',\n",
       "       'ORGANIZATION', 'PERSON', 'LOCATION', 'DATE', 'TIME', 'MONEY',\n",
       "       'PERCENT', 'FACILITY', 'GPE', 'pos_sentiment', 'neg_sentiment'],\n",
       "      dtype='object')"
      ]
     },
     "execution_count": 38,
     "metadata": {},
     "output_type": "execute_result"
    }
   ],
   "source": [
    "key_features.columns"
   ]
  },
  {
   "cell_type": "code",
   "execution_count": 39,
   "id": "af7032a8-c92e-427a-874c-57be50a03b84",
   "metadata": {
    "execution": {
     "iopub.execute_input": "2023-12-15T18:54:35.276819Z",
     "iopub.status.busy": "2023-12-15T18:54:35.276011Z",
     "iopub.status.idle": "2023-12-15T18:54:35.291912Z",
     "shell.execute_reply": "2023-12-15T18:54:35.289877Z",
     "shell.execute_reply.started": "2023-12-15T18:54:35.276750Z"
    },
    "tags": []
   },
   "outputs": [],
   "source": [
    "key_features_title = key_features[[\"Movie_name\", \"Success_indicator\",\"Title_length\",\"Title_characters\",\"Nouns\",\"Pronouns\",\"Adjectives\",\"Verbs\",\"Adverbs\", 'Prepositions', 'Conjunctions', 'Interjections',\n",
    "       'ORGANIZATION', 'PERSON', 'LOCATION', 'DATE', 'TIME', 'MONEY','PERCENT', 'FACILITY', 'GPE', 'pos_sentiment', 'neg_sentiment']]"
   ]
  },
  {
   "cell_type": "code",
   "execution_count": 40,
   "id": "043a25cb-550c-42df-95e2-ccc7fce9cb3d",
   "metadata": {
    "execution": {
     "iopub.execute_input": "2023-12-15T18:54:35.420880Z",
     "iopub.status.busy": "2023-12-15T18:54:35.420244Z",
     "iopub.status.idle": "2023-12-15T18:54:35.461092Z",
     "shell.execute_reply": "2023-12-15T18:54:35.459914Z",
     "shell.execute_reply.started": "2023-12-15T18:54:35.420822Z"
    },
    "tags": []
   },
   "outputs": [
    {
     "data": {
      "text/html": [
       "<div>\n",
       "<style scoped>\n",
       "    .dataframe tbody tr th:only-of-type {\n",
       "        vertical-align: middle;\n",
       "    }\n",
       "\n",
       "    .dataframe tbody tr th {\n",
       "        vertical-align: top;\n",
       "    }\n",
       "\n",
       "    .dataframe thead th {\n",
       "        text-align: right;\n",
       "    }\n",
       "</style>\n",
       "<table border=\"1\" class=\"dataframe\">\n",
       "  <thead>\n",
       "    <tr style=\"text-align: right;\">\n",
       "      <th></th>\n",
       "      <th>Movie_name</th>\n",
       "      <th>Success_indicator</th>\n",
       "      <th>Title_length</th>\n",
       "      <th>Title_characters</th>\n",
       "      <th>Nouns</th>\n",
       "      <th>Pronouns</th>\n",
       "      <th>Adjectives</th>\n",
       "      <th>Verbs</th>\n",
       "      <th>Adverbs</th>\n",
       "      <th>Prepositions</th>\n",
       "      <th>...</th>\n",
       "      <th>PERSON</th>\n",
       "      <th>LOCATION</th>\n",
       "      <th>DATE</th>\n",
       "      <th>TIME</th>\n",
       "      <th>MONEY</th>\n",
       "      <th>PERCENT</th>\n",
       "      <th>FACILITY</th>\n",
       "      <th>GPE</th>\n",
       "      <th>pos_sentiment</th>\n",
       "      <th>neg_sentiment</th>\n",
       "    </tr>\n",
       "  </thead>\n",
       "  <tbody>\n",
       "    <tr>\n",
       "      <th>0</th>\n",
       "      <td>['army', 'of', 'darkness']</td>\n",
       "      <td>0.470781</td>\n",
       "      <td>3</td>\n",
       "      <td>16</td>\n",
       "      <td>2</td>\n",
       "      <td>0</td>\n",
       "      <td>0</td>\n",
       "      <td>0</td>\n",
       "      <td>0</td>\n",
       "      <td>1</td>\n",
       "      <td>...</td>\n",
       "      <td>0</td>\n",
       "      <td>0</td>\n",
       "      <td>0</td>\n",
       "      <td>0</td>\n",
       "      <td>0</td>\n",
       "      <td>0</td>\n",
       "      <td>0</td>\n",
       "      <td>0</td>\n",
       "      <td>0.0</td>\n",
       "      <td>0.500</td>\n",
       "    </tr>\n",
       "    <tr>\n",
       "      <th>1</th>\n",
       "      <td>['blue', 'velvet']</td>\n",
       "      <td>0.551225</td>\n",
       "      <td>2</td>\n",
       "      <td>11</td>\n",
       "      <td>2</td>\n",
       "      <td>0</td>\n",
       "      <td>0</td>\n",
       "      <td>0</td>\n",
       "      <td>0</td>\n",
       "      <td>0</td>\n",
       "      <td>...</td>\n",
       "      <td>1</td>\n",
       "      <td>0</td>\n",
       "      <td>0</td>\n",
       "      <td>0</td>\n",
       "      <td>0</td>\n",
       "      <td>0</td>\n",
       "      <td>0</td>\n",
       "      <td>0</td>\n",
       "      <td>0.0</td>\n",
       "      <td>0.000</td>\n",
       "    </tr>\n",
       "    <tr>\n",
       "      <th>2</th>\n",
       "      <td>['buffy', 'the', 'vampire', 'slayer']</td>\n",
       "      <td>-0.453017</td>\n",
       "      <td>4</td>\n",
       "      <td>24</td>\n",
       "      <td>2</td>\n",
       "      <td>0</td>\n",
       "      <td>0</td>\n",
       "      <td>0</td>\n",
       "      <td>0</td>\n",
       "      <td>1</td>\n",
       "      <td>...</td>\n",
       "      <td>0</td>\n",
       "      <td>0</td>\n",
       "      <td>0</td>\n",
       "      <td>0</td>\n",
       "      <td>0</td>\n",
       "      <td>0</td>\n",
       "      <td>0</td>\n",
       "      <td>0</td>\n",
       "      <td>0.0</td>\n",
       "      <td>0.000</td>\n",
       "    </tr>\n",
       "    <tr>\n",
       "      <th>3</th>\n",
       "      <td>['batman', 'returns']</td>\n",
       "      <td>1.779560</td>\n",
       "      <td>2</td>\n",
       "      <td>14</td>\n",
       "      <td>2</td>\n",
       "      <td>0</td>\n",
       "      <td>0</td>\n",
       "      <td>0</td>\n",
       "      <td>0</td>\n",
       "      <td>0</td>\n",
       "      <td>...</td>\n",
       "      <td>1</td>\n",
       "      <td>0</td>\n",
       "      <td>0</td>\n",
       "      <td>0</td>\n",
       "      <td>0</td>\n",
       "      <td>0</td>\n",
       "      <td>0</td>\n",
       "      <td>0</td>\n",
       "      <td>0.0</td>\n",
       "      <td>0.000</td>\n",
       "    </tr>\n",
       "    <tr>\n",
       "      <th>4</th>\n",
       "      <td>['citizen', 'kane']</td>\n",
       "      <td>0.825333</td>\n",
       "      <td>2</td>\n",
       "      <td>12</td>\n",
       "      <td>2</td>\n",
       "      <td>0</td>\n",
       "      <td>0</td>\n",
       "      <td>0</td>\n",
       "      <td>0</td>\n",
       "      <td>0</td>\n",
       "      <td>...</td>\n",
       "      <td>1</td>\n",
       "      <td>0</td>\n",
       "      <td>0</td>\n",
       "      <td>0</td>\n",
       "      <td>0</td>\n",
       "      <td>0</td>\n",
       "      <td>0</td>\n",
       "      <td>0</td>\n",
       "      <td>0.0</td>\n",
       "      <td>0.000</td>\n",
       "    </tr>\n",
       "    <tr>\n",
       "      <th>...</th>\n",
       "      <td>...</td>\n",
       "      <td>...</td>\n",
       "      <td>...</td>\n",
       "      <td>...</td>\n",
       "      <td>...</td>\n",
       "      <td>...</td>\n",
       "      <td>...</td>\n",
       "      <td>...</td>\n",
       "      <td>...</td>\n",
       "      <td>...</td>\n",
       "      <td>...</td>\n",
       "      <td>...</td>\n",
       "      <td>...</td>\n",
       "      <td>...</td>\n",
       "      <td>...</td>\n",
       "      <td>...</td>\n",
       "      <td>...</td>\n",
       "      <td>...</td>\n",
       "      <td>...</td>\n",
       "      <td>...</td>\n",
       "      <td>...</td>\n",
       "    </tr>\n",
       "    <tr>\n",
       "      <th>2625</th>\n",
       "      <td>['the', 'pact']</td>\n",
       "      <td>-0.527991</td>\n",
       "      <td>2</td>\n",
       "      <td>8</td>\n",
       "      <td>1</td>\n",
       "      <td>0</td>\n",
       "      <td>0</td>\n",
       "      <td>0</td>\n",
       "      <td>0</td>\n",
       "      <td>0</td>\n",
       "      <td>...</td>\n",
       "      <td>0</td>\n",
       "      <td>0</td>\n",
       "      <td>0</td>\n",
       "      <td>0</td>\n",
       "      <td>0</td>\n",
       "      <td>0</td>\n",
       "      <td>0</td>\n",
       "      <td>0</td>\n",
       "      <td>0.0</td>\n",
       "      <td>0.000</td>\n",
       "    </tr>\n",
       "    <tr>\n",
       "      <th>2626</th>\n",
       "      <td>['moonshine', 'county', 'express']</td>\n",
       "      <td>-0.493803</td>\n",
       "      <td>3</td>\n",
       "      <td>24</td>\n",
       "      <td>3</td>\n",
       "      <td>0</td>\n",
       "      <td>0</td>\n",
       "      <td>0</td>\n",
       "      <td>0</td>\n",
       "      <td>0</td>\n",
       "      <td>...</td>\n",
       "      <td>1</td>\n",
       "      <td>0</td>\n",
       "      <td>0</td>\n",
       "      <td>0</td>\n",
       "      <td>0</td>\n",
       "      <td>0</td>\n",
       "      <td>0</td>\n",
       "      <td>0</td>\n",
       "      <td>0.0</td>\n",
       "      <td>0.000</td>\n",
       "    </tr>\n",
       "    <tr>\n",
       "      <th>2627</th>\n",
       "      <td>['trading', 'mom']</td>\n",
       "      <td>-0.708376</td>\n",
       "      <td>2</td>\n",
       "      <td>11</td>\n",
       "      <td>2</td>\n",
       "      <td>0</td>\n",
       "      <td>0</td>\n",
       "      <td>0</td>\n",
       "      <td>0</td>\n",
       "      <td>0</td>\n",
       "      <td>...</td>\n",
       "      <td>0</td>\n",
       "      <td>0</td>\n",
       "      <td>0</td>\n",
       "      <td>0</td>\n",
       "      <td>0</td>\n",
       "      <td>0</td>\n",
       "      <td>0</td>\n",
       "      <td>1</td>\n",
       "      <td>0.0</td>\n",
       "      <td>0.000</td>\n",
       "    </tr>\n",
       "    <tr>\n",
       "      <th>2628</th>\n",
       "      <td>['the', 'man', 'behind', 'the', 'gun']</td>\n",
       "      <td>-0.435199</td>\n",
       "      <td>5</td>\n",
       "      <td>22</td>\n",
       "      <td>2</td>\n",
       "      <td>0</td>\n",
       "      <td>0</td>\n",
       "      <td>0</td>\n",
       "      <td>0</td>\n",
       "      <td>1</td>\n",
       "      <td>...</td>\n",
       "      <td>0</td>\n",
       "      <td>0</td>\n",
       "      <td>0</td>\n",
       "      <td>0</td>\n",
       "      <td>0</td>\n",
       "      <td>0</td>\n",
       "      <td>0</td>\n",
       "      <td>0</td>\n",
       "      <td>0.0</td>\n",
       "      <td>0.375</td>\n",
       "    </tr>\n",
       "    <tr>\n",
       "      <th>2629</th>\n",
       "      <td>['take', 'me', 'to', 'town']</td>\n",
       "      <td>-0.178051</td>\n",
       "      <td>4</td>\n",
       "      <td>15</td>\n",
       "      <td>1</td>\n",
       "      <td>0</td>\n",
       "      <td>0</td>\n",
       "      <td>2</td>\n",
       "      <td>0</td>\n",
       "      <td>0</td>\n",
       "      <td>...</td>\n",
       "      <td>0</td>\n",
       "      <td>0</td>\n",
       "      <td>0</td>\n",
       "      <td>0</td>\n",
       "      <td>0</td>\n",
       "      <td>0</td>\n",
       "      <td>0</td>\n",
       "      <td>0</td>\n",
       "      <td>0.0</td>\n",
       "      <td>0.000</td>\n",
       "    </tr>\n",
       "  </tbody>\n",
       "</table>\n",
       "<p>2630 rows × 23 columns</p>\n",
       "</div>"
      ],
      "text/plain": [
       "                                  Movie_name  Success_indicator  Title_length  \\\n",
       "0                 ['army', 'of', 'darkness']           0.470781             3   \n",
       "1                         ['blue', 'velvet']           0.551225             2   \n",
       "2      ['buffy', 'the', 'vampire', 'slayer']          -0.453017             4   \n",
       "3                      ['batman', 'returns']           1.779560             2   \n",
       "4                        ['citizen', 'kane']           0.825333             2   \n",
       "...                                      ...                ...           ...   \n",
       "2625                         ['the', 'pact']          -0.527991             2   \n",
       "2626      ['moonshine', 'county', 'express']          -0.493803             3   \n",
       "2627                      ['trading', 'mom']          -0.708376             2   \n",
       "2628  ['the', 'man', 'behind', 'the', 'gun']          -0.435199             5   \n",
       "2629            ['take', 'me', 'to', 'town']          -0.178051             4   \n",
       "\n",
       "      Title_characters  Nouns  Pronouns  Adjectives  Verbs  Adverbs  \\\n",
       "0                   16      2         0           0      0        0   \n",
       "1                   11      2         0           0      0        0   \n",
       "2                   24      2         0           0      0        0   \n",
       "3                   14      2         0           0      0        0   \n",
       "4                   12      2         0           0      0        0   \n",
       "...                ...    ...       ...         ...    ...      ...   \n",
       "2625                 8      1         0           0      0        0   \n",
       "2626                24      3         0           0      0        0   \n",
       "2627                11      2         0           0      0        0   \n",
       "2628                22      2         0           0      0        0   \n",
       "2629                15      1         0           0      2        0   \n",
       "\n",
       "      Prepositions  ...  PERSON  LOCATION  DATE  TIME  MONEY  PERCENT  \\\n",
       "0                1  ...       0         0     0     0      0        0   \n",
       "1                0  ...       1         0     0     0      0        0   \n",
       "2                1  ...       0         0     0     0      0        0   \n",
       "3                0  ...       1         0     0     0      0        0   \n",
       "4                0  ...       1         0     0     0      0        0   \n",
       "...            ...  ...     ...       ...   ...   ...    ...      ...   \n",
       "2625             0  ...       0         0     0     0      0        0   \n",
       "2626             0  ...       1         0     0     0      0        0   \n",
       "2627             0  ...       0         0     0     0      0        0   \n",
       "2628             1  ...       0         0     0     0      0        0   \n",
       "2629             0  ...       0         0     0     0      0        0   \n",
       "\n",
       "      FACILITY  GPE  pos_sentiment  neg_sentiment  \n",
       "0            0    0            0.0          0.500  \n",
       "1            0    0            0.0          0.000  \n",
       "2            0    0            0.0          0.000  \n",
       "3            0    0            0.0          0.000  \n",
       "4            0    0            0.0          0.000  \n",
       "...        ...  ...            ...            ...  \n",
       "2625         0    0            0.0          0.000  \n",
       "2626         0    0            0.0          0.000  \n",
       "2627         0    1            0.0          0.000  \n",
       "2628         0    0            0.0          0.375  \n",
       "2629         0    0            0.0          0.000  \n",
       "\n",
       "[2630 rows x 23 columns]"
      ]
     },
     "execution_count": 40,
     "metadata": {},
     "output_type": "execute_result"
    }
   ],
   "source": [
    "key_features_title"
   ]
  },
  {
   "cell_type": "code",
   "execution_count": 41,
   "id": "2c845a37-6103-4bba-b440-df921035503d",
   "metadata": {
    "execution": {
     "iopub.execute_input": "2023-12-15T18:54:35.552279Z",
     "iopub.status.busy": "2023-12-15T18:54:35.550124Z",
     "iopub.status.idle": "2023-12-15T18:54:35.559230Z",
     "shell.execute_reply": "2023-12-15T18:54:35.557433Z",
     "shell.execute_reply.started": "2023-12-15T18:54:35.552197Z"
    },
    "tags": []
   },
   "outputs": [],
   "source": [
    "#key_features_title[\"Success_indicator\"] = np.floor(key_features_title[\"Success_indicator\"]/100) +1"
   ]
  },
  {
   "cell_type": "code",
   "execution_count": 42,
   "id": "e4ed1e1d-69a6-40fc-b2be-8a4af56fbd1c",
   "metadata": {
    "execution": {
     "iopub.execute_input": "2023-12-15T18:54:35.701726Z",
     "iopub.status.busy": "2023-12-15T18:54:35.700033Z",
     "iopub.status.idle": "2023-12-15T18:54:35.714235Z",
     "shell.execute_reply": "2023-12-15T18:54:35.711539Z",
     "shell.execute_reply.started": "2023-12-15T18:54:35.701647Z"
    },
    "tags": []
   },
   "outputs": [],
   "source": [
    "#key_features_title[\"Success_indicator\"] = key_features_title[\"Success_indicator\"].astype(\"int64\")"
   ]
  },
  {
   "cell_type": "code",
   "execution_count": 43,
   "id": "e63d88c3-eb7c-4aad-8824-c512b27827eb",
   "metadata": {
    "execution": {
     "iopub.execute_input": "2023-12-15T18:54:35.864263Z",
     "iopub.status.busy": "2023-12-15T18:54:35.863472Z",
     "iopub.status.idle": "2023-12-15T18:54:35.874729Z",
     "shell.execute_reply": "2023-12-15T18:54:35.872302Z",
     "shell.execute_reply.started": "2023-12-15T18:54:35.864194Z"
    },
    "tags": []
   },
   "outputs": [],
   "source": [
    "def normalize(x):\n",
    "    return (x-np.mean(x))/np.std(x)"
   ]
  },
  {
   "cell_type": "code",
   "execution_count": 44,
   "id": "2a60d8a5-8620-44f6-aa13-1ff8a05b84f6",
   "metadata": {
    "execution": {
     "iopub.execute_input": "2023-12-15T18:54:36.037330Z",
     "iopub.status.busy": "2023-12-15T18:54:36.035531Z",
     "iopub.status.idle": "2023-12-15T18:54:36.099185Z",
     "shell.execute_reply": "2023-12-15T18:54:36.096903Z",
     "shell.execute_reply.started": "2023-12-15T18:54:36.037243Z"
    },
    "tags": []
   },
   "outputs": [
    {
     "name": "stderr",
     "output_type": "stream",
     "text": [
      "/tmp/ipykernel_91/908036668.py:4: SettingWithCopyWarning: \n",
      "A value is trying to be set on a copy of a slice from a DataFrame.\n",
      "Try using .loc[row_indexer,col_indexer] = value instead\n",
      "\n",
      "See the caveats in the documentation: https://pandas.pydata.org/pandas-docs/stable/user_guide/indexing.html#returning-a-view-versus-a-copy\n",
      "  key_features_title[i] = normalize(key_features_title[i])\n"
     ]
    }
   ],
   "source": [
    "for i in key_features_title.columns:\n",
    "    if i != \"Movie_name\":\n",
    "        if i != \"Success_indicator\":\n",
    "            key_features_title[i] = normalize(key_features_title[i])"
   ]
  },
  {
   "cell_type": "code",
   "execution_count": 45,
   "id": "e1681a3e-e284-49a3-88b9-e4dba63e751c",
   "metadata": {
    "execution": {
     "iopub.execute_input": "2023-12-15T18:54:36.212418Z",
     "iopub.status.busy": "2023-12-15T18:54:36.210276Z",
     "iopub.status.idle": "2023-12-15T18:54:36.230200Z",
     "shell.execute_reply": "2023-12-15T18:54:36.228134Z",
     "shell.execute_reply.started": "2023-12-15T18:54:36.212326Z"
    },
    "tags": []
   },
   "outputs": [
    {
     "data": {
      "text/plain": [
       "0       1.826629\n",
       "1      -0.378345\n",
       "2      -0.378345\n",
       "3      -0.378345\n",
       "4      -0.378345\n",
       "          ...   \n",
       "2625   -0.378345\n",
       "2626   -0.378345\n",
       "2627   -0.378345\n",
       "2628    1.275385\n",
       "2629   -0.378345\n",
       "Name: neg_sentiment, Length: 2630, dtype: float64"
      ]
     },
     "execution_count": 45,
     "metadata": {},
     "output_type": "execute_result"
    }
   ],
   "source": [
    "key_features_title[\"neg_sentiment\"]"
   ]
  },
  {
   "cell_type": "code",
   "execution_count": 46,
   "id": "ed68eb87-d27f-4633-9f4a-0229e55e8466",
   "metadata": {
    "execution": {
     "iopub.execute_input": "2023-12-15T18:54:40.005434Z",
     "iopub.status.busy": "2023-12-15T18:54:40.004445Z",
     "iopub.status.idle": "2023-12-15T18:54:40.023835Z",
     "shell.execute_reply": "2023-12-15T18:54:40.021148Z",
     "shell.execute_reply.started": "2023-12-15T18:54:40.005358Z"
    },
    "tags": []
   },
   "outputs": [],
   "source": [
    "# Load the data\n",
    "X = key_features_title[[\"Title_length\",\"Title_characters\",\"Nouns\",\"Pronouns\",\"Adjectives\",\"Verbs\",\"Adverbs\", 'Prepositions', 'Conjunctions', 'Interjections',\n",
    "       'ORGANIZATION', 'PERSON', 'LOCATION', 'FACILITY', 'GPE', 'pos_sentiment', 'neg_sentiment']]\n",
    "\n",
    "y = key_features_title['Success_indicator']"
   ]
  },
  {
   "cell_type": "code",
   "execution_count": 13,
   "id": "3a67017f-b163-4a62-b364-1be9115db795",
   "metadata": {
    "execution": {
     "iopub.execute_input": "2023-12-15T18:43:33.157906Z",
     "iopub.status.busy": "2023-12-15T18:43:33.157314Z",
     "iopub.status.idle": "2023-12-15T18:46:38.711496Z",
     "shell.execute_reply": "2023-12-15T18:46:38.709593Z",
     "shell.execute_reply.started": "2023-12-15T18:43:33.157853Z"
    },
    "tags": []
   },
   "outputs": [],
   "source": [
    "from sklearn.ensemble import RandomForestClassifier\n",
    "\n",
    "number_trees = [i for i in range(1,20)]\n",
    "precision_scores = []\n",
    "recalls_scores = []\n",
    "\n",
    "key_features_title_copy = key_features_title.copy(deep=True)\n",
    "\n",
    "key_features_title_copy[\"Success_indicator\"] = np.floor(key_features_title_copy[\"Success_indicator\"]/100) +1\n",
    "key_features_title_copy[\"Success_indicator\"] = key_features_title_copy[\"Success_indicator\"].astype(\"int64\")\n",
    "\n",
    "X = key_features_title_copy[[\"Title_length\",\"Title_characters\",\"Nouns\",\"Pronouns\",\"Adjectives\",\"Verbs\",\"Adverbs\", 'Prepositions', 'Conjunctions', 'Interjections',\n",
    "       'ORGANIZATION', 'PERSON', 'LOCATION', 'FACILITY', 'GPE', 'pos_sentiment', 'neg_sentiment']]\n",
    "\n",
    "y = key_features_title_copy['Success_indicator']\n",
    "\n",
    "\n",
    "for nt in number_trees:\n",
    "    clf = RandomForestClassifier(max_depth=20, random_state= 10, n_estimators=nt)\n",
    "    clf.fit(X, y)\n",
    "    precision = cross_val_score(clf, X, y, cv=100, scoring=\"precision\")\n",
    "    precision_scores.append(precision.mean())\n",
    "    recall = cross_val_score(clf, X, y, cv=100, scoring=\"recall\")\n",
    "    recalls_scores.append(recall.mean())"
   ]
  },
  {
   "cell_type": "code",
   "execution_count": 14,
   "id": "cd948526-c4af-4ca5-9746-4f7aa7ca66c2",
   "metadata": {
    "execution": {
     "iopub.execute_input": "2023-12-15T18:46:38.713585Z",
     "iopub.status.busy": "2023-12-15T18:46:38.713298Z",
     "iopub.status.idle": "2023-12-15T18:46:39.100217Z",
     "shell.execute_reply": "2023-12-15T18:46:39.098269Z",
     "shell.execute_reply.started": "2023-12-15T18:46:38.713539Z"
    },
    "tags": []
   },
   "outputs": [
    {
     "data": {
      "text/plain": [
       "<matplotlib.legend.Legend at 0x7f40f465c3d0>"
      ]
     },
     "execution_count": 14,
     "metadata": {},
     "output_type": "execute_result"
    },
    {
     "data": {
      "image/png": "[encoded data removed]",
      "text/plain": [
       "<Figure size 600x400 with 1 Axes>"
      ]
     },
     "metadata": {},
     "output_type": "display_data"
    }
   ],
   "source": [
    "fig, ax = plt.subplots(1, figsize=(6,4))\n",
    "\n",
    "ax.plot(number_trees, precision_scores, label=\"Precision\")\n",
    "ax.plot(number_trees, recalls_scores, label=\"Recall\")\n",
    "\n",
    "ax.set_ylabel(\"Score value\")\n",
    "ax.set_xlabel(\"Number of trees\")\n",
    "ax.legend()"
   ]
  },
  {
   "cell_type": "code",
   "execution_count": 147,
   "id": "edb5d0bc-5227-4bb8-abfd-33df710f527b",
   "metadata": {
    "execution": {
     "iopub.execute_input": "2023-12-15T20:10:11.683322Z",
     "iopub.status.busy": "2023-12-15T20:10:11.681939Z",
     "iopub.status.idle": "2023-12-15T20:10:11.712805Z",
     "shell.execute_reply": "2023-12-15T20:10:11.710765Z",
     "shell.execute_reply.started": "2023-12-15T20:10:11.683214Z"
    },
    "tags": []
   },
   "outputs": [],
   "source": [
    "import numpy as np\n",
    "from sklearn.datasets import load_diabetes\n",
    "from sklearn.model_selection import train_test_split\n",
    "from sklearn.ensemble import RandomForestRegressor\n",
    "from sklearn.metrics import mean_squared_error\n",
    "import matplotlib.pyplot as plt\n",
    "from sklearn.model_selection import RandomizedSearchCV, GridSearchCV\n",
    "\n",
    "# Load the diabetes dataset\n",
    "X = key_features_title[[\"Title_length\",\"Title_characters\",\"Nouns\",\"Pronouns\",\"Adjectives\",\"Verbs\",\"Adverbs\", 'Prepositions', 'Conjunctions', 'Interjections',\n",
    "       'ORGANIZATION', 'PERSON', 'LOCATION', 'FACILITY', 'GPE', 'pos_sentiment', 'neg_sentiment']]\n",
    "\n",
    "y = key_features_title['Success_indicator']\n",
    "\n",
    "# Split the dataset into training and testing sets\n",
    "X_train, X_test, y_train, y_test = train_test_split(X, y, test_size=0.2, random_state=5)"
   ]
  },
  {
   "cell_type": "code",
   "execution_count": 148,
   "id": "6ade74e1-9f60-4380-bce7-86c23da9fcba",
   "metadata": {
    "execution": {
     "iopub.execute_input": "2023-12-15T20:10:12.247638Z",
     "iopub.status.busy": "2023-12-15T20:10:12.246290Z",
     "iopub.status.idle": "2023-12-15T20:10:39.487872Z",
     "shell.execute_reply": "2023-12-15T20:10:39.486644Z",
     "shell.execute_reply.started": "2023-12-15T20:10:12.247538Z"
    },
    "tags": []
   },
   "outputs": [
    {
     "name": "stdout",
     "output_type": "stream",
     "text": [
      "RandomForestRegressor(max_depth=24, max_features='log2', max_leaf_nodes=15,\n",
      "                      n_estimators=50)\n"
     ]
    }
   ],
   "source": [
    "param_grid = { \n",
    "    'n_estimators': [25, 50, 100, 150,200,300,400,500], \n",
    "    'max_features': ['sqrt', 'log2', None], \n",
    "    'max_depth': [3, 6, 9, 12, 15, 18, 21, 24, 27, 30], \n",
    "    'max_leaf_nodes': [3, 6, 9, 12, 15, 18], \n",
    "}\n",
    "\n",
    "random_search = RandomizedSearchCV(RandomForestRegressor(), \n",
    "                                   param_grid) \n",
    "random_search.fit(X_train, y_train) \n",
    "print(random_search.best_estimator_) "
   ]
  },
  {
   "cell_type": "code",
   "execution_count": 152,
   "id": "9b90195d-2b87-4363-bee2-c3ab5c34b7a0",
   "metadata": {
    "execution": {
     "iopub.execute_input": "2023-12-15T20:11:32.863799Z",
     "iopub.status.busy": "2023-12-15T20:11:32.862584Z",
     "iopub.status.idle": "2023-12-15T20:11:33.682713Z",
     "shell.execute_reply": "2023-12-15T20:11:33.680221Z",
     "shell.execute_reply.started": "2023-12-15T20:11:32.863712Z"
    },
    "tags": []
   },
   "outputs": [
    {
     "name": "stdout",
     "output_type": "stream",
     "text": [
      "Mean Squared Error: 0.5757677233891236\n"
     ]
    }
   ],
   "source": [
    "rf_regressor_2 = RandomForestRegressor(max_depth=24, max_features='log2', max_leaf_nodes=15, n_estimators=300)\n",
    "rf_regressor_2.fit(X_train, y_train)\n",
    "\n",
    "# Make predictions on the test data\n",
    "y_pred = rf_regressor_2.predict(X_test)\n",
    "\n",
    "# Evaluate the model by calculating Mean Squared Error (MSE)\n",
    "mse = mean_squared_error(y_test, y_pred)\n",
    "print(f\"Mean Squared Error: {mse}\")"
   ]
  },
  {
   "cell_type": "code",
   "execution_count": 153,
   "id": "59e7e101-0a60-47e3-8dc1-b68dd24958c1",
   "metadata": {
    "execution": {
     "iopub.execute_input": "2023-12-15T20:11:41.461501Z",
     "iopub.status.busy": "2023-12-15T20:11:41.460633Z",
     "iopub.status.idle": "2023-12-15T20:11:42.378801Z",
     "shell.execute_reply": "2023-12-15T20:11:42.372652Z",
     "shell.execute_reply.started": "2023-12-15T20:11:41.461429Z"
    },
    "tags": []
   },
   "outputs": [
    {
     "data": {
      "image/png": "[encoded data removed]",
      "text/plain": [
       "<Figure size 800x600 with 1 Axes>"
      ]
     },
     "metadata": {},
     "output_type": "display_data"
    },
    {
     "data": {
      "image/png": "[encoded data removed]",
      "text/plain": [
       "<Figure size 1000x600 with 1 Axes>"
      ]
     },
     "metadata": {},
     "output_type": "display_data"
    }
   ],
   "source": [
    "# Scatter Plot for Predicted vs. Actual Values\n",
    "plt.figure(figsize=(8, 6))\n",
    "plt.scatter(y_test, y_pred)\n",
    "plt.title(\"Actual vs. Predicted Values\")\n",
    "plt.xlabel(\"Actual Values\")\n",
    "plt.ylabel(\"Predicted Values\")\n",
    "plt.show()\n",
    "\n",
    "\n",
    "# Feature Importance Plot\n",
    "feature_importance = rf_regressor_2.feature_importances_\n",
    "feature_names = X.columns\n",
    "\n",
    "plt.figure(figsize=(10, 6))\n",
    "plt.barh(feature_names, feature_importance, color='skyblue')\n",
    "plt.xlabel(\"Feature Importance\")\n",
    "plt.title(\"Feature Importance Plot\")\n",
    "plt.gca().invert_yaxis()\n",
    "plt.show()"
   ]
  },
  {
   "cell_type": "code",
   "execution_count": 106,
   "id": "0347ab17-1641-4707-acf4-facadc6952f2",
   "metadata": {
    "execution": {
     "iopub.execute_input": "2023-12-15T19:54:54.742136Z",
     "iopub.status.busy": "2023-12-15T19:54:54.741275Z",
     "iopub.status.idle": "2023-12-15T19:54:54.753384Z",
     "shell.execute_reply": "2023-12-15T19:54:54.751057Z",
     "shell.execute_reply.started": "2023-12-15T19:54:54.742065Z"
    },
    "tags": []
   },
   "outputs": [],
   "source": [
    "import pandas as pd\n",
    "import numpy as np\n",
    "import seaborn as sns\n",
    "import json\n",
    "import string\n",
    "import requests\n",
    "import matplotlib.pyplot as plt"
   ]
  },
  {
   "cell_type": "code",
   "execution_count": 107,
   "id": "d1c8c17c-9457-4b8c-a003-d91c5a8858c1",
   "metadata": {
    "execution": {
     "iopub.execute_input": "2023-12-15T19:54:55.621190Z",
     "iopub.status.busy": "2023-12-15T19:54:55.619109Z",
     "iopub.status.idle": "2023-12-15T19:54:55.855763Z",
     "shell.execute_reply": "2023-12-15T19:54:55.854499Z",
     "shell.execute_reply.started": "2023-12-15T19:54:55.621114Z"
    },
    "tags": []
   },
   "outputs": [],
   "source": [
    "ratings_imdb = pd.read_csv('Data/imdb_movies_post2010.csv',sep=\";\", on_bad_lines='skip')"
   ]
  },
  {
   "cell_type": "code",
   "execution_count": 108,
   "id": "dbf94898-1aad-4c0c-be12-4ff043cc7873",
   "metadata": {
    "execution": {
     "iopub.execute_input": "2023-12-15T19:54:56.402431Z",
     "iopub.status.busy": "2023-12-15T19:54:56.401524Z",
     "iopub.status.idle": "2023-12-15T19:54:56.462740Z",
     "shell.execute_reply": "2023-12-15T19:54:56.461447Z",
     "shell.execute_reply.started": "2023-12-15T19:54:56.402357Z"
    },
    "tags": []
   },
   "outputs": [
    {
     "data": {
      "text/plain": [
       "Index(['Title', 'date', 'score', 'genre', 'overview', 'crew', 'orig_title',\n",
       "       'status', 'orig_lang', 'budget_x', 'revenue', 'country'],\n",
       "      dtype='object')"
      ]
     },
     "execution_count": 108,
     "metadata": {},
     "output_type": "execute_result"
    }
   ],
   "source": [
    "ratings_imdb = ratings_imdb[ratings_imdb.orig_lang == ' English']\n",
    "ratings_imdb['date'] = pd.to_datetime(ratings_imdb['date'])\n",
    "ratings_imdb['date'] = ratings_imdb['date'].dt.year\n",
    "ratings_imdb = ratings_imdb[ratings_imdb.date > 2012]\n",
    "ratings_imdb.dropna(subset=['revenue',\"score\"],inplace=True)\n",
    "\n",
    "ratings_imdb.columns"
   ]
  },
  {
   "cell_type": "code",
   "execution_count": 109,
   "id": "7d19ec11-3323-40d8-a324-bc72aadf9eb4",
   "metadata": {
    "execution": {
     "iopub.execute_input": "2023-12-15T19:54:57.357460Z",
     "iopub.status.busy": "2023-12-15T19:54:57.356668Z",
     "iopub.status.idle": "2023-12-15T19:54:57.379705Z",
     "shell.execute_reply": "2023-12-15T19:54:57.377804Z",
     "shell.execute_reply.started": "2023-12-15T19:54:57.357390Z"
    },
    "tags": []
   },
   "outputs": [],
   "source": [
    "ratings_imdb['revenue'] = ratings_imdb['revenue'].astype('float64')\n",
    "ratings_imdb['revenue'] = np.floor(ratings_imdb['revenue'])\n",
    "ratings_imdb = ratings_imdb[ratings_imdb['revenue']>0]"
   ]
  },
  {
   "cell_type": "code",
   "execution_count": 110,
   "id": "973791ff-1c2d-4db1-9515-1d6143b4ae28",
   "metadata": {
    "execution": {
     "iopub.execute_input": "2023-12-15T19:54:57.962979Z",
     "iopub.status.busy": "2023-12-15T19:54:57.962201Z",
     "iopub.status.idle": "2023-12-15T19:54:57.982005Z",
     "shell.execute_reply": "2023-12-15T19:54:57.979948Z",
     "shell.execute_reply.started": "2023-12-15T19:54:57.962913Z"
    },
    "tags": []
   },
   "outputs": [],
   "source": [
    "ratings_imdb['imdb_rating_standardized'] = (ratings_imdb['score']-ratings_imdb['score'].mean())/ ratings_imdb['score'].std()\n",
    "ratings_imdb['Revenu_standardized'] = (ratings_imdb['revenue']-ratings_imdb['revenue'].mean())/ ratings_imdb['revenue'].std()"
   ]
  },
  {
   "cell_type": "code",
   "execution_count": 111,
   "id": "9972183e-8457-4d7e-83ec-ebed75f26303",
   "metadata": {
    "execution": {
     "iopub.execute_input": "2023-12-15T19:54:58.565758Z",
     "iopub.status.busy": "2023-12-15T19:54:58.564912Z",
     "iopub.status.idle": "2023-12-15T19:54:58.602081Z",
     "shell.execute_reply": "2023-12-15T19:54:58.600642Z",
     "shell.execute_reply.started": "2023-12-15T19:54:58.565690Z"
    },
    "tags": []
   },
   "outputs": [
    {
     "data": {
      "text/html": [
       "<div>\n",
       "<style scoped>\n",
       "    .dataframe tbody tr th:only-of-type {\n",
       "        vertical-align: middle;\n",
       "    }\n",
       "\n",
       "    .dataframe tbody tr th {\n",
       "        vertical-align: top;\n",
       "    }\n",
       "\n",
       "    .dataframe thead th {\n",
       "        text-align: right;\n",
       "    }\n",
       "</style>\n",
       "<table border=\"1\" class=\"dataframe\">\n",
       "  <thead>\n",
       "    <tr style=\"text-align: right;\">\n",
       "      <th></th>\n",
       "      <th>Title</th>\n",
       "      <th>date</th>\n",
       "      <th>score</th>\n",
       "      <th>genre</th>\n",
       "      <th>overview</th>\n",
       "      <th>crew</th>\n",
       "      <th>orig_title</th>\n",
       "      <th>status</th>\n",
       "      <th>orig_lang</th>\n",
       "      <th>budget_x</th>\n",
       "      <th>revenue</th>\n",
       "      <th>country</th>\n",
       "      <th>imdb_rating_standardized</th>\n",
       "      <th>Revenu_standardized</th>\n",
       "      <th>Success_indicator</th>\n",
       "    </tr>\n",
       "  </thead>\n",
       "  <tbody>\n",
       "    <tr>\n",
       "      <th>1</th>\n",
       "      <td>Seal Team</td>\n",
       "      <td>2021</td>\n",
       "      <td>71.0</td>\n",
       "      <td>Animation, Family</td>\n",
       "      <td>After his best friend is killed in a shark att...</td>\n",
       "      <td>Jessie T. Usher, Quinn (voice), J.K. Simmons, ...</td>\n",
       "      <td>Seal Team</td>\n",
       "      <td>Released</td>\n",
       "      <td>English</td>\n",
       "      <td>81300000.0</td>\n",
       "      <td>409447432.0</td>\n",
       "      <td>US</td>\n",
       "      <td>0.609541</td>\n",
       "      <td>0.422433</td>\n",
       "      <td>0.515987</td>\n",
       "    </tr>\n",
       "    <tr>\n",
       "      <th>2</th>\n",
       "      <td>Pieces of a Woman</td>\n",
       "      <td>2020</td>\n",
       "      <td>71.0</td>\n",
       "      <td>Drama</td>\n",
       "      <td>When a young mother's home birth ends in unfat...</td>\n",
       "      <td>Vanessa Kirby, Martha Weiss, Shia LaBeouf, Sea...</td>\n",
       "      <td>Pieces of a Woman</td>\n",
       "      <td>Released</td>\n",
       "      <td>English</td>\n",
       "      <td>100000000.0</td>\n",
       "      <td>369861963.0</td>\n",
       "      <td>AU</td>\n",
       "      <td>0.609541</td>\n",
       "      <td>0.285928</td>\n",
       "      <td>0.447734</td>\n",
       "    </tr>\n",
       "    <tr>\n",
       "      <th>3</th>\n",
       "      <td>Abigail</td>\n",
       "      <td>2019</td>\n",
       "      <td>62.0</td>\n",
       "      <td>Adventure, Fantasy, Mystery</td>\n",
       "      <td>A young girl Abigail lives in a city whose bor...</td>\n",
       "      <td>Tinatin Dalakishvili, Эбигейл Фостер, Rinal Mu...</td>\n",
       "      <td>Abigail</td>\n",
       "      <td>Released</td>\n",
       "      <td>English</td>\n",
       "      <td>7000000.0</td>\n",
       "      <td>1940234.0</td>\n",
       "      <td>US</td>\n",
       "      <td>-0.053181</td>\n",
       "      <td>-0.982801</td>\n",
       "      <td>-0.517991</td>\n",
       "    </tr>\n",
       "    <tr>\n",
       "      <th>4</th>\n",
       "      <td>Taylor Swift: Reputation Stadium Tour</td>\n",
       "      <td>2018</td>\n",
       "      <td>83.0</td>\n",
       "      <td>Music</td>\n",
       "      <td>Taylor Swift takes the stage in Dallas for the...</td>\n",
       "      <td>Taylor Swift, Self, Charli XCX, Self, Camila C...</td>\n",
       "      <td>Taylor Swift: Reputation Stadium Tour</td>\n",
       "      <td>Released</td>\n",
       "      <td>English</td>\n",
       "      <td>123000000.0</td>\n",
       "      <td>597125772.0</td>\n",
       "      <td>US</td>\n",
       "      <td>1.493170</td>\n",
       "      <td>1.069617</td>\n",
       "      <td>1.281393</td>\n",
       "    </tr>\n",
       "    <tr>\n",
       "      <th>5</th>\n",
       "      <td>Cake</td>\n",
       "      <td>2014</td>\n",
       "      <td>63.0</td>\n",
       "      <td>Drama</td>\n",
       "      <td>After having visions of a member of her suppor...</td>\n",
       "      <td>Jennifer Aniston, Claire Bennett, Adriana Barr...</td>\n",
       "      <td>Cake</td>\n",
       "      <td>Released</td>\n",
       "      <td>English</td>\n",
       "      <td>7000000.0</td>\n",
       "      <td>2360281.0</td>\n",
       "      <td>US</td>\n",
       "      <td>0.020454</td>\n",
       "      <td>-0.981353</td>\n",
       "      <td>-0.480449</td>\n",
       "    </tr>\n",
       "  </tbody>\n",
       "</table>\n",
       "</div>"
      ],
      "text/plain": [
       "                                   Title  date  score  \\\n",
       "1                              Seal Team  2021   71.0   \n",
       "2                      Pieces of a Woman  2020   71.0   \n",
       "3                                Abigail  2019   62.0   \n",
       "4  Taylor Swift: Reputation Stadium Tour  2018   83.0   \n",
       "5                                   Cake  2014   63.0   \n",
       "\n",
       "                         genre  \\\n",
       "1            Animation, Family   \n",
       "2                        Drama   \n",
       "3  Adventure, Fantasy, Mystery   \n",
       "4                        Music   \n",
       "5                        Drama   \n",
       "\n",
       "                                            overview  \\\n",
       "1  After his best friend is killed in a shark att...   \n",
       "2  When a young mother's home birth ends in unfat...   \n",
       "3  A young girl Abigail lives in a city whose bor...   \n",
       "4  Taylor Swift takes the stage in Dallas for the...   \n",
       "5  After having visions of a member of her suppor...   \n",
       "\n",
       "                                                crew  \\\n",
       "1  Jessie T. Usher, Quinn (voice), J.K. Simmons, ...   \n",
       "2  Vanessa Kirby, Martha Weiss, Shia LaBeouf, Sea...   \n",
       "3  Tinatin Dalakishvili, Эбигейл Фостер, Rinal Mu...   \n",
       "4  Taylor Swift, Self, Charli XCX, Self, Camila C...   \n",
       "5  Jennifer Aniston, Claire Bennett, Adriana Barr...   \n",
       "\n",
       "                              orig_title     status orig_lang     budget_x  \\\n",
       "1                              Seal Team   Released   English   81300000.0   \n",
       "2                      Pieces of a Woman   Released   English  100000000.0   \n",
       "3                                Abigail   Released   English    7000000.0   \n",
       "4  Taylor Swift: Reputation Stadium Tour   Released   English  123000000.0   \n",
       "5                                   Cake   Released   English    7000000.0   \n",
       "\n",
       "       revenue country  imdb_rating_standardized  Revenu_standardized  \\\n",
       "1  409447432.0      US                  0.609541             0.422433   \n",
       "2  369861963.0      AU                  0.609541             0.285928   \n",
       "3    1940234.0      US                 -0.053181            -0.982801   \n",
       "4  597125772.0      US                  1.493170             1.069617   \n",
       "5    2360281.0      US                  0.020454            -0.981353   \n",
       "\n",
       "   Success_indicator  \n",
       "1           0.515987  \n",
       "2           0.447734  \n",
       "3          -0.517991  \n",
       "4           1.281393  \n",
       "5          -0.480449  "
      ]
     },
     "execution_count": 111,
     "metadata": {},
     "output_type": "execute_result"
    }
   ],
   "source": [
    "# Create an indicator for success, based on ratings and box office revenues\n",
    "ratings_imdb[\"Success_indicator\"]= (ratings_imdb['imdb_rating_standardized'] + ratings_imdb['Revenu_standardized'])/2\n",
    "ratings_imdb.head()"
   ]
  },
  {
   "cell_type": "code",
   "execution_count": 112,
   "id": "129ab266-dd61-4764-8fd4-6fa2e70ee151",
   "metadata": {
    "execution": {
     "iopub.execute_input": "2023-12-15T19:55:02.886855Z",
     "iopub.status.busy": "2023-12-15T19:55:02.886022Z",
     "iopub.status.idle": "2023-12-15T19:55:02.901139Z",
     "shell.execute_reply": "2023-12-15T19:55:02.899071Z",
     "shell.execute_reply.started": "2023-12-15T19:55:02.886784Z"
    },
    "tags": []
   },
   "outputs": [],
   "source": [
    "ratings_imdb = ratings_imdb[[\"Title\", \"date\", \"Success_indicator\"]]\n",
    "ratings_imdb.rename(columns={\"Title\": \"Movie_name\", \"date\": \"Movie_release_date\"}, inplace=True)"
   ]
  },
  {
   "cell_type": "code",
   "execution_count": 113,
   "id": "e6abf0b6-012c-4391-9e27-24b76db1b7ef",
   "metadata": {
    "execution": {
     "iopub.execute_input": "2023-12-15T19:55:04.061054Z",
     "iopub.status.busy": "2023-12-15T19:55:04.060039Z",
     "iopub.status.idle": "2023-12-15T19:55:04.178095Z",
     "shell.execute_reply": "2023-12-15T19:55:04.175476Z",
     "shell.execute_reply.started": "2023-12-15T19:55:04.060976Z"
    },
    "tags": []
   },
   "outputs": [],
   "source": [
    "ratings_imdb.to_csv(\"Data/success_data_after_2012.csv\")"
   ]
  },
  {
   "cell_type": "code",
   "execution_count": 154,
   "id": "b833dd1c-c2ea-48ff-9dc0-52bd87315561",
   "metadata": {
    "execution": {
     "iopub.execute_input": "2023-12-15T20:12:23.261520Z",
     "iopub.status.busy": "2023-12-15T20:12:23.260503Z",
     "iopub.status.idle": "2023-12-15T20:12:23.340936Z",
     "shell.execute_reply": "2023-12-15T20:12:23.339359Z",
     "shell.execute_reply.started": "2023-12-15T20:12:23.261446Z"
    },
    "tags": []
   },
   "outputs": [],
   "source": [
    "test_movies_after_2012 = pd.read_csv(\"Data/key_features_after_2012.csv\")\n",
    "\n",
    "for i in test_movies_after_2012.columns:\n",
    "    if i != \"Movie_name\":\n",
    "        if i != \"Success_indicator\":\n",
    "            test_movies_after_2012[i] = normalize(test_movies_after_2012[i])\n",
    "\n",
    "X_test = test_movies_after_2012[[\"Title_length\",\"Title_characters\",\"Nouns\",\"Pronouns\",\"Adjectives\",\"Verbs\",\"Adverbs\", 'Prepositions', 'Conjunctions', 'Interjections',\n",
    "       'ORGANIZATION', 'PERSON', 'LOCATION', 'FACILITY', 'GPE', 'pos_sentiment', 'neg_sentiment']]\n",
    "\n",
    "y_test = test_movies_after_2012['Success_indicator']\n",
    "\n",
    "# Split the dataset into training and testing sets\n"
   ]
  },
  {
   "cell_type": "code",
   "execution_count": 155,
   "id": "fde078fe-e8ba-477e-aefe-97b1e5fc8fdb",
   "metadata": {
    "execution": {
     "iopub.execute_input": "2023-12-15T20:12:54.967124Z",
     "iopub.status.busy": "2023-12-15T20:12:54.966188Z",
     "iopub.status.idle": "2023-12-15T20:12:55.125866Z",
     "shell.execute_reply": "2023-12-15T20:12:55.124584Z",
     "shell.execute_reply.started": "2023-12-15T20:12:54.967023Z"
    },
    "tags": []
   },
   "outputs": [
    {
     "name": "stdout",
     "output_type": "stream",
     "text": [
      "Mean Squared Error: 0.5597833784426542\n"
     ]
    }
   ],
   "source": [
    "# Make predictions on the test data\n",
    "y_pred = rf_regressor_2.predict(X_test)\n",
    "\n",
    "# Evaluate the model by calculating Mean Squared Error (MSE)\n",
    "mse = mean_squared_error(y_test, y_pred)\n",
    "print(f\"Mean Squared Error: {mse}\")"
   ]
  },
  {
   "cell_type": "code",
   "execution_count": 156,
   "id": "2d224862-c317-4a7b-a5aa-5136d704b67b",
   "metadata": {
    "execution": {
     "iopub.execute_input": "2023-12-15T20:12:57.903258Z",
     "iopub.status.busy": "2023-12-15T20:12:57.902384Z",
     "iopub.status.idle": "2023-12-15T20:12:58.737695Z",
     "shell.execute_reply": "2023-12-15T20:12:58.736478Z",
     "shell.execute_reply.started": "2023-12-15T20:12:57.903181Z"
    },
    "tags": []
   },
   "outputs": [
    {
     "data": {
      "image/png": "[encoded data removed]",
      "text/plain": [
       "<Figure size 800x600 with 1 Axes>"
      ]
     },
     "metadata": {},
     "output_type": "display_data"
    },
    {
     "data": {
      "image/png": "[encoded data removed]",
      "text/plain": [
       "<Figure size 1000x600 with 1 Axes>"
      ]
     },
     "metadata": {},
     "output_type": "display_data"
    }
   ],
   "source": [
    "# Scatter Plot for Predicted vs. Actual Values\n",
    "plt.figure(figsize=(8, 6))\n",
    "plt.scatter(y_test, y_pred, alpha=0.7)\n",
    "plt.title(\"Actual vs. Predicted Values\")\n",
    "plt.xlabel(\"Actual Values\")\n",
    "plt.ylabel(\"Predicted Values\")\n",
    "plt.show()\n",
    "\n",
    "\n",
    "# Feature Importance Plot\n",
    "feature_importance = rf_regressor.feature_importances_\n",
    "feature_names = X_test.columns\n",
    "\n",
    "plt.figure(figsize=(10, 6))\n",
    "plt.barh(feature_names, feature_importance, color='skyblue')\n",
    "plt.xlabel(\"Feature Importance\")\n",
    "plt.title(\"Feature Importance Plot\")\n",
    "plt.gca().invert_yaxis()\n",
    "plt.show()"
   ]
  }
 ],
 "metadata": {
  "kernelspec": {
   "display_name": "Python3",
   "language": "python",
   "name": "python3"
  },
  "language_info": {
   "codemirror_mode": {
    "name": "ipython",
    "version": 3
   },
   "file_extension": ".py",
   "mimetype": "text/x-python",
   "name": "python",
   "nbconvert_exporter": "python",
   "pygments_lexer": "ipython3",
   "version": "3.11.5"
  }
 },
 "nbformat": 4,
 "nbformat_minor": 5
}
