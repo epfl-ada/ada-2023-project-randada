{
 "cells": [
  {
   "cell_type": "markdown",
   "id": "67beb099-0c20-4431-be1d-df1c54bc0114",
   "metadata": {},
   "source": [
    "# First steps to clean the dataset:\n",
    "\n",
    "- Select only English movies\n",
    "- Select only full-length feature (movies of more than one hour long)\n",
    "- Remove movies for which we don't have the title"
   ]
  },
  {
   "cell_type": "code",
   "execution_count": 2,
   "id": "89d56d4a-bdd9-438a-a690-5cbffaba8284",
   "metadata": {
    "tags": []
   },
   "outputs": [],
   "source": [
    "import pandas as pd\n",
    "import seaborn as sns\n",
    "import matplotlib.pyplot as plt\n",
    "import requests\n",
    "import numpy as np\n",
    "import string\n",
    "import json"
   ]
  },
  {
   "cell_type": "code",
   "execution_count": 2,
   "id": "d0660acd-f658-4151-82cd-116d5d5063dd",
   "metadata": {
    "tags": []
   },
   "outputs": [],
   "source": [
    "character_metadata = pd.read_csv('Data/character.metadata.tsv', sep='\\t', names = ['Wikipedia_movie_ID',\n",
    "                                                                              'Freebase_movie_ID',\n",
    "                                                                              'Movie_release_date',\n",
    "                                                                              'Character_name',\n",
    "                                                                              'Actor_date_of_birth',\n",
    "                                                                              'Actor_gender',\n",
    "                                                                              'Actor_height',\n",
    "                                                                              'Actor_ethnicity',\n",
    "                                                                              'Actor_name',\n",
    "                                                                              'Actor_age_at_movie_release',\n",
    "                                                                              'Freebase_character/actor_map_ID',\n",
    "                                                                              'Freebase_character_ID',\n",
    "                                                                              'Freebase_actor_ID'])\n",
    "\n",
    "movie_metadata = pd.read_csv('Data/movie.metadata.tsv', sep='\\t', names = ['Wikipedia_movie_ID',\n",
    "                                                                              'Freebase_movie_ID',\n",
    "                                                                              'Movie_name',\n",
    "                                                                              'Movie_release_date',\n",
    "                                                                              'Movie_box_office_revenue',\n",
    "                                                                              'Movie_runtime',\n",
    "                                                                              'Movie_languages',\n",
    "                                                                              'Movie_countries',\n",
    "                                                                              'Movie_genres'])\n",
    "\n",
    "plot_summaries = pd.read_csv('Data/plot_summaries.txt', sep='\\t', names = ['Wikipedia_movie_ID',\n",
    "                                                                              'summary'])"
   ]
  },
  {
   "cell_type": "code",
   "execution_count": 3,
   "id": "831f40e2",
   "metadata": {
    "tags": []
   },
   "outputs": [
    {
     "ename": "KeyboardInterrupt",
     "evalue": "",
     "output_type": "error",
     "traceback": [
      "\u001b[0;31m---------------------------------------------------------------------------\u001b[0m",
      "\u001b[0;31mKeyboardInterrupt\u001b[0m                         Traceback (most recent call last)",
      "\u001b[1;32m/Users/blanchekerorgant/Documents/GitHub/2023/2023/ada-2023-project-randada/Projet/Data cleaning.ipynb Cell 4\u001b[0m line \u001b[0;36m1\n\u001b[1;32m     <a href='vscode-notebook-cell:/Users/blanchekerorgant/Documents/GitHub/2023/2023/ada-2023-project-randada/Projet/Data%20cleaning.ipynb#W3sZmlsZQ%3D%3D?line=9'>10</a>\u001b[0m         column[i]\u001b[39m=\u001b[39m\u001b[39mlist\u001b[39m(d\u001b[39m.\u001b[39mvalues()) \u001b[39m#change the dict into list\u001b[39;00m\n\u001b[1;32m     <a href='vscode-notebook-cell:/Users/blanchekerorgant/Documents/GitHub/2023/2023/ada-2023-project-randada/Projet/Data%20cleaning.ipynb#W3sZmlsZQ%3D%3D?line=11'>12</a>\u001b[0m readable(movie_metadata_readable[\u001b[39m'\u001b[39m\u001b[39mMovie_languages\u001b[39m\u001b[39m'\u001b[39m])\n\u001b[0;32m---> <a href='vscode-notebook-cell:/Users/blanchekerorgant/Documents/GitHub/2023/2023/ada-2023-project-randada/Projet/Data%20cleaning.ipynb#W3sZmlsZQ%3D%3D?line=12'>13</a>\u001b[0m readable(movie_metadata_readable[\u001b[39m'\u001b[39;49m\u001b[39mMovie_countries\u001b[39;49m\u001b[39m'\u001b[39;49m])\n\u001b[1;32m     <a href='vscode-notebook-cell:/Users/blanchekerorgant/Documents/GitHub/2023/2023/ada-2023-project-randada/Projet/Data%20cleaning.ipynb#W3sZmlsZQ%3D%3D?line=13'>14</a>\u001b[0m readable(movie_metadata_readable[\u001b[39m'\u001b[39m\u001b[39mMovie_genres\u001b[39m\u001b[39m'\u001b[39m])\n\u001b[1;32m     <a href='vscode-notebook-cell:/Users/blanchekerorgant/Documents/GitHub/2023/2023/ada-2023-project-randada/Projet/Data%20cleaning.ipynb#W3sZmlsZQ%3D%3D?line=15'>16</a>\u001b[0m movie_metadata_readable\u001b[39m.\u001b[39mhead()\n",
      "\u001b[1;32m/Users/blanchekerorgant/Documents/GitHub/2023/2023/ada-2023-project-randada/Projet/Data cleaning.ipynb Cell 4\u001b[0m line \u001b[0;36m1\n\u001b[1;32m      <a href='vscode-notebook-cell:/Users/blanchekerorgant/Documents/GitHub/2023/2023/ada-2023-project-randada/Projet/Data%20cleaning.ipynb#W3sZmlsZQ%3D%3D?line=7'>8</a>\u001b[0m \u001b[39mfor\u001b[39;00m i \u001b[39min\u001b[39;00m column\u001b[39m.\u001b[39mindex:\n\u001b[1;32m      <a href='vscode-notebook-cell:/Users/blanchekerorgant/Documents/GitHub/2023/2023/ada-2023-project-randada/Projet/Data%20cleaning.ipynb#W3sZmlsZQ%3D%3D?line=8'>9</a>\u001b[0m     d\u001b[39m=\u001b[39mjson\u001b[39m.\u001b[39mloads(column[i]) \u001b[39m#change set of each row from the colomn to dict\u001b[39;00m\n\u001b[0;32m---> <a href='vscode-notebook-cell:/Users/blanchekerorgant/Documents/GitHub/2023/2023/ada-2023-project-randada/Projet/Data%20cleaning.ipynb#W3sZmlsZQ%3D%3D?line=9'>10</a>\u001b[0m     column[i]\u001b[39m=\u001b[39m\u001b[39mlist\u001b[39m(d\u001b[39m.\u001b[39mvalues())\n",
      "File \u001b[0;32m~/opt/anaconda3/envs/ada/lib/python3.9/site-packages/pandas/core/series.py:1219\u001b[0m, in \u001b[0;36mSeries.__setitem__\u001b[0;34m(self, key, value)\u001b[0m\n\u001b[1;32m   1216\u001b[0m         \u001b[39mself\u001b[39m\u001b[39m.\u001b[39m_set_with(key, value)\n\u001b[1;32m   1218\u001b[0m \u001b[39mif\u001b[39;00m cacher_needs_updating:\n\u001b[0;32m-> 1219\u001b[0m     \u001b[39mself\u001b[39;49m\u001b[39m.\u001b[39;49m_maybe_update_cacher(inplace\u001b[39m=\u001b[39;49m\u001b[39mTrue\u001b[39;49;00m)\n",
      "File \u001b[0;32m~/opt/anaconda3/envs/ada/lib/python3.9/site-packages/pandas/core/series.py:1361\u001b[0m, in \u001b[0;36mSeries._maybe_update_cacher\u001b[0;34m(self, clear, verify_is_copy, inplace)\u001b[0m\n\u001b[1;32m   1356\u001b[0m     \u001b[39mdel\u001b[39;00m \u001b[39mself\u001b[39m\u001b[39m.\u001b[39m_cacher\n\u001b[1;32m   1357\u001b[0m \u001b[39melif\u001b[39;00m \u001b[39mlen\u001b[39m(\u001b[39mself\u001b[39m) \u001b[39m==\u001b[39m \u001b[39mlen\u001b[39m(ref) \u001b[39mand\u001b[39;00m \u001b[39mself\u001b[39m\u001b[39m.\u001b[39mname \u001b[39min\u001b[39;00m ref\u001b[39m.\u001b[39mcolumns:\n\u001b[1;32m   1358\u001b[0m     \u001b[39m# GH#42530 self.name must be in ref.columns\u001b[39;00m\n\u001b[1;32m   1359\u001b[0m     \u001b[39m# to ensure column still in dataframe\u001b[39;00m\n\u001b[1;32m   1360\u001b[0m     \u001b[39m# otherwise, either self or ref has swapped in new arrays\u001b[39;00m\n\u001b[0;32m-> 1361\u001b[0m     ref\u001b[39m.\u001b[39;49m_maybe_cache_changed(cacher[\u001b[39m0\u001b[39;49m], \u001b[39mself\u001b[39;49m, inplace\u001b[39m=\u001b[39;49minplace)\n\u001b[1;32m   1362\u001b[0m \u001b[39melse\u001b[39;00m:\n\u001b[1;32m   1363\u001b[0m     \u001b[39m# GH#33675 we have swapped in a new array, so parent\u001b[39;00m\n\u001b[1;32m   1364\u001b[0m     \u001b[39m#  reference to self is now invalid\u001b[39;00m\n\u001b[1;32m   1365\u001b[0m     ref\u001b[39m.\u001b[39m_item_cache\u001b[39m.\u001b[39mpop(cacher[\u001b[39m0\u001b[39m], \u001b[39mNone\u001b[39;00m)\n",
      "File \u001b[0;32m~/opt/anaconda3/envs/ada/lib/python3.9/site-packages/pandas/core/frame.py:4280\u001b[0m, in \u001b[0;36mDataFrame._maybe_cache_changed\u001b[0;34m(self, item, value, inplace)\u001b[0m\n\u001b[1;32m   4276\u001b[0m \u001b[39mif\u001b[39;00m old\u001b[39m.\u001b[39m_values \u001b[39mis\u001b[39;00m value\u001b[39m.\u001b[39m_values \u001b[39mand\u001b[39;00m inplace:\n\u001b[1;32m   4277\u001b[0m     \u001b[39m# GH#46149 avoid making unnecessary copies/block-splitting\u001b[39;00m\n\u001b[1;32m   4278\u001b[0m     \u001b[39mreturn\u001b[39;00m\n\u001b[0;32m-> 4280\u001b[0m \u001b[39mself\u001b[39;49m\u001b[39m.\u001b[39;49m_mgr\u001b[39m.\u001b[39;49miset(loc, arraylike, inplace\u001b[39m=\u001b[39;49minplace)\n",
      "File \u001b[0;32m~/opt/anaconda3/envs/ada/lib/python3.9/site-packages/pandas/core/internals/managers.py:1213\u001b[0m, in \u001b[0;36mBlockManager.iset\u001b[0;34m(self, loc, value, inplace)\u001b[0m\n\u001b[1;32m   1211\u001b[0m         \u001b[39mself\u001b[39m\u001b[39m.\u001b[39m_iset_split_block(blkno_l, blk_locs, value_getitem(val_locs))\n\u001b[1;32m   1212\u001b[0m     \u001b[39melse\u001b[39;00m:\n\u001b[0;32m-> 1213\u001b[0m         blk\u001b[39m.\u001b[39;49mset_inplace(blk_locs, value_getitem(val_locs))\n\u001b[1;32m   1214\u001b[0m         \u001b[39mcontinue\u001b[39;00m\n\u001b[1;32m   1215\u001b[0m \u001b[39melse\u001b[39;00m:\n",
      "File \u001b[0;32m~/opt/anaconda3/envs/ada/lib/python3.9/site-packages/pandas/core/internals/blocks.py:924\u001b[0m, in \u001b[0;36mBlock.set_inplace\u001b[0;34m(self, locs, values, copy)\u001b[0m\n\u001b[1;32m    922\u001b[0m \u001b[39mif\u001b[39;00m copy:\n\u001b[1;32m    923\u001b[0m     \u001b[39mself\u001b[39m\u001b[39m.\u001b[39mvalues \u001b[39m=\u001b[39m \u001b[39mself\u001b[39m\u001b[39m.\u001b[39mvalues\u001b[39m.\u001b[39mcopy()\n\u001b[0;32m--> 924\u001b[0m \u001b[39mself\u001b[39m\u001b[39m.\u001b[39mvalues[locs] \u001b[39m=\u001b[39m values\n",
      "\u001b[0;31mKeyboardInterrupt\u001b[0m: "
     ]
    }
   ],
   "source": [
    "#Copy of movie_metadata dataset\n",
    "movie_metadata_readable = movie_metadata.copy(deep= True)\n",
    "\n",
    "# Make the column Movie_languages, Movie_countries and Movie_genres more readable (i.e change as list)\n",
    "\n",
    "def readable(column):\n",
    "    pd.set_option('mode.chained_assignment', None) #remove warning\n",
    "    for i in column.index:\n",
    "        d=json.loads(column[i]) #change set of each row from the colomn to dict\n",
    "        column[i]=list(d.values()) #change the dict into list\n",
    "\n",
    "readable(movie_metadata_readable['Movie_languages'])\n",
    "readable(movie_metadata_readable['Movie_countries'])\n",
    "readable(movie_metadata_readable['Movie_genres'])\n",
    "\n",
    "movie_metadata_readable.head()"
   ]
  },
  {
   "cell_type": "code",
   "execution_count": null,
   "id": "c371179e-7f33-4628-9145-5f8af60c7d1b",
   "metadata": {
    "tags": []
   },
   "outputs": [
    {
     "name": "stdout",
     "output_type": "stream",
     "text": [
      "Number of movies in the database before the first cleaning step: 81741.\n",
      "Number of movies in the database after this first cleaning step: 52286.\n"
     ]
    }
   ],
   "source": [
    "#Filtering of movie_metada, keeping only full-length features movies (more than 60 minutes long) and that have a Title in the database.\n",
    "movie_metadata_filtered = movie_metadata_readable.copy(deep=True)\n",
    "print(f\"Number of movies in the database before the first cleaning step: {movie_metadata_filtered['Movie_release_date'].size}.\")\n",
    "\n",
    "\n",
    "movie_metadata_filtered.dropna(subset=['Movie_name'],inplace=True)\n",
    "\n",
    "movie_metadata_filtered = movie_metadata_filtered[movie_metadata_filtered.Movie_runtime >= 60]\n",
    "\n",
    "\n",
    "#Cleaning of the Movie_release_date column, to keep only the year of release\n",
    "movie_metadata_filtered.dropna(subset=['Movie_release_date'], inplace = True)\n",
    "movie_metadata_filtered[\"Movie_release_date\"] = movie_metadata_filtered['Movie_release_date'].apply(lambda x : str(x)[:4]).apply(lambda x : int(x))\n",
    "\n",
    "\n",
    "print(f\"Number of movies in the database after this first cleaning step: {movie_metadata_filtered['Movie_release_date'].size}.\")"
   ]
  },
  {
   "cell_type": "markdown",
   "id": "d203f0f8",
   "metadata": {},
   "source": [
    "# Language filtering\n",
    "We aim to filter the dataset to keep movies with English title. In fact, the NLP packages are mostly developed for English language. To do this easily we only select movies that have English as main language (as they should also have an English title)."
   ]
  },
  {
   "cell_type": "code",
   "execution_count": null,
   "id": "23948f58",
   "metadata": {
    "tags": []
   },
   "outputs": [
    {
     "data": {
      "image/png": "[encoded data removed]",
      "text/plain": [
       "<Figure size 1000x600 with 1 Axes>"
      ]
     },
     "metadata": {},
     "output_type": "display_data"
    }
   ],
   "source": [
    "#Movie distribution per languages: top ten main languages\n",
    "\n",
    "movie_metadata_filtered['Movie_main_language'] = movie_metadata_filtered.Movie_languages.str[0]\n",
    "movie_metadata_filtered['Movie_main_language'] = movie_metadata_filtered.Movie_main_language.astype('category')\n",
    "\n",
    "# Create a DataFrame with feature counts\n",
    "main_languages = movie_metadata_filtered['Movie_main_language'].value_counts()\n",
    "\n",
    "# Select the top ten features\n",
    "top_ten_main_languages = main_languages.head(10)\n",
    "\n",
    "# Plot the bar plot\n",
    "plt.figure(figsize=(10, 6))\n",
    "top_ten_main_languages.plot(kind='bar', color='skyblue')\n",
    "plt.title('Number of movies for the Top Ten main languages')\n",
    "plt.xlabel('Main language')\n",
    "plt.ylabel('Number of movies')\n",
    "plt.show()\n",
    "\n"
   ]
  },
  {
   "cell_type": "markdown",
   "id": "c1ed7315-0c6a-4115-ae1f-67a56f635145",
   "metadata": {},
   "source": [
    "The main language is English, so keeping only these movies do not reduce too much the whole database."
   ]
  },
  {
   "cell_type": "code",
   "execution_count": null,
   "id": "39f28514",
   "metadata": {
    "tags": []
   },
   "outputs": [
    {
     "name": "stdout",
     "output_type": "stream",
     "text": [
      "Number of movies in the database after the language filtering: 26855.\n"
     ]
    }
   ],
   "source": [
    "#Create dataset with filtered language:  english as first language\n",
    "\n",
    "movie_metadata_filtered = movie_metadata_filtered[movie_metadata_filtered.Movie_main_language==\"English Language\"] #English Language as First Language\n",
    "\n",
    "print(f\"Number of movies in the database after the language filtering: {movie_metadata_filtered['Movie_release_date'].size}.\")"
   ]
  },
  {
   "cell_type": "markdown",
   "id": "ff519e76",
   "metadata": {},
   "source": [
    "# Temporal distribution\n",
    "\n",
    "Let's explore our data. One first thing to look at is the temporal distribution of movies."
   ]
  },
  {
   "cell_type": "code",
   "execution_count": null,
   "id": "80ed2f75",
   "metadata": {
    "tags": []
   },
   "outputs": [
    {
     "data": {
      "image/png": "[encoded data removed]",
      "text/plain": [
       "<Figure size 1000x500 with 1 Axes>"
      ]
     },
     "metadata": {},
     "output_type": "display_data"
    }
   ],
   "source": [
    "#Number of movies per year\n",
    "plt.figure(figsize=(10,5))\n",
    "ax = sns.histplot(movie_metadata_filtered,x='Movie_release_date',stat='count',color=\"purple\").set(title=\"Number of movies per year\",xlabel=\"Year\",ylabel=\"Number of movies\")"
   ]
  },
  {
   "cell_type": "markdown",
   "id": "0004ee7a-fece-4eaa-88de-01ba09eeba1b",
   "metadata": {},
   "source": [
    "Our dataset was extracted in 2012. Thus, the movies released after 2012 miss a lot of information. Let's see if some movies have a release date after 2012"
   ]
  },
  {
   "cell_type": "code",
   "execution_count": null,
   "id": "960987cb",
   "metadata": {
    "tags": []
   },
   "outputs": [
    {
     "data": {
      "text/html": [
       "<div>\n",
       "<style scoped>\n",
       "    .dataframe tbody tr th:only-of-type {\n",
       "        vertical-align: middle;\n",
       "    }\n",
       "\n",
       "    .dataframe tbody tr th {\n",
       "        vertical-align: top;\n",
       "    }\n",
       "\n",
       "    .dataframe thead th {\n",
       "        text-align: right;\n",
       "    }\n",
       "</style>\n",
       "<table border=\"1\" class=\"dataframe\">\n",
       "  <thead>\n",
       "    <tr style=\"text-align: right;\">\n",
       "      <th></th>\n",
       "      <th>Wikipedia_movie_ID</th>\n",
       "      <th>Freebase_movie_ID</th>\n",
       "      <th>Movie_name</th>\n",
       "      <th>Movie_release_date</th>\n",
       "      <th>Movie_box_office_revenue</th>\n",
       "      <th>Movie_runtime</th>\n",
       "      <th>Movie_languages</th>\n",
       "      <th>Movie_countries</th>\n",
       "      <th>Movie_genres</th>\n",
       "      <th>Movie_main_language</th>\n",
       "    </tr>\n",
       "  </thead>\n",
       "  <tbody>\n",
       "    <tr>\n",
       "      <th>2942</th>\n",
       "      <td>29097142</td>\n",
       "      <td>/m/0dlk_qn</td>\n",
       "      <td>Movie 43</td>\n",
       "      <td>2013</td>\n",
       "      <td>NaN</td>\n",
       "      <td>175.0</td>\n",
       "      <td>[English Language]</td>\n",
       "      <td>[United States of America]</td>\n",
       "      <td>[Comedy]</td>\n",
       "      <td>English Language</td>\n",
       "    </tr>\n",
       "    <tr>\n",
       "      <th>4676</th>\n",
       "      <td>34957039</td>\n",
       "      <td>/m/0j7mv7h</td>\n",
       "      <td>Postman Pat: The Movie — You Know You're The One</td>\n",
       "      <td>2013</td>\n",
       "      <td>NaN</td>\n",
       "      <td>117.0</td>\n",
       "      <td>[English Language]</td>\n",
       "      <td>[United Kingdom]</td>\n",
       "      <td>[Family Film, Animation]</td>\n",
       "      <td>English Language</td>\n",
       "    </tr>\n",
       "    <tr>\n",
       "      <th>9447</th>\n",
       "      <td>3081811</td>\n",
       "      <td>/m/08q3xy</td>\n",
       "      <td>Sin City 2</td>\n",
       "      <td>2013</td>\n",
       "      <td>NaN</td>\n",
       "      <td>120.0</td>\n",
       "      <td>[English Language]</td>\n",
       "      <td>[United States of America]</td>\n",
       "      <td>[Thriller, Crime Fiction, Superhero movie, Act...</td>\n",
       "      <td>English Language</td>\n",
       "    </tr>\n",
       "    <tr>\n",
       "      <th>13338</th>\n",
       "      <td>36120997</td>\n",
       "      <td>/m/0k0wrfg</td>\n",
       "      <td>Ned Venture</td>\n",
       "      <td>2013</td>\n",
       "      <td>NaN</td>\n",
       "      <td>90.0</td>\n",
       "      <td>[English Language]</td>\n",
       "      <td>[United States of America]</td>\n",
       "      <td>[Comedy film]</td>\n",
       "      <td>English Language</td>\n",
       "    </tr>\n",
       "    <tr>\n",
       "      <th>14160</th>\n",
       "      <td>31106576</td>\n",
       "      <td>/m/0gh8bt9</td>\n",
       "      <td>Bullet to the Head</td>\n",
       "      <td>2013</td>\n",
       "      <td>NaN</td>\n",
       "      <td>97.0</td>\n",
       "      <td>[English Language]</td>\n",
       "      <td>[United States of America]</td>\n",
       "      <td>[Thriller, Crime Fiction, Action]</td>\n",
       "      <td>English Language</td>\n",
       "    </tr>\n",
       "    <tr>\n",
       "      <th>16772</th>\n",
       "      <td>23468311</td>\n",
       "      <td>/m/06w6vd9</td>\n",
       "      <td>Quick, Slip Me A Bride</td>\n",
       "      <td>2013</td>\n",
       "      <td>NaN</td>\n",
       "      <td>100.0</td>\n",
       "      <td>[English Language]</td>\n",
       "      <td>[United Kingdom]</td>\n",
       "      <td>[Romance Film]</td>\n",
       "      <td>English Language</td>\n",
       "    </tr>\n",
       "    <tr>\n",
       "      <th>18210</th>\n",
       "      <td>34682342</td>\n",
       "      <td>/m/0j3d8n7</td>\n",
       "      <td>Calvary</td>\n",
       "      <td>2013</td>\n",
       "      <td>NaN</td>\n",
       "      <td>147.0</td>\n",
       "      <td>[English Language]</td>\n",
       "      <td>[Ireland, United Kingdom]</td>\n",
       "      <td>[Black comedy, Comedy film, Drama]</td>\n",
       "      <td>English Language</td>\n",
       "    </tr>\n",
       "    <tr>\n",
       "      <th>32241</th>\n",
       "      <td>34779274</td>\n",
       "      <td>/m/0j3f7xf</td>\n",
       "      <td>Viy. Returning</td>\n",
       "      <td>2013</td>\n",
       "      <td>NaN</td>\n",
       "      <td>112.0</td>\n",
       "      <td>[English Language, Russian Language]</td>\n",
       "      <td>[Ukraine, Czech Republic, Russia]</td>\n",
       "      <td>[Thriller, Mystery, Horror, Adventure]</td>\n",
       "      <td>English Language</td>\n",
       "    </tr>\n",
       "    <tr>\n",
       "      <th>32338</th>\n",
       "      <td>35229863</td>\n",
       "      <td>/m/0j7m_4k</td>\n",
       "      <td>McConkey</td>\n",
       "      <td>2013</td>\n",
       "      <td>NaN</td>\n",
       "      <td>90.0</td>\n",
       "      <td>[English Language]</td>\n",
       "      <td>[United States of America]</td>\n",
       "      <td>[Biographical film, Documentary]</td>\n",
       "      <td>English Language</td>\n",
       "    </tr>\n",
       "    <tr>\n",
       "      <th>32529</th>\n",
       "      <td>35720024</td>\n",
       "      <td>/m/0jt1g0l</td>\n",
       "      <td>Teen Beach Musical</td>\n",
       "      <td>2013</td>\n",
       "      <td>NaN</td>\n",
       "      <td>125.0</td>\n",
       "      <td>[English Language]</td>\n",
       "      <td>[United States of America]</td>\n",
       "      <td>[Musical, Family Film]</td>\n",
       "      <td>English Language</td>\n",
       "    </tr>\n",
       "    <tr>\n",
       "      <th>41704</th>\n",
       "      <td>34502682</td>\n",
       "      <td>/m/0j27q89</td>\n",
       "      <td>Khumba</td>\n",
       "      <td>2013</td>\n",
       "      <td>NaN</td>\n",
       "      <td>90.0</td>\n",
       "      <td>[English Language]</td>\n",
       "      <td>[South Africa]</td>\n",
       "      <td>[Family Film, Children's, Adventure, Animation]</td>\n",
       "      <td>English Language</td>\n",
       "    </tr>\n",
       "    <tr>\n",
       "      <th>41865</th>\n",
       "      <td>11055577</td>\n",
       "      <td>/m/02qzhdk</td>\n",
       "      <td>Boyhood</td>\n",
       "      <td>2013</td>\n",
       "      <td>NaN</td>\n",
       "      <td>153.0</td>\n",
       "      <td>[English Language]</td>\n",
       "      <td>[United States of America]</td>\n",
       "      <td>[Drama]</td>\n",
       "      <td>English Language</td>\n",
       "    </tr>\n",
       "    <tr>\n",
       "      <th>52589</th>\n",
       "      <td>35777727</td>\n",
       "      <td>/m/0jt0p_0</td>\n",
       "      <td>Ruby</td>\n",
       "      <td>2013</td>\n",
       "      <td>NaN</td>\n",
       "      <td>90.0</td>\n",
       "      <td>[English Language]</td>\n",
       "      <td>[Italy]</td>\n",
       "      <td>[Animation]</td>\n",
       "      <td>English Language</td>\n",
       "    </tr>\n",
       "    <tr>\n",
       "      <th>54491</th>\n",
       "      <td>35749085</td>\n",
       "      <td>/m/0jt35_j</td>\n",
       "      <td>Cherry Chérie</td>\n",
       "      <td>2013</td>\n",
       "      <td>NaN</td>\n",
       "      <td>90.0</td>\n",
       "      <td>[English Language]</td>\n",
       "      <td>[Italy]</td>\n",
       "      <td>[Romantic comedy, Romance Film, Drama]</td>\n",
       "      <td>English Language</td>\n",
       "    </tr>\n",
       "    <tr>\n",
       "      <th>79567</th>\n",
       "      <td>36423358</td>\n",
       "      <td>/m/0k9390g</td>\n",
       "      <td>Paranoia</td>\n",
       "      <td>2013</td>\n",
       "      <td>NaN</td>\n",
       "      <td>115.0</td>\n",
       "      <td>[English Language]</td>\n",
       "      <td>[France, United States of America]</td>\n",
       "      <td>[Thriller, Drama]</td>\n",
       "      <td>English Language</td>\n",
       "    </tr>\n",
       "  </tbody>\n",
       "</table>\n",
       "</div>"
      ],
      "text/plain": [
       "       Wikipedia_movie_ID Freebase_movie_ID  \\\n",
       "2942             29097142        /m/0dlk_qn   \n",
       "4676             34957039        /m/0j7mv7h   \n",
       "9447              3081811         /m/08q3xy   \n",
       "13338            36120997        /m/0k0wrfg   \n",
       "14160            31106576        /m/0gh8bt9   \n",
       "16772            23468311        /m/06w6vd9   \n",
       "18210            34682342        /m/0j3d8n7   \n",
       "32241            34779274        /m/0j3f7xf   \n",
       "32338            35229863        /m/0j7m_4k   \n",
       "32529            35720024        /m/0jt1g0l   \n",
       "41704            34502682        /m/0j27q89   \n",
       "41865            11055577        /m/02qzhdk   \n",
       "52589            35777727        /m/0jt0p_0   \n",
       "54491            35749085        /m/0jt35_j   \n",
       "79567            36423358        /m/0k9390g   \n",
       "\n",
       "                                             Movie_name  Movie_release_date  \\\n",
       "2942                                           Movie 43                2013   \n",
       "4676   Postman Pat: The Movie — You Know You're The One                2013   \n",
       "9447                                         Sin City 2                2013   \n",
       "13338                                       Ned Venture                2013   \n",
       "14160                                Bullet to the Head                2013   \n",
       "16772                            Quick, Slip Me A Bride                2013   \n",
       "18210                                           Calvary                2013   \n",
       "32241                                    Viy. Returning                2013   \n",
       "32338                                          McConkey                2013   \n",
       "32529                                Teen Beach Musical                2013   \n",
       "41704                                            Khumba                2013   \n",
       "41865                                           Boyhood                2013   \n",
       "52589                                              Ruby                2013   \n",
       "54491                                     Cherry Chérie                2013   \n",
       "79567                                          Paranoia                2013   \n",
       "\n",
       "       Movie_box_office_revenue  Movie_runtime  \\\n",
       "2942                        NaN          175.0   \n",
       "4676                        NaN          117.0   \n",
       "9447                        NaN          120.0   \n",
       "13338                       NaN           90.0   \n",
       "14160                       NaN           97.0   \n",
       "16772                       NaN          100.0   \n",
       "18210                       NaN          147.0   \n",
       "32241                       NaN          112.0   \n",
       "32338                       NaN           90.0   \n",
       "32529                       NaN          125.0   \n",
       "41704                       NaN           90.0   \n",
       "41865                       NaN          153.0   \n",
       "52589                       NaN           90.0   \n",
       "54491                       NaN           90.0   \n",
       "79567                       NaN          115.0   \n",
       "\n",
       "                            Movie_languages  \\\n",
       "2942                     [English Language]   \n",
       "4676                     [English Language]   \n",
       "9447                     [English Language]   \n",
       "13338                    [English Language]   \n",
       "14160                    [English Language]   \n",
       "16772                    [English Language]   \n",
       "18210                    [English Language]   \n",
       "32241  [English Language, Russian Language]   \n",
       "32338                    [English Language]   \n",
       "32529                    [English Language]   \n",
       "41704                    [English Language]   \n",
       "41865                    [English Language]   \n",
       "52589                    [English Language]   \n",
       "54491                    [English Language]   \n",
       "79567                    [English Language]   \n",
       "\n",
       "                          Movie_countries  \\\n",
       "2942           [United States of America]   \n",
       "4676                     [United Kingdom]   \n",
       "9447           [United States of America]   \n",
       "13338          [United States of America]   \n",
       "14160          [United States of America]   \n",
       "16772                    [United Kingdom]   \n",
       "18210           [Ireland, United Kingdom]   \n",
       "32241   [Ukraine, Czech Republic, Russia]   \n",
       "32338          [United States of America]   \n",
       "32529          [United States of America]   \n",
       "41704                      [South Africa]   \n",
       "41865          [United States of America]   \n",
       "52589                             [Italy]   \n",
       "54491                             [Italy]   \n",
       "79567  [France, United States of America]   \n",
       "\n",
       "                                            Movie_genres Movie_main_language  \n",
       "2942                                            [Comedy]    English Language  \n",
       "4676                            [Family Film, Animation]    English Language  \n",
       "9447   [Thriller, Crime Fiction, Superhero movie, Act...    English Language  \n",
       "13338                                      [Comedy film]    English Language  \n",
       "14160                  [Thriller, Crime Fiction, Action]    English Language  \n",
       "16772                                     [Romance Film]    English Language  \n",
       "18210                 [Black comedy, Comedy film, Drama]    English Language  \n",
       "32241             [Thriller, Mystery, Horror, Adventure]    English Language  \n",
       "32338                   [Biographical film, Documentary]    English Language  \n",
       "32529                             [Musical, Family Film]    English Language  \n",
       "41704    [Family Film, Children's, Adventure, Animation]    English Language  \n",
       "41865                                            [Drama]    English Language  \n",
       "52589                                        [Animation]    English Language  \n",
       "54491             [Romantic comedy, Romance Film, Drama]    English Language  \n",
       "79567                                  [Thriller, Drama]    English Language  "
      ]
     },
     "execution_count": 9,
     "metadata": {},
     "output_type": "execute_result"
    }
   ],
   "source": [
    "movie_metadata_filtered[movie_metadata_filtered.Movie_release_date > 2012]"
   ]
  },
  {
   "cell_type": "markdown",
   "id": "2f6c99d2-6b14-4c54-803c-0c436c48f8b1",
   "metadata": {},
   "source": [
    "We remove these movies released after 2012 to be consistent with the extraction date."
   ]
  },
  {
   "cell_type": "code",
   "execution_count": null,
   "id": "46ee950f",
   "metadata": {
    "tags": []
   },
   "outputs": [
    {
     "name": "stdout",
     "output_type": "stream",
     "text": [
      "Number of movies in the database after the language filtering: 26840.\n"
     ]
    }
   ],
   "source": [
    "movie_metadata_filtered = movie_metadata_filtered[movie_metadata_filtered.Movie_release_date <= 2012]\n",
    "\n",
    "print(f\"Number of movies in the database after the language filtering: {movie_metadata_filtered['Movie_release_date'].size}.\")"
   ]
  },
  {
   "cell_type": "markdown",
   "id": "1dc61cf4",
   "metadata": {},
   "source": [
    "# Genre processing\n",
    "\n",
    "For our sentimental analysis using NLP, we may need to use movies genres as categories. We thus need to assign every movie in only one genre category (preferably the main genre, which is the first in the list). We thus created a more \"basic\" dictionnary of genres and assigned most categories to one of these \"main/major\" genres."
   ]
  },
  {
   "cell_type": "code",
   "execution_count": null,
   "id": "ce93cc76",
   "metadata": {
    "tags": []
   },
   "outputs": [],
   "source": [
    "# For some of the categories we had to look for it and to look at the movies that had this genre to know it which categories we should put it in.\n",
    "\n",
    "# 1st step: create a new genre dictionnary\n",
    "dict_genre = {\n",
    "    \"Action\": [\"Action/adventure\", \"ninja movie\", \"epic\", \"auto racing\", \"martial arts film\",\"Combat Films\", \"race movie\", \"samurai cinema\", \"Super hero\", \"superhero movie\", \"superhero\",\"Outlaw biker film\"],\n",
    "    \"Adventure\": [\"Adventure\", \"travel\"],\n",
    "    \"Art\": [\"Art film\",\"Concert film\", \"Film-Opera\", \"Operetta\", \"Punk rock\", \"Rockumentary\", \"Space opera\", \"Singing cowboy\", \"Hip hop movies\", \"Breakdance\", \"Dance\", \"musical\", \"& Literature\", \"Literature\", \"Music\",\"Experimental film\"],\n",
    "    \"Comedy\": [\"Humour\", \"Tragicomedy\", \"Ealing Comedies\", \"Comedy film\",\"Comedy\", \"Adventure Comedy\", \"Comedy of manners\", \"Workplace comedy\", \"comedy-drama\", \"Buddy Picture\", \"Buddy cop\", \"Parody\",\"Black comedy\",\"Satire\",\"Screwball comedy\",\"Musical comedy\",\"Buddy film\",\"Mockumentary\"], \n",
    "    \"Documentary\": [\"Docudrama\", \"Historical Documentaries\", \"Rockumentary\", \"media studies\", \"media satire\", \"Political Documentary\"],\n",
    "    \"Drama\": [\"Melodrama\", \"Tragedy\", \"Tragicomedy\", \"Docudrama\", \"Family drama\", \"Comedy-drama\", 'illnesses & disabilities','Costume drama',\"Political drama\",\"Exploitation\"], \n",
    "    \"Political\":[ \"Political cinema\",\"LGBT\",\"Blaxploitation\",\"Christian film\",\"Culture & Society\",\"Religious Film\"], \n",
    "    \"Family\": [\"Computer Animation\",\"Coming of age\",\"Family Film\", \"Animation\", \"Animated cartoon\", \"Children's film\", \"children's\", \"children's entertainment\", \"children's fantasy\", \"children's/family\", \"For children\",\"Christmas movie\",\"Television movie\",\"Teen\"], \n",
    "    \"Fiction\": [\"Science Fiction\",\"fairy tail\", \"fictional film\", \"medical fiction\", \"mythological fantasy\", \"sci fi pictures\", 'sci fi pictures original films', \"sword and sorcery films\", \"sword and sandal\", \"time travel\", \"supernatural\", \"Alien invasion\",\"Alien Film\", \"Zombie film\", \"Z-movie\", \"z movie\", \"Zombie\",\"Fantasy\",\"Disaster\",\"Fan film\"],\n",
    "    \"Historical\": [\"Short Film\",\"Historical fiction\",\"Period piece\",\"history\", \"Biographical\", \"British History\", \"British Empire Film\", \"British new wave\", \"Historical Epic\", \"Cold War\", \"Historical Documentaries\", \"Biography\", \"Biopic [feature]\", \"The Netherlands in World War II\", \"Gulf War\", \"movies about gladiators\",\"Biographical film\",\"Historical drama\",\"Sponsored film\"],\n",
    "    \"Horror\": [\"Natural Horror film\", \"Sci-fi Horror\", \"road-horror\", \"Creature Movie\", \"Monster Movie\", \"Creature\",\"Slasher\"],\n",
    "    \"Old movie\":['Black-and-white',\"Silent film\"],\n",
    "    \"Porn\": [\"Pornographic movie\", \"Pornography\", \"Softcore Porn\", \"Adult\", \"Sexploitation\", \"Erotica\", \"homoeroticism\", \"erotic thriller\", \"Hardcore pornography\", \"Homoeroticism\",\"Gay pornography\"], \n",
    "    \"Romance\": [\"Romance film\", \"romantic fantasy\",\"Romantic comedy\",\"Romantic drama\",\"Pre-code\"],\n",
    "    \"Sport\": [\"baseball\", \"boxing\", \"sports\"],\n",
    "    \"Thriller\": [ \"film à clef\", \"mystery\", \"suspense\", 'crime', 'crime fiction', 'crime thriller', \"master criminal films\", \"detective\", \"Master Criminal Films\", \"Heist\", \"Gangster Film\",\"Film noir\",\"Psychological thriller\",\"Detective fiction\",\"Spy\"],\n",
    "    \"Western\": [\"Singing cowboy\", \"Westerns\", \"B-Western\", \"Epic Western\", \"Spaghetti Western\"],\n",
    "    \"World cinema\": [\"Northern\",\"Chinese Movies\", \"Japanese Movies\", \"Latino\", \"americana\", \"bengali cinema\", \"filipino movies\", \"Anime\", \"Indie\"],\n",
    "    \"War film\": [\"war\", \"War effort\", \"anti-war\", \"anti-war film\", \"nuclear warfare\", \"foreign legion\"],\n",
    "}"
   ]
  },
  {
   "cell_type": "code",
   "execution_count": null,
   "id": "d6d71a7e",
   "metadata": {
    "tags": []
   },
   "outputs": [],
   "source": [
    "# 2nd step: Revert the current dictionnary, because it is easier to manipulate\n",
    "\n",
    "dict_genre_revert = {}\n",
    "for key, value in dict_genre.items():\n",
    "    key = key.lower()\n",
    "    for v in value:\n",
    "        v = v.lower()\n",
    "        dict_genre_revert[v] = key\n",
    "    dict_genre_revert[key] = key"
   ]
  },
  {
   "cell_type": "code",
   "execution_count": null,
   "id": "2dd4e7e3",
   "metadata": {
    "tags": []
   },
   "outputs": [],
   "source": [
    "#drop movie without genre (=emplty list in 'Movie_genres')\n",
    "movie_metadata_filtered = movie_metadata_filtered[movie_metadata_filtered['Movie_genres'].map(lambda d: len(d)) > 0]"
   ]
  },
  {
   "cell_type": "code",
   "execution_count": null,
   "id": "bef643e8",
   "metadata": {
    "tags": []
   },
   "outputs": [],
   "source": [
    "#3rd step: Give main genre to each movie \n",
    "\n",
    "Main_genres=[]\n",
    "for i in movie_metadata_filtered.index:\n",
    "    N=len(movie_metadata_filtered['Movie_genres'][i])\n",
    "    k=0\n",
    "    while k < N:\n",
    "        genre = movie_metadata_filtered['Movie_genres'][i][k].lower()\n",
    "        if genre in dict_genre_revert.keys():\n",
    "            genre=dict_genre_revert.get(genre)\n",
    "            Main_genres.append(str(genre))\n",
    "            k=N+1\n",
    "        else:\n",
    "            k+=1\n",
    "\n",
    "movie_metadata_filtered['Movie_main_genre']=Main_genres\n"
   ]
  },
  {
   "cell_type": "code",
   "execution_count": null,
   "id": "ce00a7de-b0f1-4bb9-96a9-5b82b04e0b0a",
   "metadata": {
    "tags": []
   },
   "outputs": [
    {
     "data": {
      "text/plain": [
       "[Text(0.5, 0, 'Main genres'),\n",
       " Text(0, 0.5, 'Number of movies'),\n",
       " Text(0.5, 1.0, 'Number of movies per genre')]"
      ]
     },
     "execution_count": 15,
     "metadata": {},
     "output_type": "execute_result"
    },
    {
     "data": {
      "image/png": "[encoded data removed]",
      "text/plain": [
       "<Figure size 640x480 with 1 Axes>"
      ]
     },
     "metadata": {},
     "output_type": "display_data"
    }
   ],
   "source": [
    "movie_metadata_filtered['Movie_main_genre'] = movie_metadata_filtered.Movie_main_genre.astype('category')\n",
    "\n",
    "ax = sns.histplot(movie_metadata_filtered,x='Movie_main_genre',stat='count',color='pink')\n",
    "plt.setp(ax.xaxis.get_majorticklabels(), rotation=90)\n",
    "plt.gcf().subplots_adjust(bottom=0)\n",
    "ax.set(xlabel=\"Main genres\",ylabel=\"Number of movies\",title=\"Number of movies per genre\")\n",
    "\n"
   ]
  },
  {
   "cell_type": "markdown",
   "id": "a0b58119",
   "metadata": {},
   "source": [
    " We can see that most of the movies fall in the 'Thriller', 'Drama', 'Romance' and 'Comedy' categories. "
   ]
  },
  {
   "cell_type": "markdown",
   "id": "86e54db7",
   "metadata": {},
   "source": [
    "We won't be using the 'Movie_genres', 'Movie_languages', and 'Movie_main_language' for further analysis, we thus drop these columns."
   ]
  },
  {
   "cell_type": "code",
   "execution_count": null,
   "id": "73a95c4c",
   "metadata": {
    "tags": []
   },
   "outputs": [],
   "source": [
    "movie_metadata_filtered.drop(labels=[\"Movie_genres\",\"Movie_languages\",\"Movie_main_language\"],axis=1,inplace=True)"
   ]
  },
  {
   "cell_type": "markdown",
   "id": "5371e528",
   "metadata": {},
   "source": [
    "# Processing character metadata \n",
    "\n",
    "We want to merge the character dataset and the movie dataset on the \"Wikipedia_movie_ID\". It will be useful to investigate the relationship between the characters and the title of the movie (Batman in Batman movies for example). We thus compute a column with a list of characters for each movie."
   ]
  },
  {
   "cell_type": "code",
   "execution_count": null,
   "id": "4c2e203a",
   "metadata": {
    "tags": []
   },
   "outputs": [
    {
     "data": {
      "text/html": [
       "<div>\n",
       "<style scoped>\n",
       "    .dataframe tbody tr th:only-of-type {\n",
       "        vertical-align: middle;\n",
       "    }\n",
       "\n",
       "    .dataframe tbody tr th {\n",
       "        vertical-align: top;\n",
       "    }\n",
       "\n",
       "    .dataframe thead th {\n",
       "        text-align: right;\n",
       "    }\n",
       "</style>\n",
       "<table border=\"1\" class=\"dataframe\">\n",
       "  <thead>\n",
       "    <tr style=\"text-align: right;\">\n",
       "      <th></th>\n",
       "      <th>Wikipedia_movie_ID</th>\n",
       "      <th>Movie_name</th>\n",
       "      <th>Movie_box_office_revenue</th>\n",
       "      <th>Movie_runtime</th>\n",
       "      <th>Movie_countries</th>\n",
       "      <th>Movie_main_genre</th>\n",
       "      <th>Character_name</th>\n",
       "      <th>Freebase_character_ID</th>\n",
       "    </tr>\n",
       "  </thead>\n",
       "  <tbody>\n",
       "    <tr>\n",
       "      <th>5717</th>\n",
       "      <td>3966719</td>\n",
       "      <td>Sky Bandits</td>\n",
       "      <td>NaN</td>\n",
       "      <td>105.0</td>\n",
       "      <td>[United Kingdom]</td>\n",
       "      <td>adventure</td>\n",
       "      <td>[Sgt. Renfrew]</td>\n",
       "      <td>[/m/05h71_m]</td>\n",
       "    </tr>\n",
       "    <tr>\n",
       "      <th>10256</th>\n",
       "      <td>12138831</td>\n",
       "      <td>Grizzly Park</td>\n",
       "      <td>NaN</td>\n",
       "      <td>100.0</td>\n",
       "      <td>[United States of America]</td>\n",
       "      <td>horror</td>\n",
       "      <td>[Ranger Mike, Ranger Bob, Lola, Ryan Forbes II...</td>\n",
       "      <td>[/m/0gk6wjx, /m/09t59hf, /m/0gk6wk4, /m/09t59j...</td>\n",
       "    </tr>\n",
       "    <tr>\n",
       "      <th>15170</th>\n",
       "      <td>27766591</td>\n",
       "      <td>Ride or Die</td>\n",
       "      <td>NaN</td>\n",
       "      <td>84.0</td>\n",
       "      <td>[United States of America]</td>\n",
       "      <td>thriller</td>\n",
       "      <td>[Lisa, Fake Venus, Real Venus, Masked Woman]</td>\n",
       "      <td>[/m/0h15csr, /m/0gxnwxz, /m/0gxnn38, /m/0gyf4l2]</td>\n",
       "    </tr>\n",
       "    <tr>\n",
       "      <th>15621</th>\n",
       "      <td>29803208</td>\n",
       "      <td>How to Murder a Rich Uncle</td>\n",
       "      <td>NaN</td>\n",
       "      <td>79.0</td>\n",
       "      <td>[United Kingdom]</td>\n",
       "      <td>thriller</td>\n",
       "      <td>[Police Sergeant, Henry, Uncle George, Edith C...</td>\n",
       "      <td>[/m/0hz7kmv, /m/0hz6kpt, /m/0hz6krp, /m/0hz6kr...</td>\n",
       "    </tr>\n",
       "    <tr>\n",
       "      <th>6516</th>\n",
       "      <td>4966348</td>\n",
       "      <td>The Snow Walker</td>\n",
       "      <td>201149.0</td>\n",
       "      <td>90.0</td>\n",
       "      <td>[Canada]</td>\n",
       "      <td>action</td>\n",
       "      <td>[Pierce, Charlie Halliday, Kanaalaq, Estelle, ...</td>\n",
       "      <td>[/m/0gxs6xg, /m/0gxs6w1, /m/0gxs6x7, /m/0gxs6y...</td>\n",
       "    </tr>\n",
       "  </tbody>\n",
       "</table>\n",
       "</div>"
      ],
      "text/plain": [
       "       Wikipedia_movie_ID                  Movie_name  \\\n",
       "5717              3966719                 Sky Bandits   \n",
       "10256            12138831                Grizzly Park   \n",
       "15170            27766591                 Ride or Die   \n",
       "15621            29803208  How to Murder a Rich Uncle   \n",
       "6516              4966348             The Snow Walker   \n",
       "\n",
       "       Movie_box_office_revenue  Movie_runtime             Movie_countries  \\\n",
       "5717                        NaN          105.0            [United Kingdom]   \n",
       "10256                       NaN          100.0  [United States of America]   \n",
       "15170                       NaN           84.0  [United States of America]   \n",
       "15621                       NaN           79.0            [United Kingdom]   \n",
       "6516                   201149.0           90.0                    [Canada]   \n",
       "\n",
       "      Movie_main_genre                                     Character_name  \\\n",
       "5717         adventure                                     [Sgt. Renfrew]   \n",
       "10256           horror  [Ranger Mike, Ranger Bob, Lola, Ryan Forbes II...   \n",
       "15170         thriller       [Lisa, Fake Venus, Real Venus, Masked Woman]   \n",
       "15621         thriller  [Police Sergeant, Henry, Uncle George, Edith C...   \n",
       "6516            action  [Pierce, Charlie Halliday, Kanaalaq, Estelle, ...   \n",
       "\n",
       "                                   Freebase_character_ID  \n",
       "5717                                        [/m/05h71_m]  \n",
       "10256  [/m/0gk6wjx, /m/09t59hf, /m/0gk6wk4, /m/09t59j...  \n",
       "15170   [/m/0h15csr, /m/0gxnwxz, /m/0gxnn38, /m/0gyf4l2]  \n",
       "15621  [/m/0hz7kmv, /m/0hz6kpt, /m/0hz6krp, /m/0hz6kr...  \n",
       "6516   [/m/0gxs6xg, /m/0gxs6w1, /m/0gxs6x7, /m/0gxs6y...  "
      ]
     },
     "execution_count": 17,
     "metadata": {},
     "output_type": "execute_result"
    }
   ],
   "source": [
    "#Drop row without character names\n",
    "movie_characters = movie_metadata_filtered.copy(deep=True)\n",
    "\n",
    "character_metadata_copy = character_metadata.copy(deep=True)\n",
    "character_metadata_copy.dropna(subset=['Character_name'], inplace=True)\n",
    "\n",
    "character_metadata_copy.drop(labels=[\"Movie_release_date\",\"Freebase_movie_ID\"],axis=1,inplace=True)\n",
    "\n",
    "movie_characters=movie_characters.merge(character_metadata_copy, how='inner',left_on='Wikipedia_movie_ID', right_on='Wikipedia_movie_ID')\n",
    "\n",
    "movie_characters = movie_characters[['Wikipedia_movie_ID', 'Movie_name', 'Movie_release_date',  'Movie_box_office_revenue', 'Movie_runtime', 'Movie_countries', 'Movie_main_genre', 'Character_name', 'Freebase_character_ID']]\n",
    "\n",
    "\n",
    "movie_characters = movie_characters.groupby('Wikipedia_movie_ID').agg({\n",
    "    'Movie_name': 'first',  \n",
    "    'Movie_box_office_revenue': 'first', \n",
    "    'Movie_runtime': 'first',  \n",
    "    'Movie_countries': 'first',  \n",
    "    'Movie_main_genre': 'first',  \n",
    "    'Character_name': lambda x: list(x),  \n",
    "    'Freebase_character_ID':  lambda x: list(x)\n",
    "}).reset_index()\n",
    "movie_characters.sample(5).head()"
   ]
  },
  {
   "cell_type": "markdown",
   "id": "93ab195d",
   "metadata": {},
   "source": [
    "What is the proportion of movies with a title that contain one of the character's name?"
   ]
  },
  {
   "cell_type": "code",
   "execution_count": null,
   "id": "53a0a110",
   "metadata": {
    "tags": []
   },
   "outputs": [
    {
     "name": "stdout",
     "output_type": "stream",
     "text": [
      "Fraction of movie titles containing character name: 2.94%\n",
      "                               Movie_name  \\\n",
      "3                                  Batman   \n",
      "6                          Batman Forever   \n",
      "43                         The Terminator   \n",
      "52                               THX 1138   \n",
      "81                 The Life of Emile Zola   \n",
      "...                                   ...   \n",
      "16270           The Elizabeth Smart Story   \n",
      "16380               Margaret Bourke-White   \n",
      "16410  Captain America II: Death Too Soon   \n",
      "16430                      Up Goes Maisie   \n",
      "16463     Rita Hayworth: The Love Goddess   \n",
      "\n",
      "                                          Character_name  \n",
      "3      [Batman, Catwoman, Joker, Penguin, Riddler, Al...  \n",
      "6      [Batman, Harvey Dent, Dr. Chase Meridian, Suga...  \n",
      "43     [Terminator, Kyle Reese, Sarah Connor, Punk Le...  \n",
      "52     [THX, SEN, SRT, LUH, PTO, TWA, NCH, DWY, IMM, ...  \n",
      "81                                          [Emile Zola]  \n",
      "...                                                  ...  \n",
      "16270                                  [Elizabeth Smart]  \n",
      "16380                            [Margaret Bourke-White]  \n",
      "16410                   [Captain America, Dr. Wendy Day]  \n",
      "16430                                           [Maisie]  \n",
      "16463                                    [Rita Hayworth]  \n",
      "\n",
      "[484 rows x 2 columns]\n"
     ]
    }
   ],
   "source": [
    "# Check if one of the character's name is present in the movie title\n",
    "def is_in_title(df):\n",
    "    characters = df['Character_name']\n",
    "    title = str(df['Movie_name'])\n",
    "    for i in characters:\n",
    "        if str(i) in title:\n",
    "            return True\n",
    "        return False\n",
    "\n",
    "movie_characters['Character_in_title'] = movie_characters.apply(lambda x: is_in_title(x), axis=1)\n",
    "movie_with_character_in_title = movie_characters['Character_in_title'].sum()\n",
    "\n",
    "print(f\"Fraction of movie titles containing character name: {movie_with_character_in_title / len(movie_characters):.2%}\")\n",
    "print(movie_characters.loc[movie_characters['Character_in_title'] == 1, ['Movie_name', 'Character_name']])"
   ]
  },
  {
   "cell_type": "markdown",
   "id": "f66807ca",
   "metadata": {},
   "source": [
    "Does this parameter have an impact on the success? \n",
    "\n",
    "*Naive analysis, to be continued...*"
   ]
  },
  {
   "cell_type": "markdown",
   "id": "5bfc9cba",
   "metadata": {},
   "source": [
    "We now merge our filtered movie dataset with the movie_character data created on the \"Wikipedia_movie_ID\" column. We only keep \"Character_name\", \"Character in title\" and \"Wikipedia_movie_ID\" on the movie_character dataset."
   ]
  },
  {
   "cell_type": "code",
   "execution_count": null,
   "id": "103a9055",
   "metadata": {
    "tags": []
   },
   "outputs": [],
   "source": [
    "movie_characters.drop(labels=[\"Movie_name\",\"Movie_box_office_revenue\",\"Movie_runtime\",\"Movie_countries\",\"Movie_main_genre\",\"Freebase_character_ID\"],axis=1,inplace=True)\n",
    "\n",
    "movie_metadata_filtered = movie_metadata_filtered.merge(movie_characters,how='left', on = 'Wikipedia_movie_ID')\n",
    "movie_metadata_filtered.to_csv(\"Data/movies_preprocessed.csv\")"
   ]
  },
  {
   "cell_type": "markdown",
   "id": "9e7d9fc9",
   "metadata": {},
   "source": [
    "**We now have a clean dataset that contains only the information we need for our further analysis.**"
   ]
  },
  {
   "cell_type": "markdown",
   "id": "5afb1b69",
   "metadata": {},
   "source": [
    "# First visualizations"
   ]
  },
  {
   "cell_type": "code",
   "execution_count": 5,
   "id": "738560b9",
   "metadata": {},
   "outputs": [],
   "source": [
    "# Deep copy of the pre-processed CMU dataset\n",
    "movies = movie_metadata_filtered.copy(deep=True)"
   ]
  },
  {
   "cell_type": "markdown",
   "id": "372a6dea",
   "metadata": {},
   "source": [
    "## Success analysis"
   ]
  },
  {
   "cell_type": "markdown",
   "id": "6a9ef812",
   "metadata": {},
   "source": [
    "The IMdB movies dataset imported from IMdB website is huge (882.4 Mo) and therefore long to process. As it contains many unuseful features and many unuseful movies (i.e. not present in the CMU pre-processed dataset), we will reduce its size and combine it to the IMdB ratings dataset (23.7 Mo) and then marge the obtained dataset to the pre-processed CMU dataset. In the end, we will get a pre-processed CMU-IMdB dataset that is simpler and faster to use.\n",
    "\n",
    "The Rotten tomatoes dataset is a less large (17.1 Mo), but it also contains many ususeful features. It will be cleaned and merged to the CMU dataset to be simpler to use.\n",
    "\n",
    "**The pre-processing is described in the notebook 'Dataset-preprocessing-IMdB-Rotten-tomatoes'.**"
   ]
  },
  {
   "cell_type": "code",
   "execution_count": 3,
   "id": "ec5ab128",
   "metadata": {},
   "outputs": [],
   "source": [
    "# Load the pre-processed CMU-IMdB, CMU-Rotten tomatoes & ratings datasets\n",
    "cmu_imdb = pd.read_csv('Data/cmu_imdb.csv')\n",
    "cmu_rotten = pd.read_csv('Data/cmu_rotten.csv')\n",
    "movies_ratings = pd.read_csv('Data/movies_ratings.csv')"
   ]
  },
  {
   "cell_type": "markdown",
   "id": "3d4d0b98",
   "metadata": {},
   "source": [
    "### Title length linked to success measured by ratings (IMdB, Rotten tomatoes audience & critics)\n",
    "\n",
    "It could be argued that shorter titles are easier to remember and contribute to a movie's success. It could also be argued that longer titles can be more original and that originality also contributes to a movie's success. We will investigate the link between movie title length and different ratings."
   ]
  },
  {
   "cell_type": "code",
   "execution_count": 4,
   "id": "423079ee",
   "metadata": {},
   "outputs": [],
   "source": [
    "# Helper function to count the words in movie titles\n",
    "def count_words(x):\n",
    "    # remove eventual spaces at the beginning and at the end of the string, split the string, count the words\n",
    "    return len(x.strip().split())"
   ]
  },
  {
   "cell_type": "code",
   "execution_count": 5,
   "id": "fd21b589",
   "metadata": {},
   "outputs": [],
   "source": [
    "# Add a column for the title length in words\n",
    "cmu_imdb['Title_length'] = cmu_imdb['Movie_name'].apply(count_words)\n",
    "cmu_rotten['Title_length'] = cmu_rotten['Movie_name'].apply(count_words)"
   ]
  },
  {
   "cell_type": "markdown",
   "id": "78cca844",
   "metadata": {},
   "source": [
    "As the CMU-IMdB dataset is larger than the CMU-Rotten tomatoes one, it will be used for the first visualizations to help us get a sense of what could be the link between ratings and title length."
   ]
  },
  {
   "cell_type": "code",
   "execution_count": 6,
   "id": "e4e3846a",
   "metadata": {},
   "outputs": [
    {
     "data": {
      "text/plain": [
       "Text(0.5, 0.98, 'Join distributions of audience IMdB rating & title length')"
      ]
     },
     "execution_count": 6,
     "metadata": {},
     "output_type": "execute_result"
    },
    {
     "data": {
      "image/png": "[encoded data removed]",
      "text/plain": [
       "<Figure size 600x600 with 3 Axes>"
      ]
     },
     "metadata": {},
     "output_type": "display_data"
    }
   ],
   "source": [
    "# Plot the join distributions of audience IMdB rating & title length\n",
    "# As there are more short titles, looking only at the mean rating for each title length is biased\n",
    "\n",
    "jplot = sns.jointplot(x='Title_length', y='Audience_imdb_rating', data=cmu_imdb, joint_kws={'s' : 25, 'alpha': 0.2})\n",
    "plt.xlabel('Title length')\n",
    "plt.ylabel('IMdB audience rating')\n",
    "jplot.fig.suptitle('Join distributions of audience IMdB rating & title length')"
   ]
  },
  {
   "cell_type": "markdown",
   "id": "df1f6c3a",
   "metadata": {},
   "source": [
    "The majority of movie titles in our dataste have less than 5 words. One outlier title contains more than 35 words. It will be removed in the next visualization.\n",
    "\n",
    "The ratings for 1-, 2-, 3- and 4-word long titles are quite dispersed: they range approximately from 3 to 8. It makes the link between title length and IMdB ratings difficult to interpret."
   ]
  },
  {
   "cell_type": "code",
   "execution_count": 7,
   "id": "0ff5f9a7",
   "metadata": {},
   "outputs": [
    {
     "data": {
      "text/plain": [
       "Text(37.597222222222214, 0.5, 'IMdB audience rating')"
      ]
     },
     "execution_count": 7,
     "metadata": {},
     "output_type": "execute_result"
    },
    {
     "data": {
      "image/png": "[encoded data removed]",
      "text/plain": [
       "<Figure size 600x600 with 3 Axes>"
      ]
     },
     "metadata": {},
     "output_type": "display_data"
    }
   ],
   "source": [
    "# Add a limit xlim = 12 as there are few movies with a title length superior to 12 as shown on the previous plot\n",
    "\n",
    "sns.jointplot(x='Title_length', y='Audience_imdb_rating', data=cmu_imdb, kind='hist', xlim=(1,12))\n",
    "plt.xlabel('Title length')\n",
    "plt.ylabel('IMdB audience rating')"
   ]
  },
  {
   "cell_type": "markdown",
   "id": "79e17769",
   "metadata": {},
   "source": [
    "We will now compare the average values of the three ratings (audience IMdB, audience Rotten tomatoes, critics Rotten tomatoes) linked to title length.\n",
    "\n",
    "In order to do so, all ratings need to be on the same scale. We will adapt the rating scale of IMdB, as it ranges from 0 to 10 and Rotten tomatoes scale ranges from 0 to 100."
   ]
  },
  {
   "cell_type": "code",
   "execution_count": 8,
   "id": "face3b43",
   "metadata": {},
   "outputs": [
    {
     "data": {
      "text/plain": [
       "<matplotlib.legend.Legend at 0x7fbfb8acbf40>"
      ]
     },
     "execution_count": 8,
     "metadata": {},
     "output_type": "execute_result"
    },
    {
     "data": {
      "image/png": "[encoded data removed]",
      "text/plain": [
       "<Figure size 640x480 with 1 Axes>"
      ]
     },
     "metadata": {},
     "output_type": "display_data"
    }
   ],
   "source": [
    "# Adapt the rating scale of IMdB\n",
    "cmu_imdb_100 = cmu_imdb.copy(deep=True)\n",
    "cmu_imdb_100['Audience_imdb_rating'] = cmu_imdb_100['Audience_imdb_rating']*10\n",
    "\n",
    "plt.figure()\n",
    "plt.xlim(1,12)\n",
    "plt.xlabel('Title length')\n",
    "plt.ylabel('Ratings')\n",
    "plt.title('Correlation between movie title length and its ratings')\n",
    "plt.grid()\n",
    "sns.lineplot(x='Title_length', y='Audience_imdb_rating', errorbar='ci', data=cmu_imdb_100)\n",
    "sns.lineplot(x='Title_length', y='Audience_rotten_rating', errorbar='ci', data=cmu_rotten)\n",
    "sns.lineplot(x='Title_length', y='Critics_rotten_rating', errorbar='ci', data=cmu_rotten)\n",
    "plt.legend(['IMdB audience rating', '', 'Rotten tomatoes audience rating', '', 'Rotten tomatoes critics rating' ])"
   ]
  },
  {
   "cell_type": "markdown",
   "id": "b012c23c",
   "metadata": {},
   "source": [
    "For **short titles** (1-5), all ratings values are **less scattered** and they range around 55/100.\n",
    "\n",
    "For **long titles** (5-10), Rotten tomatoes ratings values are very scattered : the confidence interval ranges from 45/100 to ~80/100 for 9-word titles. Critics rating are more scattered than audience ratings. Two reasons could explain this: (1) there are more ratings by audience than by critics, (2) critics are movie experts and have stronger opinions than the public, they either love or hate a movie.\n",
    "\n",
    "Overall, IMdB ratings are less scattered than Rotten tomatoes ratings, the fact that it contains more data could be explain that."
   ]
  },
  {
   "cell_type": "markdown",
   "id": "65274738",
   "metadata": {},
   "source": [
    "### Cofounders of success parameters"
   ]
  },
  {
   "cell_type": "markdown",
   "id": "18396383",
   "metadata": {},
   "source": [
    " We are interested in conducting an analysis to explore the relationship between the title of a movie and its success. While the title seems to be a crucial aspect since it is a the first hook, it is undoubtable that other factors, such as the cast, director, and movie studio, may exert a more significant influence on a film's success. To gain a comprehensive understanding of the impact of the title, it is essential to **analyze potential confounding variables affecting success**. \n",
    " \n",
    " In this context, success is measured by both the **movie revenue** (box office earnings minus budget) and the **ratings** from IMDb. To do so, an indicator of success is calculated."
   ]
  },
  {
   "cell_type": "markdown",
   "id": "245d6154",
   "metadata": {},
   "source": [
    "Any data including budget and revenues has to be adjusted with inflation rates. To do this, Consumer Price Indexes were found on OECD statistics, for the years comprised between 1913 and 2012."
   ]
  },
  {
   "cell_type": "markdown",
   "id": "2716254d",
   "metadata": {},
   "source": [
    "We chose to consider the cmu_imdb dataset because the movies_ratings dataset (with IMdB + Rottent tomatoes ratings) provides fewer data."
   ]
  },
  {
   "cell_type": "code",
   "execution_count": 34,
   "id": "1f662bce",
   "metadata": {},
   "outputs": [
    {
     "name": "stdout",
     "output_type": "stream",
     "text": [
      "Size of the dataset with all box office revenues :  (13465, 13)\n",
      "Size of the dataset without null box office revenues :  (2966, 13)\n"
     ]
    },
    {
     "data": {
      "text/html": [
       "<div>\n",
       "<style scoped>\n",
       "    .dataframe tbody tr th:only-of-type {\n",
       "        vertical-align: middle;\n",
       "    }\n",
       "\n",
       "    .dataframe tbody tr th {\n",
       "        vertical-align: top;\n",
       "    }\n",
       "\n",
       "    .dataframe thead th {\n",
       "        text-align: right;\n",
       "    }\n",
       "</style>\n",
       "<table border=\"1\" class=\"dataframe\">\n",
       "  <thead>\n",
       "    <tr style=\"text-align: right;\">\n",
       "      <th></th>\n",
       "      <th>Unnamed: 0.1</th>\n",
       "      <th>Unnamed: 0</th>\n",
       "      <th>Wikipedia_movie_ID</th>\n",
       "      <th>Freebase_movie_ID</th>\n",
       "      <th>Movie_name</th>\n",
       "      <th>Movie_release_date</th>\n",
       "      <th>Movie_box_office_revenue</th>\n",
       "      <th>Movie_runtime</th>\n",
       "      <th>Movie_languages</th>\n",
       "      <th>Movie_countries</th>\n",
       "      <th>Movie_genres</th>\n",
       "      <th>Audience_imdb_rating</th>\n",
       "      <th>Audience_imdb_count</th>\n",
       "    </tr>\n",
       "  </thead>\n",
       "  <tbody>\n",
       "    <tr>\n",
       "      <th>0</th>\n",
       "      <td>0</td>\n",
       "      <td>0</td>\n",
       "      <td>975900</td>\n",
       "      <td>/m/03vyhn</td>\n",
       "      <td>Ghosts of Mars</td>\n",
       "      <td>2001</td>\n",
       "      <td>14010832.0</td>\n",
       "      <td>98.0</td>\n",
       "      <td>['English Language']</td>\n",
       "      <td>['United States of America']</td>\n",
       "      <td>['Thriller', 'Science Fiction', 'Horror', 'Adv...</td>\n",
       "      <td>4.9</td>\n",
       "      <td>56887</td>\n",
       "    </tr>\n",
       "    <tr>\n",
       "      <th>1</th>\n",
       "      <td>1</td>\n",
       "      <td>7</td>\n",
       "      <td>10408933</td>\n",
       "      <td>/m/02qc0j7</td>\n",
       "      <td>Alexander's Ragtime Band</td>\n",
       "      <td>1938</td>\n",
       "      <td>3600000.0</td>\n",
       "      <td>106.0</td>\n",
       "      <td>['English Language']</td>\n",
       "      <td>['United States of America']</td>\n",
       "      <td>['Musical', 'Comedy', 'Black-and-white']</td>\n",
       "      <td>6.8</td>\n",
       "      <td>2268</td>\n",
       "    </tr>\n",
       "  </tbody>\n",
       "</table>\n",
       "</div>"
      ],
      "text/plain": [
       "   Unnamed: 0.1  Unnamed: 0  Wikipedia_movie_ID Freebase_movie_ID  \\\n",
       "0             0           0              975900         /m/03vyhn   \n",
       "1             1           7            10408933        /m/02qc0j7   \n",
       "\n",
       "                 Movie_name  Movie_release_date  Movie_box_office_revenue  \\\n",
       "0            Ghosts of Mars                2001                14010832.0   \n",
       "1  Alexander's Ragtime Band                1938                 3600000.0   \n",
       "\n",
       "   Movie_runtime       Movie_languages               Movie_countries  \\\n",
       "0           98.0  ['English Language']  ['United States of America']   \n",
       "1          106.0  ['English Language']  ['United States of America']   \n",
       "\n",
       "                                        Movie_genres  Audience_imdb_rating  \\\n",
       "0  ['Thriller', 'Science Fiction', 'Horror', 'Adv...                   4.9   \n",
       "1           ['Musical', 'Comedy', 'Black-and-white']                   6.8   \n",
       "\n",
       "   Audience_imdb_count  \n",
       "0                56887  \n",
       "1                 2268  "
      ]
     },
     "execution_count": 34,
     "metadata": {},
     "output_type": "execute_result"
    }
   ],
   "source": [
    "# Copy the movies with IMdB ratings dataset and drop rows with a NaN box office revenue\n",
    "\n",
    "movies_cmu_imdb = cmu_imdb.copy(deep=True)\n",
    "print('Size of the dataset with all box office revenues : ', movies_cmu_imdb.shape)\n",
    "\n",
    "movies_cmu_imdb.dropna(subset=['Movie_box_office_revenue'], inplace=True)\n",
    "print('Size of the dataset without null box office revenues : ', movies_cmu_imdb.shape)\n",
    "movies_cmu_imdb.head(2)"
   ]
  },
  {
   "cell_type": "markdown",
   "id": "04cc9e34",
   "metadata": {},
   "source": [
    "Droping the rows without Box office revenue truly decreases the dataset size. This will be have to be taken in account for further studies."
   ]
  },
  {
   "cell_type": "code",
   "execution_count": 43,
   "id": "39434b8c",
   "metadata": {},
   "outputs": [
    {
     "data": {
      "text/html": [
       "<div>\n",
       "<style scoped>\n",
       "    .dataframe tbody tr th:only-of-type {\n",
       "        vertical-align: middle;\n",
       "    }\n",
       "\n",
       "    .dataframe tbody tr th {\n",
       "        vertical-align: top;\n",
       "    }\n",
       "\n",
       "    .dataframe thead th {\n",
       "        text-align: right;\n",
       "    }\n",
       "</style>\n",
       "<table border=\"1\" class=\"dataframe\">\n",
       "  <thead>\n",
       "    <tr style=\"text-align: right;\">\n",
       "      <th></th>\n",
       "      <th>Unnamed: 0.1</th>\n",
       "      <th>Unnamed: 0</th>\n",
       "      <th>Wikipedia_movie_ID</th>\n",
       "      <th>Freebase_movie_ID</th>\n",
       "      <th>Movie_name</th>\n",
       "      <th>Movie_release_date</th>\n",
       "      <th>Movie_box_office_revenue</th>\n",
       "      <th>Movie_runtime</th>\n",
       "      <th>Movie_languages</th>\n",
       "      <th>Movie_countries</th>\n",
       "      <th>Movie_genres</th>\n",
       "      <th>Audience_imdb_rating</th>\n",
       "      <th>Audience_imdb_count</th>\n",
       "      <th>Box_office_adjusted</th>\n",
       "    </tr>\n",
       "  </thead>\n",
       "  <tbody>\n",
       "    <tr>\n",
       "      <th>0</th>\n",
       "      <td>0</td>\n",
       "      <td>0</td>\n",
       "      <td>975900</td>\n",
       "      <td>/m/03vyhn</td>\n",
       "      <td>Ghosts of Mars</td>\n",
       "      <td>2001</td>\n",
       "      <td>14010832.0</td>\n",
       "      <td>98.0</td>\n",
       "      <td>['English Language']</td>\n",
       "      <td>['United States of America']</td>\n",
       "      <td>['Thriller', 'Science Fiction', 'Horror', 'Adv...</td>\n",
       "      <td>4.9</td>\n",
       "      <td>56887</td>\n",
       "      <td>1.816424e+07</td>\n",
       "    </tr>\n",
       "    <tr>\n",
       "      <th>1</th>\n",
       "      <td>1</td>\n",
       "      <td>7</td>\n",
       "      <td>10408933</td>\n",
       "      <td>/m/02qc0j7</td>\n",
       "      <td>Alexander's Ragtime Band</td>\n",
       "      <td>1938</td>\n",
       "      <td>3600000.0</td>\n",
       "      <td>106.0</td>\n",
       "      <td>['English Language']</td>\n",
       "      <td>['United States of America']</td>\n",
       "      <td>['Musical', 'Comedy', 'Black-and-white']</td>\n",
       "      <td>6.8</td>\n",
       "      <td>2268</td>\n",
       "      <td>5.862128e+07</td>\n",
       "    </tr>\n",
       "  </tbody>\n",
       "</table>\n",
       "</div>"
      ],
      "text/plain": [
       "   Unnamed: 0.1  Unnamed: 0  Wikipedia_movie_ID Freebase_movie_ID  \\\n",
       "0             0           0              975900         /m/03vyhn   \n",
       "1             1           7            10408933        /m/02qc0j7   \n",
       "\n",
       "                 Movie_name  Movie_release_date  Movie_box_office_revenue  \\\n",
       "0            Ghosts of Mars                2001                14010832.0   \n",
       "1  Alexander's Ragtime Band                1938                 3600000.0   \n",
       "\n",
       "   Movie_runtime       Movie_languages               Movie_countries  \\\n",
       "0           98.0  ['English Language']  ['United States of America']   \n",
       "1          106.0  ['English Language']  ['United States of America']   \n",
       "\n",
       "                                        Movie_genres  Audience_imdb_rating  \\\n",
       "0  ['Thriller', 'Science Fiction', 'Horror', 'Adv...                   4.9   \n",
       "1           ['Musical', 'Comedy', 'Black-and-white']                   6.8   \n",
       "\n",
       "   Audience_imdb_count  Box_office_adjusted  \n",
       "0                56887         1.816424e+07  \n",
       "1                 2268         5.862128e+07  "
      ]
     },
     "execution_count": 43,
     "metadata": {},
     "output_type": "execute_result"
    }
   ],
   "source": [
    "# Load the dataframe with Consumer Price indexes (CPI)\n",
    "# The year of reference is 2012 (latest movie release year)\n",
    "# Adjust each movie box office with the consumer price indix corresponding to the year of release \n",
    "\n",
    "cpi = pd.read_csv('Data/CPI.csv', sep=';')\n",
    "cpi['Annual'] = cpi['Annual'].str.replace(',', '.')\n",
    "cpi['Annual'] = pd.to_numeric(cpi['Annual'], errors='coerce')\n",
    "\n",
    "cpi_value_2012 = cpi.loc[cpi['Year'] == 2012, 'Annual'].values[0] # take 2012 as the reference year for the cpi \n",
    "\n",
    "def adjust_inflation_box_office(row):\n",
    "    year = row['Movie_release_date']\n",
    "    consumer_price_index = cpi['Annual'][cpi['Year'] == year].values[0]\n",
    "    revenue_adjusted = row['Movie_box_office_revenue'] * (cpi_value_2012 / consumer_price_index)\n",
    "    return revenue_adjusted\n",
    "\n",
    "# Adjust the box office with the inflation by adding a new column Box_office_adjusted\n",
    "movies_cmu_imdb['Box_office_adjusted'] = movies_cmu_imdb.apply(adjust_inflation_box_office, axis=1)\n",
    "movies_cmu_imdb.head(2)\n"
   ]
  },
  {
   "cell_type": "code",
   "execution_count": 67,
   "id": "a5eac37f",
   "metadata": {},
   "outputs": [
    {
     "name": "stdout",
     "output_type": "stream",
     "text": [
      "Size of the budget dataset :  (10178, 3)\n"
     ]
    },
    {
     "data": {
      "text/html": [
       "<div>\n",
       "<style scoped>\n",
       "    .dataframe tbody tr th:only-of-type {\n",
       "        vertical-align: middle;\n",
       "    }\n",
       "\n",
       "    .dataframe tbody tr th {\n",
       "        vertical-align: top;\n",
       "    }\n",
       "\n",
       "    .dataframe thead th {\n",
       "        text-align: right;\n",
       "    }\n",
       "</style>\n",
       "<table border=\"1\" class=\"dataframe\">\n",
       "  <thead>\n",
       "    <tr style=\"text-align: right;\">\n",
       "      <th></th>\n",
       "      <th>names</th>\n",
       "      <th>Budget</th>\n",
       "      <th>ReleaseYear</th>\n",
       "    </tr>\n",
       "  </thead>\n",
       "  <tbody>\n",
       "    <tr>\n",
       "      <th>0</th>\n",
       "      <td>Creed III</td>\n",
       "      <td>75000000.0</td>\n",
       "      <td>2023</td>\n",
       "    </tr>\n",
       "    <tr>\n",
       "      <th>1</th>\n",
       "      <td>Avatar: The Way of Water</td>\n",
       "      <td>460000000.0</td>\n",
       "      <td>2022</td>\n",
       "    </tr>\n",
       "  </tbody>\n",
       "</table>\n",
       "</div>"
      ],
      "text/plain": [
       "                      names       Budget  ReleaseYear\n",
       "0                 Creed III   75000000.0         2023\n",
       "1  Avatar: The Way of Water  460000000.0         2022"
      ]
     },
     "execution_count": 67,
     "metadata": {},
     "output_type": "execute_result"
    }
   ],
   "source": [
    "# Load budget info about movies (source : TMDb movies dataset), to eventually calculate movies profits\n",
    "\n",
    "budget= pd.read_csv('Data/imdb_budget.csv',sep=\",\")\n",
    "\n",
    "budget['date_x']=budget['date_x'].str.strip() #changing the Movie date of release format to keep only years of release\n",
    "budget['date_x'] = pd.to_datetime(budget['date_x'], format='%m/%d/%Y')\n",
    "budget['ReleaseYear'] = budget['date_x'].dt.year\n",
    "\n",
    "unuseful = ['overview', 'status', 'crew', 'orig_lang', 'country', 'score', 'genre', 'orig_title', 'date_x', 'revenue'] # droping unuseful columns to avoid an oversized dataset\n",
    "budget.drop(unuseful, axis =1, inplace=True)\n",
    "\n",
    "budget = budget.rename(columns = {\"budget_x\":\"Budget\"})\n",
    "\n",
    "print('Size of the budget dataset : ', budget.shape)\n",
    "budget.head(2)"
   ]
  },
  {
   "cell_type": "code",
   "execution_count": 69,
   "id": "01268763",
   "metadata": {},
   "outputs": [
    {
     "data": {
      "text/html": [
       "<div>\n",
       "<style scoped>\n",
       "    .dataframe tbody tr th:only-of-type {\n",
       "        vertical-align: middle;\n",
       "    }\n",
       "\n",
       "    .dataframe tbody tr th {\n",
       "        vertical-align: top;\n",
       "    }\n",
       "\n",
       "    .dataframe thead th {\n",
       "        text-align: right;\n",
       "    }\n",
       "</style>\n",
       "<table border=\"1\" class=\"dataframe\">\n",
       "  <thead>\n",
       "    <tr style=\"text-align: right;\">\n",
       "      <th></th>\n",
       "      <th>names</th>\n",
       "      <th>Budget</th>\n",
       "      <th>ReleaseYear</th>\n",
       "      <th>budget_adjusted</th>\n",
       "      <th>Budget_adjusted</th>\n",
       "    </tr>\n",
       "  </thead>\n",
       "  <tbody>\n",
       "    <tr>\n",
       "      <th>22</th>\n",
       "      <td>The Passion of the Christ</td>\n",
       "      <td>25000000.0</td>\n",
       "      <td>2004</td>\n",
       "      <td>3.038645e+07</td>\n",
       "      <td>3.038645e+07</td>\n",
       "    </tr>\n",
       "    <tr>\n",
       "      <th>58</th>\n",
       "      <td>A Bronx Tale</td>\n",
       "      <td>10000000.0</td>\n",
       "      <td>1994</td>\n",
       "      <td>1.549258e+07</td>\n",
       "      <td>1.549258e+07</td>\n",
       "    </tr>\n",
       "  </tbody>\n",
       "</table>\n",
       "</div>"
      ],
      "text/plain": [
       "                        names      Budget  ReleaseYear  budget_adjusted  \\\n",
       "22  The Passion of the Christ  25000000.0         2004     3.038645e+07   \n",
       "58               A Bronx Tale  10000000.0         1994     1.549258e+07   \n",
       "\n",
       "    Budget_adjusted  \n",
       "22     3.038645e+07  \n",
       "58     1.549258e+07  "
      ]
     },
     "execution_count": 69,
     "metadata": {},
     "output_type": "execute_result"
    }
   ],
   "source": [
    "# Keep only movies budgets for years comprised between 1913 and 2012 (because of the inflation CPI dataset) \n",
    "\n",
    "budget = budget[(budget['ReleaseYear'] >= 1913) & (budget['ReleaseYear'] < 2013)]\n",
    "budget['ReleaseYear'] = budget['ReleaseYear'].astype('int64')\n",
    "\n",
    "# Adjust movies budgets with inflation with each consumer price index of the year of release \n",
    "\n",
    "def adjust_inflation_budget(row):\n",
    "    year = row['ReleaseYear']\n",
    "    consumer_price_index = cpi['Annual'][cpi['Year'] == year].values[0]\n",
    "    revenue_adjusted = row['Budget'] * (cpi_value_2012 / consumer_price_index)\n",
    "    return revenue_adjusted\n",
    "\n",
    "budget['Budget_adjusted'] = budget.apply(adjust_inflation_budget, axis=1)\n",
    "budget.head(2)"
   ]
  },
  {
   "cell_type": "code",
   "execution_count": 82,
   "id": "ef55796a",
   "metadata": {},
   "outputs": [
    {
     "data": {
      "text/html": [
       "<div>\n",
       "<style scoped>\n",
       "    .dataframe tbody tr th:only-of-type {\n",
       "        vertical-align: middle;\n",
       "    }\n",
       "\n",
       "    .dataframe tbody tr th {\n",
       "        vertical-align: top;\n",
       "    }\n",
       "\n",
       "    .dataframe thead th {\n",
       "        text-align: right;\n",
       "    }\n",
       "</style>\n",
       "<table border=\"1\" class=\"dataframe\">\n",
       "  <thead>\n",
       "    <tr style=\"text-align: right;\">\n",
       "      <th></th>\n",
       "      <th>Const</th>\n",
       "      <th>Name</th>\n",
       "    </tr>\n",
       "  </thead>\n",
       "  <tbody>\n",
       "    <tr>\n",
       "      <th>0</th>\n",
       "      <td>nm0000134</td>\n",
       "      <td>Robert De Niro</td>\n",
       "    </tr>\n",
       "    <tr>\n",
       "      <th>1</th>\n",
       "      <td>nm0000197</td>\n",
       "      <td>Jack Nicholson</td>\n",
       "    </tr>\n",
       "  </tbody>\n",
       "</table>\n",
       "</div>"
      ],
      "text/plain": [
       "       Const            Name\n",
       "0  nm0000134  Robert De Niro\n",
       "1  nm0000197  Jack Nicholson"
      ]
     },
     "execution_count": 82,
     "metadata": {},
     "output_type": "execute_result"
    }
   ],
   "source": [
    "# load the dataset with the list of famous actors (top 100 from IMdB) and filter only the useful columns \n",
    "\n",
    "famous_actors= pd.read_csv('Data/famous_actors.csv')\n",
    "\n",
    "top100actors=famous_actors.head(100)\n",
    "unuseful = ['Description', 'Birth Date', 'Created', 'Modified', 'Known For', 'Position']\n",
    "top100actors.drop(unuseful, axis =1, inplace=True)\n",
    "top100actors.head(2)\n"
   ]
  },
  {
   "cell_type": "code",
   "execution_count": 70,
   "id": "4163316f",
   "metadata": {},
   "outputs": [
    {
     "name": "stdout",
     "output_type": "stream",
     "text": [
      "Size of the dataset with IMdB ratings and budget :  (779, 19)\n"
     ]
    },
    {
     "data": {
      "text/html": [
       "<div>\n",
       "<style scoped>\n",
       "    .dataframe tbody tr th:only-of-type {\n",
       "        vertical-align: middle;\n",
       "    }\n",
       "\n",
       "    .dataframe tbody tr th {\n",
       "        vertical-align: top;\n",
       "    }\n",
       "\n",
       "    .dataframe thead th {\n",
       "        text-align: right;\n",
       "    }\n",
       "</style>\n",
       "<table border=\"1\" class=\"dataframe\">\n",
       "  <thead>\n",
       "    <tr style=\"text-align: right;\">\n",
       "      <th></th>\n",
       "      <th>Unnamed: 0.1</th>\n",
       "      <th>Unnamed: 0</th>\n",
       "      <th>Wikipedia_movie_ID</th>\n",
       "      <th>Freebase_movie_ID</th>\n",
       "      <th>Movie_name</th>\n",
       "      <th>Movie_release_date</th>\n",
       "      <th>Movie_box_office_revenue</th>\n",
       "      <th>Movie_runtime</th>\n",
       "      <th>Movie_languages</th>\n",
       "      <th>Movie_countries</th>\n",
       "      <th>Movie_genres</th>\n",
       "      <th>Audience_imdb_rating</th>\n",
       "      <th>Audience_imdb_count</th>\n",
       "      <th>Box_office_adjusted</th>\n",
       "      <th>Budget</th>\n",
       "      <th>budget_adjusted</th>\n",
       "      <th>Budget_adjusted</th>\n",
       "      <th>Profit</th>\n",
       "    </tr>\n",
       "  </thead>\n",
       "  <tbody>\n",
       "    <tr>\n",
       "      <th>0</th>\n",
       "      <td>0</td>\n",
       "      <td>0</td>\n",
       "      <td>975900</td>\n",
       "      <td>/m/03vyhn</td>\n",
       "      <td>Ghosts of Mars</td>\n",
       "      <td>2001</td>\n",
       "      <td>14010832.0</td>\n",
       "      <td>98.0</td>\n",
       "      <td>['English Language']</td>\n",
       "      <td>['United States of America']</td>\n",
       "      <td>['Thriller', 'Science Fiction', 'Horror', 'Adv...</td>\n",
       "      <td>4.9</td>\n",
       "      <td>56887</td>\n",
       "      <td>1.816424e+07</td>\n",
       "      <td>28000000.0</td>\n",
       "      <td>3.630040e+07</td>\n",
       "      <td>3.630040e+07</td>\n",
       "      <td>-1.813615e+07</td>\n",
       "    </tr>\n",
       "    <tr>\n",
       "      <th>1</th>\n",
       "      <td>15</td>\n",
       "      <td>99</td>\n",
       "      <td>12788657</td>\n",
       "      <td>/m/02x4zpv</td>\n",
       "      <td>The Boston Strangler</td>\n",
       "      <td>1968</td>\n",
       "      <td>17810894.0</td>\n",
       "      <td>116.0</td>\n",
       "      <td>['English Language']</td>\n",
       "      <td>['United States of America']</td>\n",
       "      <td>['Crime Fiction', 'Mystery', 'Thriller', 'Dram...</td>\n",
       "      <td>7.1</td>\n",
       "      <td>10513</td>\n",
       "      <td>1.175110e+08</td>\n",
       "      <td>131600000.0</td>\n",
       "      <td>8.682575e+08</td>\n",
       "      <td>8.682575e+08</td>\n",
       "      <td>-7.507465e+08</td>\n",
       "    </tr>\n",
       "  </tbody>\n",
       "</table>\n",
       "</div>"
      ],
      "text/plain": [
       "   Unnamed: 0.1  Unnamed: 0  Wikipedia_movie_ID Freebase_movie_ID  \\\n",
       "0             0           0              975900         /m/03vyhn   \n",
       "1            15          99            12788657        /m/02x4zpv   \n",
       "\n",
       "             Movie_name  Movie_release_date  Movie_box_office_revenue  \\\n",
       "0        Ghosts of Mars                2001                14010832.0   \n",
       "1  The Boston Strangler                1968                17810894.0   \n",
       "\n",
       "   Movie_runtime       Movie_languages               Movie_countries  \\\n",
       "0           98.0  ['English Language']  ['United States of America']   \n",
       "1          116.0  ['English Language']  ['United States of America']   \n",
       "\n",
       "                                        Movie_genres  Audience_imdb_rating  \\\n",
       "0  ['Thriller', 'Science Fiction', 'Horror', 'Adv...                   4.9   \n",
       "1  ['Crime Fiction', 'Mystery', 'Thriller', 'Dram...                   7.1   \n",
       "\n",
       "   Audience_imdb_count  Box_office_adjusted       Budget  budget_adjusted  \\\n",
       "0                56887         1.816424e+07   28000000.0     3.630040e+07   \n",
       "1                10513         1.175110e+08  131600000.0     8.682575e+08   \n",
       "\n",
       "   Budget_adjusted        Profit  \n",
       "0     3.630040e+07 -1.813615e+07  \n",
       "1     8.682575e+08 -7.507465e+08  "
      ]
     },
     "execution_count": 70,
     "metadata": {},
     "output_type": "execute_result"
    }
   ],
   "source": [
    "movies_budget_ratings = movies_cmu_imdb.merge(budget, left_on=['Movie_name', 'Movie_release_date'], right_on=['names', 'ReleaseYear'], how='inner')\n",
    "print('Size of the dataset with IMdB ratings and budget : ', movies_budget_ratings.shape)\n",
    "\n",
    "# Adding the movie profit column, with Profit = Box office revenue - Budget \n",
    "\n",
    "movies_budget_ratings['Profit'] = movies_budget_ratings['Box_office_adjusted'] - movies_budget_ratings['Budget_adjusted']\n",
    "Unuseful = ['names', 'ReleaseYear']\n",
    "movies_budget_ratings.drop(Unuseful, axis=1, inplace=True)\n",
    "movies_budget_ratings.head(2)"
   ]
  },
  {
   "cell_type": "code",
   "execution_count": 71,
   "id": "b62cf03b",
   "metadata": {},
   "outputs": [
    {
     "name": "stdout",
     "output_type": "stream",
     "text": [
      "Size of the dataset with the budget and ratings :  (779, 18)\n"
     ]
    },
    {
     "data": {
      "text/html": [
       "<div>\n",
       "<style scoped>\n",
       "    .dataframe tbody tr th:only-of-type {\n",
       "        vertical-align: middle;\n",
       "    }\n",
       "\n",
       "    .dataframe tbody tr th {\n",
       "        vertical-align: top;\n",
       "    }\n",
       "\n",
       "    .dataframe thead th {\n",
       "        text-align: right;\n",
       "    }\n",
       "</style>\n",
       "<table border=\"1\" class=\"dataframe\">\n",
       "  <thead>\n",
       "    <tr style=\"text-align: right;\">\n",
       "      <th></th>\n",
       "      <th>Unnamed: 0.1</th>\n",
       "      <th>Unnamed: 0</th>\n",
       "      <th>Wikipedia_movie_ID</th>\n",
       "      <th>Freebase_movie_ID</th>\n",
       "      <th>Movie_name</th>\n",
       "      <th>Movie_release_date</th>\n",
       "      <th>Movie_box_office_revenue</th>\n",
       "      <th>Movie_runtime</th>\n",
       "      <th>Movie_languages</th>\n",
       "      <th>Movie_countries</th>\n",
       "      <th>...</th>\n",
       "      <th>Audience_imdb_rating</th>\n",
       "      <th>Audience_imdb_count</th>\n",
       "      <th>Box_office_adjusted</th>\n",
       "      <th>Budget</th>\n",
       "      <th>budget_adjusted</th>\n",
       "      <th>Budget_adjusted</th>\n",
       "      <th>Profit</th>\n",
       "      <th>Profit_standardized</th>\n",
       "      <th>imdb_rating_standardized</th>\n",
       "      <th>Success_indicator</th>\n",
       "    </tr>\n",
       "  </thead>\n",
       "  <tbody>\n",
       "    <tr>\n",
       "      <th>0</th>\n",
       "      <td>0</td>\n",
       "      <td>0</td>\n",
       "      <td>975900</td>\n",
       "      <td>/m/03vyhn</td>\n",
       "      <td>Ghosts of Mars</td>\n",
       "      <td>2001</td>\n",
       "      <td>14010832.0</td>\n",
       "      <td>98.0</td>\n",
       "      <td>['English Language']</td>\n",
       "      <td>['United States of America']</td>\n",
       "      <td>...</td>\n",
       "      <td>4.9</td>\n",
       "      <td>56887</td>\n",
       "      <td>1.816424e+07</td>\n",
       "      <td>28000000.0</td>\n",
       "      <td>3.630040e+07</td>\n",
       "      <td>3.630040e+07</td>\n",
       "      <td>-1.813615e+07</td>\n",
       "      <td>-0.413396</td>\n",
       "      <td>-1.529902</td>\n",
       "      <td>-0.971649</td>\n",
       "    </tr>\n",
       "    <tr>\n",
       "      <th>1</th>\n",
       "      <td>15</td>\n",
       "      <td>99</td>\n",
       "      <td>12788657</td>\n",
       "      <td>/m/02x4zpv</td>\n",
       "      <td>The Boston Strangler</td>\n",
       "      <td>1968</td>\n",
       "      <td>17810894.0</td>\n",
       "      <td>116.0</td>\n",
       "      <td>['English Language']</td>\n",
       "      <td>['United States of America']</td>\n",
       "      <td>...</td>\n",
       "      <td>7.1</td>\n",
       "      <td>10513</td>\n",
       "      <td>1.175110e+08</td>\n",
       "      <td>131600000.0</td>\n",
       "      <td>8.682575e+08</td>\n",
       "      <td>8.682575e+08</td>\n",
       "      <td>-7.507465e+08</td>\n",
       "      <td>-3.438279</td>\n",
       "      <td>0.810703</td>\n",
       "      <td>-1.313788</td>\n",
       "    </tr>\n",
       "  </tbody>\n",
       "</table>\n",
       "<p>2 rows × 21 columns</p>\n",
       "</div>"
      ],
      "text/plain": [
       "   Unnamed: 0.1  Unnamed: 0  Wikipedia_movie_ID Freebase_movie_ID  \\\n",
       "0             0           0              975900         /m/03vyhn   \n",
       "1            15          99            12788657        /m/02x4zpv   \n",
       "\n",
       "             Movie_name  Movie_release_date  Movie_box_office_revenue  \\\n",
       "0        Ghosts of Mars                2001                14010832.0   \n",
       "1  The Boston Strangler                1968                17810894.0   \n",
       "\n",
       "   Movie_runtime       Movie_languages               Movie_countries  ...  \\\n",
       "0           98.0  ['English Language']  ['United States of America']  ...   \n",
       "1          116.0  ['English Language']  ['United States of America']  ...   \n",
       "\n",
       "  Audience_imdb_rating  Audience_imdb_count  Box_office_adjusted       Budget  \\\n",
       "0                  4.9                56887         1.816424e+07   28000000.0   \n",
       "1                  7.1                10513         1.175110e+08  131600000.0   \n",
       "\n",
       "   budget_adjusted  Budget_adjusted        Profit  Profit_standardized  \\\n",
       "0     3.630040e+07     3.630040e+07 -1.813615e+07            -0.413396   \n",
       "1     8.682575e+08     8.682575e+08 -7.507465e+08            -3.438279   \n",
       "\n",
       "   imdb_rating_standardized  Success_indicator  \n",
       "0                 -1.529902          -0.971649  \n",
       "1                  0.810703          -1.313788  \n",
       "\n",
       "[2 rows x 21 columns]"
      ]
     },
     "execution_count": 71,
     "metadata": {},
     "output_type": "execute_result"
    }
   ],
   "source": [
    "# Normalise the movies profits and the ratings to have homogenised and comparatible success indicators\n",
    "\n",
    "success_data= movies_budget_ratings.copy(deep= True)\n",
    "success_data['Movie_box_office_revenue'].dropna(inplace = True)\n",
    "print('Size of the dataset with the budget and ratings : ', success_data.shape)\n",
    "\n",
    "success_data['Profit_standardized']= ((success_data['Profit']-success_data['Profit'].mean())/ success_data['Profit'].std())\n",
    "success_data['imdb_rating_standardized']= (success_data['Audience_imdb_rating']-success_data['Audience_imdb_rating'].mean())/ success_data['Audience_imdb_rating'].std()\n",
    "\n",
    "\n",
    "# Create an indicator for success, based on ratings and box office revenues\n",
    "success_data[\"Success_indicator\"]= (success_data['imdb_rating_standardized'] + success_data['Profit_standardized'])/2\n",
    "success_data.head(2)"
   ]
  },
  {
   "cell_type": "code",
   "execution_count": 83,
   "id": "8cff8ce7",
   "metadata": {},
   "outputs": [
    {
     "name": "stdout",
     "output_type": "stream",
     "text": [
      "Size of the dataset with the actors:  (749, 22)\n"
     ]
    },
    {
     "data": {
      "text/html": [
       "<div>\n",
       "<style scoped>\n",
       "    .dataframe tbody tr th:only-of-type {\n",
       "        vertical-align: middle;\n",
       "    }\n",
       "\n",
       "    .dataframe tbody tr th {\n",
       "        vertical-align: top;\n",
       "    }\n",
       "\n",
       "    .dataframe thead th {\n",
       "        text-align: right;\n",
       "    }\n",
       "</style>\n",
       "<table border=\"1\" class=\"dataframe\">\n",
       "  <thead>\n",
       "    <tr style=\"text-align: right;\">\n",
       "      <th></th>\n",
       "      <th>Wikipedia_movie_ID</th>\n",
       "      <th>Freebase_movie_ID_x</th>\n",
       "      <th>Movie_name</th>\n",
       "      <th>Movie_release_date_x</th>\n",
       "      <th>Movie_box_office_revenue</th>\n",
       "      <th>Movie_runtime</th>\n",
       "      <th>Movie_languages</th>\n",
       "      <th>Movie_countries</th>\n",
       "      <th>Movie_genres</th>\n",
       "      <th>Audience_imdb_rating</th>\n",
       "      <th>...</th>\n",
       "      <th>Profit</th>\n",
       "      <th>Budget_adjusted</th>\n",
       "      <th>Freebase_actor_ID</th>\n",
       "      <th>IsFamousActor</th>\n",
       "      <th>Profit_standardized</th>\n",
       "      <th>imdb_rating_standardized</th>\n",
       "      <th>Success_indicator</th>\n",
       "      <th>Actor_name</th>\n",
       "      <th>Character_name</th>\n",
       "      <th>Freebase_character_ID</th>\n",
       "    </tr>\n",
       "  </thead>\n",
       "  <tbody>\n",
       "    <tr>\n",
       "      <th>0</th>\n",
       "      <td>4231</td>\n",
       "      <td>/m/01cbx</td>\n",
       "      <td>Buffy the Vampire Slayer</td>\n",
       "      <td>1992</td>\n",
       "      <td>16624456.0</td>\n",
       "      <td>86.0</td>\n",
       "      <td>['English Language']</td>\n",
       "      <td>['United States of America']</td>\n",
       "      <td>['Action', 'Horror', 'Comedy', 'Horror Comedy']</td>\n",
       "      <td>5.7</td>\n",
       "      <td>...</td>\n",
       "      <td>1.575036e+07</td>\n",
       "      <td>1.145545e+07</td>\n",
       "      <td>/m/0337zp</td>\n",
       "      <td>False</td>\n",
       "      <td>-0.273481</td>\n",
       "      <td>-0.678773</td>\n",
       "      <td>-0.476127</td>\n",
       "      <td>Kristy Swanson, Donald Sutherland, Paul Reuben...</td>\n",
       "      <td>Buffy Summers, Merrick, Amilyn, Lothos, Pike, ...</td>\n",
       "      <td>/m/0b41h, /m/0h5s5mz, /m/0h5s5p6, /m/0h2n0pr, ...</td>\n",
       "    </tr>\n",
       "    <tr>\n",
       "      <th>1</th>\n",
       "      <td>4728</td>\n",
       "      <td>/m/01hq1</td>\n",
       "      <td>Batman Returns</td>\n",
       "      <td>1992</td>\n",
       "      <td>266822354.0</td>\n",
       "      <td>126.0</td>\n",
       "      <td>['English Language']</td>\n",
       "      <td>['United States of America', 'United Kingdom']</td>\n",
       "      <td>['Crime Fiction', 'Thriller', 'Superhero movie...</td>\n",
       "      <td>7.1</td>\n",
       "      <td>...</td>\n",
       "      <td>3.057335e+08</td>\n",
       "      <td>1.309195e+08</td>\n",
       "      <td>/m/0c4f8m</td>\n",
       "      <td>False</td>\n",
       "      <td>0.923833</td>\n",
       "      <td>0.810703</td>\n",
       "      <td>0.867268</td>\n",
       "      <td>Cristi Conaway, Michael Gough, Pat Hingle, Jan...</td>\n",
       "      <td>Ice Princess, Alfred Pennyworth, James Gordon,...</td>\n",
       "      <td>/m/0h5rr59, /m/02r129, /m/031v20, /m/0h5rr4q, ...</td>\n",
       "    </tr>\n",
       "    <tr>\n",
       "      <th>2</th>\n",
       "      <td>9835</td>\n",
       "      <td>/m/02p5d</td>\n",
       "      <td>Escape from New York</td>\n",
       "      <td>1981</td>\n",
       "      <td>50000000.0</td>\n",
       "      <td>99.0</td>\n",
       "      <td>['English Language']</td>\n",
       "      <td>['United States of America', 'United Kingdom']</td>\n",
       "      <td>['Thriller', 'Crime Fiction', 'Science Fiction...</td>\n",
       "      <td>7.1</td>\n",
       "      <td>...</td>\n",
       "      <td>1.111375e+08</td>\n",
       "      <td>1.515512e+07</td>\n",
       "      <td>/m/09r5rb</td>\n",
       "      <td>False</td>\n",
       "      <td>0.120364</td>\n",
       "      <td>0.810703</td>\n",
       "      <td>0.465534</td>\n",
       "      <td>Frank Doubleday, Kurt Russell, Lee Van Cleef, ...</td>\n",
       "      <td>Romero, Snake Plissken, Hauk, Cabbie, Presiden...</td>\n",
       "      <td>/m/0h5twsj, /m/0345b_, /m/0h2y3nn, /m/0h5twr6,...</td>\n",
       "    </tr>\n",
       "    <tr>\n",
       "      <th>3</th>\n",
       "      <td>9979</td>\n",
       "      <td>/m/02qcr</td>\n",
       "      <td>Eyes Wide Shut</td>\n",
       "      <td>1999</td>\n",
       "      <td>162091208.0</td>\n",
       "      <td>159.0</td>\n",
       "      <td>['English Language']</td>\n",
       "      <td>['United States of America', 'United Kingdom']</td>\n",
       "      <td>['Thriller', 'Erotic Drama', 'Erotica', 'Myste...</td>\n",
       "      <td>7.5</td>\n",
       "      <td>...</td>\n",
       "      <td>1.338064e+08</td>\n",
       "      <td>8.957983e+07</td>\n",
       "      <td>/m/0gbzrrl</td>\n",
       "      <td>False</td>\n",
       "      <td>0.213962</td>\n",
       "      <td>1.236268</td>\n",
       "      <td>0.725115</td>\n",
       "      <td>Mariana Hewett, Tom Cruise, Nicole Kidman, Mad...</td>\n",
       "      <td>Rosa, Bill Harford, Alice Hartford, Helena Har...</td>\n",
       "      <td>/m/0h5pb_4, /m/04jt3h_, /m/04dsqgh, /m/0g9f7s0...</td>\n",
       "    </tr>\n",
       "    <tr>\n",
       "      <th>4</th>\n",
       "      <td>10487</td>\n",
       "      <td>/m/02vhv</td>\n",
       "      <td>Evil Dead II</td>\n",
       "      <td>1987</td>\n",
       "      <td>10900000.0</td>\n",
       "      <td>84.0</td>\n",
       "      <td>['English Language']</td>\n",
       "      <td>['United States of America']</td>\n",
       "      <td>['Horror', 'Stop motion', 'Cult', 'Comedy', 'S...</td>\n",
       "      <td>7.7</td>\n",
       "      <td>...</td>\n",
       "      <td>1.495634e+07</td>\n",
       "      <td>7.073944e+06</td>\n",
       "      <td>/m/0gby7_x</td>\n",
       "      <td>False</td>\n",
       "      <td>-0.276760</td>\n",
       "      <td>1.449050</td>\n",
       "      <td>0.586145</td>\n",
       "      <td>Richard Domeier, Bruce Campbell, Ted Raimi, Da...</td>\n",
       "      <td>Ed Getley, Ash Williams, Possessed Henrietta, ...</td>\n",
       "      <td>/m/0h608bf, /m/06_krl, /m/0h608c0, /m/0h608b6,...</td>\n",
       "    </tr>\n",
       "  </tbody>\n",
       "</table>\n",
       "<p>5 rows × 22 columns</p>\n",
       "</div>"
      ],
      "text/plain": [
       "   Wikipedia_movie_ID Freebase_movie_ID_x                Movie_name  \\\n",
       "0                4231            /m/01cbx  Buffy the Vampire Slayer   \n",
       "1                4728            /m/01hq1            Batman Returns   \n",
       "2                9835            /m/02p5d      Escape from New York   \n",
       "3                9979            /m/02qcr            Eyes Wide Shut   \n",
       "4               10487            /m/02vhv              Evil Dead II   \n",
       "\n",
       "   Movie_release_date_x  Movie_box_office_revenue  Movie_runtime  \\\n",
       "0                  1992                16624456.0           86.0   \n",
       "1                  1992               266822354.0          126.0   \n",
       "2                  1981                50000000.0           99.0   \n",
       "3                  1999               162091208.0          159.0   \n",
       "4                  1987                10900000.0           84.0   \n",
       "\n",
       "        Movie_languages                                 Movie_countries  \\\n",
       "0  ['English Language']                    ['United States of America']   \n",
       "1  ['English Language']  ['United States of America', 'United Kingdom']   \n",
       "2  ['English Language']  ['United States of America', 'United Kingdom']   \n",
       "3  ['English Language']  ['United States of America', 'United Kingdom']   \n",
       "4  ['English Language']                    ['United States of America']   \n",
       "\n",
       "                                        Movie_genres  Audience_imdb_rating  \\\n",
       "0    ['Action', 'Horror', 'Comedy', 'Horror Comedy']                   5.7   \n",
       "1  ['Crime Fiction', 'Thriller', 'Superhero movie...                   7.1   \n",
       "2  ['Thriller', 'Crime Fiction', 'Science Fiction...                   7.1   \n",
       "3  ['Thriller', 'Erotic Drama', 'Erotica', 'Myste...                   7.5   \n",
       "4  ['Horror', 'Stop motion', 'Cult', 'Comedy', 'S...                   7.7   \n",
       "\n",
       "   ...        Profit  Budget_adjusted  Freebase_actor_ID  IsFamousActor  \\\n",
       "0  ...  1.575036e+07     1.145545e+07          /m/0337zp          False   \n",
       "1  ...  3.057335e+08     1.309195e+08          /m/0c4f8m          False   \n",
       "2  ...  1.111375e+08     1.515512e+07          /m/09r5rb          False   \n",
       "3  ...  1.338064e+08     8.957983e+07         /m/0gbzrrl          False   \n",
       "4  ...  1.495634e+07     7.073944e+06         /m/0gby7_x          False   \n",
       "\n",
       "  Profit_standardized  imdb_rating_standardized  Success_indicator  \\\n",
       "0           -0.273481                 -0.678773          -0.476127   \n",
       "1            0.923833                  0.810703           0.867268   \n",
       "2            0.120364                  0.810703           0.465534   \n",
       "3            0.213962                  1.236268           0.725115   \n",
       "4           -0.276760                  1.449050           0.586145   \n",
       "\n",
       "                                          Actor_name  \\\n",
       "0  Kristy Swanson, Donald Sutherland, Paul Reuben...   \n",
       "1  Cristi Conaway, Michael Gough, Pat Hingle, Jan...   \n",
       "2  Frank Doubleday, Kurt Russell, Lee Van Cleef, ...   \n",
       "3  Mariana Hewett, Tom Cruise, Nicole Kidman, Mad...   \n",
       "4  Richard Domeier, Bruce Campbell, Ted Raimi, Da...   \n",
       "\n",
       "                                      Character_name  \\\n",
       "0  Buffy Summers, Merrick, Amilyn, Lothos, Pike, ...   \n",
       "1  Ice Princess, Alfred Pennyworth, James Gordon,...   \n",
       "2  Romero, Snake Plissken, Hauk, Cabbie, Presiden...   \n",
       "3  Rosa, Bill Harford, Alice Hartford, Helena Har...   \n",
       "4  Ed Getley, Ash Williams, Possessed Henrietta, ...   \n",
       "\n",
       "                               Freebase_character_ID  \n",
       "0  /m/0b41h, /m/0h5s5mz, /m/0h5s5p6, /m/0h2n0pr, ...  \n",
       "1  /m/0h5rr59, /m/02r129, /m/031v20, /m/0h5rr4q, ...  \n",
       "2  /m/0h5twsj, /m/0345b_, /m/0h2y3nn, /m/0h5twr6,...  \n",
       "3  /m/0h5pb_4, /m/04jt3h_, /m/04dsqgh, /m/0g9f7s0...  \n",
       "4  /m/0h608bf, /m/06_krl, /m/0h608c0, /m/0h608b6,...  \n",
       "\n",
       "[5 rows x 22 columns]"
      ]
     },
     "execution_count": 83,
     "metadata": {},
     "output_type": "execute_result"
    }
   ],
   "source": [
    "# Do famous actors influence the movie rating ?\n",
    "\n",
    "# Merge movies and character metadata to have access to actors information for each movie, on Wipikedia_movie_ID\n",
    "movies_success_actors = success_data.merge(character_metadata, on='Wikipedia_movie_ID', how='inner')\n",
    "\n",
    "# To be considered as famous, an actor has to be in the famous_actors dataset\n",
    "movies_success_actors['IsFamousActor']=movies_success_actors['Actor_name'].isin(top100actors['Name'])\n",
    "\n",
    "# Group movies and actors dataframe by movie and aggregate actors and characters\n",
    "grouped_movies_success_actors = movies_success_actors.groupby('Wikipedia_movie_ID').agg({\n",
    "      'Freebase_movie_ID_x': 'first', 'Movie_name': 'first',\n",
    "       'Movie_release_date_x': 'first', 'Movie_box_office_revenue': 'first', 'Movie_runtime': 'first',\n",
    "       'Movie_languages': 'first', 'Movie_countries': 'first', 'Movie_genres': 'first',\n",
    "       'Audience_imdb_rating': 'first', 'Audience_imdb_count': 'first', 'Budget': 'first', \n",
    "       'Profit': 'first', 'Budget_adjusted': 'first', \n",
    "       'Freebase_actor_ID': 'first', 'IsFamousActor': 'first', 'Profit_standardized': 'first', 'imdb_rating_standardized': 'first', 'Success_indicator': 'first',\n",
    "    'Actor_name': lambda x: ', '.join(x.dropna()),\n",
    "    'Character_name': lambda x: ', '.join(x.dropna()),\n",
    "    'Freebase_character_ID': lambda x: ', '.join(x.dropna())\n",
    "}).reset_index()\n",
    "print('Size of the dataset with the actors: ', grouped_movies_success_actors.shape)\n",
    "\n",
    "grouped_movies_success_actors.head()"
   ]
  },
  {
   "cell_type": "code",
   "execution_count": 84,
   "id": "eee28f57",
   "metadata": {},
   "outputs": [
    {
     "data": {
      "image/png": "[encoded data removed]",
      "text/plain": [
       "<Figure size 640x480 with 1 Axes>"
      ]
     },
     "metadata": {},
     "output_type": "display_data"
    }
   ],
   "source": [
    "# Create a bar plot to visualize the relationship between the presence of famous actors (IsFamousActor=1) and the success indicator of movies\n",
    "\n",
    "movies_success_actors['IsFamousActor'] = movies_success_actors['IsFamousActor'].astype(int)\n",
    "ax = sns.barplot(data=movies_success_actors, x=movies_success_actors['IsFamousActor'],y=movies_success_actors['Success_indicator'])\n"
   ]
  },
  {
   "cell_type": "markdown",
   "id": "37376870",
   "metadata": {},
   "source": [
    "Here we are studying the influence of the cast on a movie's success, specifically exploring whether the inclusion of renowned actors (IsFamousActor=1) correlates with heightened success in a film. Our findings suggest a positive association between the presence of famous actors and increased movie success. This observation is intriguing as renowned actors may serve as confounding variables, potentially impacting the relationship between our movie title and its success. It will be important to consider this confounding factor for future studies. Our upcoming investigations will extend beyond to explore additional factors, including the movie production studio, the director influence, and the timing of release."
   ]
  },
  {
   "cell_type": "markdown",
   "id": "d5d45235",
   "metadata": {},
   "source": [
    "## Time series analysis"
   ]
  },
  {
   "cell_type": "markdown",
   "id": "24f27d9c",
   "metadata": {},
   "source": [
    "### Title length through time"
   ]
  },
  {
   "cell_type": "code",
   "execution_count": null,
   "id": "87a3d434",
   "metadata": {},
   "outputs": [],
   "source": [
    "# Add a column for the title length in words\n",
    "movies['Title_length'] = movies['Movie_name'].apply(count_words)"
   ]
  },
  {
   "cell_type": "code",
   "execution_count": null,
   "id": "ca4e7ecc",
   "metadata": {},
   "outputs": [],
   "source": [
    "# Plot of the average title length per year\n",
    "\n",
    "plt.figure(figsize=(12,5))\n",
    "plt.xlim(1900,2012)\n",
    "plt.xlabel('Movie release year')\n",
    "plt.ylabel('Title length')\n",
    "plt.title('Average title length per year (confidence interval 95%)')\n",
    "sns.lineplot(x='Movie_release_date', y='Title_length', errorbar='ci', data=movies)"
   ]
  },
  {
   "cell_type": "markdown",
   "id": "deadd533",
   "metadata": {},
   "source": [
    "The title length is **scattered at the beginning of the 20th century**. The average title length is **rather stable from 1930 to 2012** (very small confidence intervals).\n",
    "\n",
    "As very few movies were released at the beginning of the 20th century, we will plot join distributions of title length and number of movies released per year."
   ]
  },
  {
   "cell_type": "code",
   "execution_count": null,
   "id": "69158e51",
   "metadata": {},
   "outputs": [],
   "source": [
    "# Plot of the join distributions of title length and number of movies released per year, \n",
    "\n",
    "jplot = sns.jointplot(x='Movie_release_date', y='Title_length', data=movies, joint_kws={'s' : 40, 'alpha': 0.1})\n",
    "plt.xlabel('Movie release year')\n",
    "plt.ylabel('Title length')\n",
    "plt.ylim(0,20)\n",
    "jplot.fig.suptitle('Join distributions of title length and year')"
   ]
  },
  {
   "cell_type": "markdown",
   "id": "f276e2bf",
   "metadata": {},
   "source": [
    "## Genre analysis"
   ]
  },
  {
   "cell_type": "markdown",
   "id": "4bb15ef8",
   "metadata": {},
   "source": [
    "### Title length"
   ]
  },
  {
   "cell_type": "markdown",
   "id": "22abcc25",
   "metadata": {},
   "source": [
    "Does each genre have a specific title length? Did it evolve through time?\n",
    "\n",
    "This first visualization will help us to draw further analyses."
   ]
  },
  {
   "cell_type": "code",
   "execution_count": null,
   "metadata": {},
   "outputs": [],
   "source": [
    "import math\n",
    "\n",
    "# Create a list containing the 19 genre names \n",
    "genres = movies['Movie_main_genre'].unique()[:19]\n",
    "\n",
    "# Plot the evolution of title length per genre with a confidence interval of 95%\n",
    "nrows = 5\n",
    "ncols = 4\n",
    "fig, axes = plt.subplots(nrows, ncols, figsize=(12, 12), sharex=True)\n",
    "\n",
    "for i, genre in enumerate(genres, 1):\n",
    "    # Create a temporary dataframe containing only one genre\n",
    "    genre_data = movies[movies['Movie_main_genre'] == genre]\n",
    "    \n",
    "    # Plot in the adequate subpanel the title length per year for that genre\n",
    "    sns.lineplot(x='Movie_release_date', y='Title_length', errorbar='ci', data=genre_data, ax=axes[i%5, math.floor(i/5)])\n",
    "    \n",
    "    axes[i%5, math.floor(i/5)].set_title(f'{genre}')\n",
    "    axes[i%5, math.floor(i/5)].set_ylim(0, 12)\n",
    "    axes[i%5, math.floor(i/5)].set_xlim(1910, 2012)\n",
    "\n",
    "plt.tight_layout()\n",
    "plt.show()"
   ]
  },
  {
   "cell_type": "markdown",
   "metadata": {},
   "source": [
    "# Sentiment analysis (NLP)\n",
    "\n",
    "We want to investigate the lexical fields and the conotation of our titles. This would provide us useful information to link with success, time, genre. We make the naive assumption that darker, scarier movies are associated with negative sentiments, whereas comedy and romance films are associated with more positive sentiments.\n",
    "\n",
    "NLTK is a well-known and well-trained NLP library. The NLTK.ipynb notebook goes through basic functions of NLTK package that could be applied to movie's title.\n",
    "\n",
    "\n",
    "#### NLTK's Sentiment Analyzer (pre-trained)\n",
    "\n",
    "NLTK already has a built-in, pretrained sentiment analyzer called VADER (Valence Aware Dictionary and sEntiment Reasoner).\n",
    "\n",
    "Since VADER is pretrained, you can get results more quickly than with many other analyzers. However, VADER is best suited for language used in social media, like short sentences with some slang and abbreviations. It’s less accurate when rating longer, structured sentences. This point is actually very interesting for us since titles are usually short.\n",
    "\n"
   ]
  },
  {
   "cell_type": "code",
   "execution_count": null,
   "metadata": {},
   "outputs": [],
   "source": [
    "import nltk"
   ]
  },
  {
   "cell_type": "code",
   "execution_count": null,
   "metadata": {},
   "outputs": [
    {
     "data": {
      "text/plain": [
       "{'neg': 0.0, 'neu': 0.295, 'pos': 0.705, 'compound': 0.8012}"
      ]
     },
     "execution_count": 21,
     "metadata": {},
     "output_type": "execute_result"
    }
   ],
   "source": [
    "#An example of polarity sentiment analysis with NLTK\n",
    "\n",
    "from nltk.sentiment import SentimentIntensityAnalyzer\n",
    "sia = SentimentIntensityAnalyzer()\n",
    "sia.polarity_scores(\"Wow, NLTK is really powerful!\")"
   ]
  },
  {
   "cell_type": "code",
   "execution_count": null,
   "metadata": {},
   "outputs": [],
   "source": [
    "# Sentiment analysis depending on genre\n",
    "from nltk.sentiment import SentimentIntensityAnalyzer\n",
    "\n",
    "sia = SentimentIntensityAnalyzer()\n",
    "L_pos=[]\n",
    "L_neg=[]\n",
    "\n",
    "\n",
    "for i in range(len(movie_metadata_filtered)):\n",
    "    movie_name = movie_metadata_filtered.iloc[i].Movie_name\n",
    "    scores = sia.polarity_scores(movie_name)\n",
    "    L_pos.append(scores[\"pos\"])\n",
    "    L_neg.append(scores[\"neg\"])\n",
    "\n",
    "\n",
    "movie_metadata_filtered['pos_sentiment']=L_pos\n",
    "movie_metadata_filtered['neg_sentiment']=L_neg\n"
   ]
  },
  {
   "cell_type": "code",
   "execution_count": null,
   "metadata": {},
   "outputs": [
    {
     "name": "stderr",
     "output_type": "stream",
     "text": [
      "/var/folders/pj/81zyrwwx7vn9lhrcnxq6fn2r0000gn/T/ipykernel_9535/4179263746.py:1: FutureWarning: \n",
      "\n",
      "Passing `palette` without assigning `hue` is deprecated and will be removed in v0.14.0. Assign the `x` variable to `hue` and set `legend=False` for the same effect.\n",
      "\n",
      "  ax=sns.barplot(movie_metadata_filtered, x=\"Movie_main_genre\", y=\"pos_sentiment\",palette='colorblind')\n"
     ]
    },
    {
     "data": {
      "text/plain": [
       "[Text(0.5, 0, 'Main genres'),\n",
       " Text(0, 0.5, 'Positive sentiment score'),\n",
       " Text(0.5, 1.0, 'Positive sentiment per genre')]"
      ]
     },
     "execution_count": 23,
     "metadata": {},
     "output_type": "execute_result"
    },
    {
     "data": {
      "image/png": "[encoded data removed]",
      "text/plain": [
       "<Figure size 640x480 with 1 Axes>"
      ]
     },
     "metadata": {},
     "output_type": "display_data"
    }
   ],
   "source": [
    "ax=sns.barplot(movie_metadata_filtered, x=\"Movie_main_genre\", y=\"pos_sentiment\",palette='colorblind')\n",
    "plt.xticks(rotation=90)\n",
    "ax.set(xlabel=\"Main genres\",ylabel=\"Positive sentiment score\",title=\"Positive sentiment per genre\")"
   ]
  },
  {
   "cell_type": "code",
   "execution_count": null,
   "metadata": {},
   "outputs": [
    {
     "name": "stderr",
     "output_type": "stream",
     "text": [
      "/var/folders/pj/81zyrwwx7vn9lhrcnxq6fn2r0000gn/T/ipykernel_9535/4157152296.py:1: FutureWarning: \n",
      "\n",
      "Passing `palette` without assigning `hue` is deprecated and will be removed in v0.14.0. Assign the `x` variable to `hue` and set `legend=False` for the same effect.\n",
      "\n",
      "  sns.barplot(movie_metadata_filtered, x=\"Movie_main_genre\", y=\"neg_sentiment\",palette='colorblind')\n"
     ]
    },
    {
     "data": {
      "text/plain": [
       "[Text(0.5, 23.999999999999986, 'Main genres'),\n",
       " Text(24.00000000000002, 0.5, 'Negative sentiment score'),\n",
       " Text(0.5, 1.0, 'Negative sentiment per genre')]"
      ]
     },
     "execution_count": 24,
     "metadata": {},
     "output_type": "execute_result"
    },
    {
     "data": {
      "image/png": "[encoded data removed]",
      "text/plain": [
       "<Figure size 640x480 with 1 Axes>"
      ]
     },
     "metadata": {},
     "output_type": "display_data"
    }
   ],
   "source": [
    "sns.barplot(movie_metadata_filtered, x=\"Movie_main_genre\", y=\"neg_sentiment\",palette='colorblind')\n",
    "plt.xticks(rotation=90)\n",
    "ax.set(xlabel=\"Main genres\",ylabel=\"Negative sentiment score\",title=\"Negative sentiment per genre\")\n"
   ]
  },
  {
   "cell_type": "markdown",
   "metadata": {},
   "source": [
    "The two plots confirm our naive assumption:\n",
    "- Romance movie's titles are associated with higher positive sentiment score.\n",
    "- Horror movie's titles are associated with higher negative sentiment score.\n",
    "\n",
    "*To be continued*"
   ]
  },
  {
   "cell_type": "markdown",
   "metadata": {},
   "source": [
    "#Topic and lexical field analysis\n",
    "\n",
    "### First option: handmade \n",
    "\n",
    "The first option is to generate our own lexical fields (approximately 200 words) for each genre using AI word generator. We then calculate the frequency of words inside a lexical field associated with movies' genre.\n",
    "\n",
    "*To be done soon*\n",
    "\n",
    "### Second option: LDA model\n",
    "\n",
    "For this option, we need to load our documents and put them in Unicode string format (each document is a Unicode string). We process the titles and plot summaries of each movie using the key steps presented in the NLTK.ipynb (see Sentiment_Topic_Analysis.ipynb). They, we use the LDA model from gensim package. We train the model on the processed plot summaries. It returns lists of words associated together to a topic. For the moment, this solution does not seem to return lists that we can assign to coherent lexicqal fields that we could use.\n",
    "\n",
    "*To be continued*\n"
   ]
  }
 ],
 "metadata": {
  "kernelspec": {
   "display_name": "ada",
   "language": "python",
   "name": "python3"
  },
  "language_info": {
   "codemirror_mode": {
    "name": "ipython",
    "version": 3
   },
   "file_extension": ".py",
   "mimetype": "text/x-python",
   "name": "python",
   "nbconvert_exporter": "python",
   "pygments_lexer": "ipython3",
   "version": "3.9.18"
  }
 },
 "nbformat": 4,
 "nbformat_minor": 5
}
