{
 "cells": [
  {
   "cell_type": "markdown",
   "id": "67beb099-0c20-4431-be1d-df1c54bc0114",
   "metadata": {},
   "source": [
    "## First step to clean the dataset:\n",
    "\n",
    "- Select only English movies\n",
    "- Select onlu full-length feature (movies of more than one hour long)\n",
    "- Remove movies for which we don't have the title"
   ]
  },
  {
   "cell_type": "code",
   "execution_count": 1,
   "id": "89d56d4a-bdd9-438a-a690-5cbffaba8284",
   "metadata": {
    "tags": []
   },
   "outputs": [
    {
     "name": "stdout",
     "output_type": "stream",
     "text": [
      "Intel MKL WARNING: Support of Intel(R) Streaming SIMD Extensions 4.2 (Intel(R) SSE4.2) enabled only processors has been deprecated. Intel oneAPI Math Kernel Library 2025.0 will require Intel(R) Advanced Vector Extensions (Intel(R) AVX) instructions.\n",
      "Intel MKL WARNING: Support of Intel(R) Streaming SIMD Extensions 4.2 (Intel(R) SSE4.2) enabled only processors has been deprecated. Intel oneAPI Math Kernel Library 2025.0 will require Intel(R) Advanced Vector Extensions (Intel(R) AVX) instructions.\n"
     ]
    }
   ],
   "source": [
    "import pandas as pd\n",
    "import requests"
   ]
  },
  {
   "cell_type": "code",
   "execution_count": 3,
   "id": "d0660acd-f658-4151-82cd-116d5d5063dd",
   "metadata": {
    "tags": []
   },
   "outputs": [],
   "source": [
    "character_metadata = pd.read_csv('Data/character.metadata.tsv', sep='\\t', names = ['Wikipedia_movie_ID',\n",
    "                                                                              'Freebase_movie_ID',\n",
    "                                                                              'Movie_release_date',\n",
    "                                                                              'Character_name',\n",
    "                                                                              'Actor_date_of_birth',\n",
    "                                                                              'Actor_gender',\n",
    "                                                                              'Actor_height',\n",
    "                                                                              'Actor_ethnicity',\n",
    "                                                                              'Actor_name',\n",
    "                                                                              'Actor_age_at_movie_release',\n",
    "                                                                              'Freebase_character/actor_map_ID',\n",
    "                                                                              'Freebase_character_ID',\n",
    "                                                                              'Freebase_actor_ID'])\n",
    "\n",
    "movie_metadata = pd.read_csv('Data/movie.metadata.tsv', sep='\\t', names = ['Wikipedia_movie_ID',\n",
    "                                                                              'Freebase_movie_ID',\n",
    "                                                                              'Movie_name',\n",
    "                                                                              'Movie_release_date',\n",
    "                                                                              'Movie_box_office_revenue',\n",
    "                                                                              'Movie_runtime',\n",
    "                                                                              'Movie_languages',\n",
    "                                                                              'Movie_countries',\n",
    "                                                                              'Movie_genres'])\n",
    "\n",
    "plot_summaries = pd.read_csv('Data/plot_summaries.txt', sep='\\t', names = ['Wikipedia_movie_ID',\n",
    "                                                                              'summary'])"
   ]
  },
  {
   "cell_type": "code",
   "execution_count": 4,
   "id": "c371179e-7f33-4628-9145-5f8af60c7d1b",
   "metadata": {
    "tags": []
   },
   "outputs": [
    {
     "name": "stdout",
     "output_type": "stream",
     "text": [
      "       Wikipedia_movie_ID Freebase_movie_ID  \\\n",
      "0                  975900         /m/03vyhn   \n",
      "1                 3196793         /m/08yl5d   \n",
      "3                 9363483        /m/0285_cd   \n",
      "6                18998739        /m/04jcqvw   \n",
      "7                10408933        /m/02qc0j7   \n",
      "...                   ...               ...   \n",
      "81735            32468537        /m/0crwd9y   \n",
      "81736            35228177        /m/0j7hxnt   \n",
      "81737            34980460        /m/0g4pl34   \n",
      "81738             9971909        /m/02pygw1   \n",
      "81740            12476867        /m/02w7zz8   \n",
      "\n",
      "                                              Movie_name Movie_release_date  \\\n",
      "0                                         Ghosts of Mars         2001-08-24   \n",
      "1      Getting Away with Murder: The JonBenét Ramsey ...         2000-02-16   \n",
      "3                                       White Of The Eye               1987   \n",
      "6                              The Sorcerer's Apprentice               2002   \n",
      "7                               Alexander's Ragtime Band         1938-08-16   \n",
      "...                                                  ...                ...   \n",
      "81735                                    Shadow Boxing 2         2007-10-18   \n",
      "81736                           Mermaids: The Body Found         2011-03-19   \n",
      "81737                                            Knuckle         2011-01-21   \n",
      "81738                                  Another Nice Mess         1972-09-22   \n",
      "81740                                            Spliced               2002   \n",
      "\n",
      "       Movie_box_office_revenue  Movie_runtime  \\\n",
      "0                    14010832.0           98.0   \n",
      "1                           NaN           95.0   \n",
      "3                           NaN          110.0   \n",
      "6                           NaN           86.0   \n",
      "7                     3600000.0          106.0   \n",
      "...                         ...            ...   \n",
      "81735                       NaN          132.0   \n",
      "81736                       NaN          120.0   \n",
      "81737                       NaN           96.0   \n",
      "81738                       NaN           66.0   \n",
      "81740                       NaN           86.0   \n",
      "\n",
      "                                         Movie_languages  \\\n",
      "0                     {\"/m/02h40lc\": \"English Language\"}   \n",
      "1                     {\"/m/02h40lc\": \"English Language\"}   \n",
      "3                     {\"/m/02h40lc\": \"English Language\"}   \n",
      "6                     {\"/m/02h40lc\": \"English Language\"}   \n",
      "7                     {\"/m/02h40lc\": \"English Language\"}   \n",
      "...                                                  ...   \n",
      "81735  {\"/m/06b_j\": \"Russian Language\", \"/m/02h40lc\":...   \n",
      "81736                 {\"/m/02h40lc\": \"English Language\"}   \n",
      "81737                 {\"/m/02h40lc\": \"English Language\"}   \n",
      "81738                 {\"/m/02h40lc\": \"English Language\"}   \n",
      "81740                 {\"/m/02h40lc\": \"English Language\"}   \n",
      "\n",
      "                                         Movie_countries  \\\n",
      "0              {\"/m/09c7w0\": \"United States of America\"}   \n",
      "1              {\"/m/09c7w0\": \"United States of America\"}   \n",
      "3                         {\"/m/07ssc\": \"United Kingdom\"}   \n",
      "6                           {\"/m/0hzlz\": \"South Africa\"}   \n",
      "7              {\"/m/09c7w0\": \"United States of America\"}   \n",
      "...                                                  ...   \n",
      "81735                             {\"/m/06bnz\": \"Russia\"}   \n",
      "81736          {\"/m/09c7w0\": \"United States of America\"}   \n",
      "81737  {\"/m/03rt9\": \"Ireland\", \"/m/07ssc\": \"United Ki...   \n",
      "81738          {\"/m/09c7w0\": \"United States of America\"}   \n",
      "81740                            {\"/m/0d060g\": \"Canada\"}   \n",
      "\n",
      "                                            Movie_genres  \n",
      "0      {\"/m/01jfsb\": \"Thriller\", \"/m/06n90\": \"Science...  \n",
      "1      {\"/m/02n4kr\": \"Mystery\", \"/m/03bxz7\": \"Biograp...  \n",
      "3      {\"/m/01jfsb\": \"Thriller\", \"/m/0glj9q\": \"Erotic...  \n",
      "6      {\"/m/0hqxf\": \"Family Film\", \"/m/01hmnh\": \"Fant...  \n",
      "7      {\"/m/04t36\": \"Musical\", \"/m/01z4y\": \"Comedy\", ...  \n",
      "...                                                  ...  \n",
      "81735  {\"/m/01z02hx\": \"Sports\", \"/m/0lsxr\": \"Crime Fi...  \n",
      "81736                            {\"/m/07s9rl0\": \"Drama\"}  \n",
      "81737  {\"/m/03bxz7\": \"Biographical film\", \"/m/07s9rl0...  \n",
      "81738       {\"/m/06nbt\": \"Satire\", \"/m/01z4y\": \"Comedy\"}  \n",
      "81740  {\"/m/01jfsb\": \"Thriller\", \"/m/03npn\": \"Horror\"...  \n",
      "\n",
      "[31269 rows x 9 columns]\n"
     ]
    }
   ],
   "source": [
    "#Copy of movie_metadata dataset\n",
    "movie_metadata_filtered = movie_metadata.copy(deep= True)\n",
    "\n",
    "#Filtering of movie_metada, keeping only full-length features movies (more than 60 minutes long), in English and with that have a Title in the database.\n",
    "movie_metadata_filtered = movie_metadata_filtered[movie_metadata_filtered.Movie_languages.str.contains(\"English\")]\n",
    "movie_metadata_filtered.dropna(subset=['Movie_name'],inplace=True)\n",
    "movie_metadata_filtered = movie_metadata_filtered[movie_metadata_filtered.Movie_runtime >= 60]\n",
    "\n",
    "print(movie_metadata_filtered)"
   ]
  },
  {
   "cell_type": "code",
   "execution_count": 5,
   "id": "1320b194-178c-43c3-ad4b-c83d289ef097",
   "metadata": {
    "tags": []
   },
   "outputs": [
    {
     "data": {
      "text/plain": [
       "21500                              Murder a la Mod\n",
       "33420    La pelota vasca. La piel contra la piedra\n",
       "39681                             Café de la plage\n",
       "40550                         Les Damnés de la mer\n",
       "45773               Lumumba, la mort d'un prophète\n",
       "Name: Movie_name, dtype: object"
      ]
     },
     "execution_count": 5,
     "metadata": {},
     "output_type": "execute_result"
    }
   ],
   "source": [
    "movie_metadata_filtered.Movie_name[movie_metadata_filtered.Movie_name.str.contains(\" la \")].head()\n",
    "\n",
    "#There are still some Title that are not in English..."
   ]
  },
  {
   "cell_type": "code",
   "execution_count": 6,
   "id": "24b9232b-9cd8-48ae-aaf2-f4d0a053cdd5",
   "metadata": {
    "tags": []
   },
   "outputs": [],
   "source": [
    "movie_Englsih_only = movie_metadata_filtered[movie_metadata_filtered.Movie_languages == '{\"/m/02h40lc\": \"English Language\"}']"
   ]
  },
  {
   "cell_type": "code",
   "execution_count": 7,
   "id": "67d8371b-1281-4010-a60b-8c29eb91876f",
   "metadata": {
    "tags": []
   },
   "outputs": [
    {
     "data": {
      "text/plain": [
       "21500    Murder a la Mod\n",
       "70558      Irma la Douce\n",
       "Name: Movie_name, dtype: object"
      ]
     },
     "execution_count": 7,
     "metadata": {},
     "output_type": "execute_result"
    }
   ],
   "source": [
    "movie_Englsih_only.Movie_name[movie_Englsih_only.Movie_name.str.contains(\" la \")].head()"
   ]
  },
  {
   "cell_type": "code",
   "execution_count": 8,
   "id": "0e83862d-05fd-4ee9-9d4c-6359e877b9b8",
   "metadata": {
    "tags": []
   },
   "outputs": [],
   "source": [
    "movie_Englsih_only.to_csv(path_or_buf = \"Data/movies_metadata_english_only.csv\", sep=',')"
   ]
  },
  {
   "cell_type": "code",
   "execution_count": 4,
   "id": "181fc730",
   "metadata": {},
   "outputs": [],
   "source": [
    "# IMDB files \n",
    "\n",
    "ratings_imdb = pd.read_table('Data/ratings_imdb.tsv', sep=\"\\t\")\n",
    "ratings_imdb.head()\n",
    "\n",
    "\n",
    "movies_imdb= pd.read_table('Data/movies_imdb.tsv', sep=\"\\t\")\n",
    "\n"
   ]
  },
  {
   "cell_type": "code",
   "execution_count": null,
   "id": "ce93cc76",
   "metadata": {},
   "outputs": [],
   "source": []
  }
 ],
 "metadata": {
  "kernelspec": {
   "display_name": "Python3",
   "language": "python",
   "name": "python3"
  },
  "language_info": {
   "codemirror_mode": {
    "name": "ipython",
    "version": 3
   },
   "file_extension": ".py",
   "mimetype": "text/x-python",
   "name": "python",
   "nbconvert_exporter": "python",
   "pygments_lexer": "ipython3",
   "version": "3.9.18"
  }
 },
 "nbformat": 4,
 "nbformat_minor": 5
}
