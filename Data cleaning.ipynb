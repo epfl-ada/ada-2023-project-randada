{
 "cells": [
  {
   "cell_type": "markdown",
   "id": "67beb099-0c20-4431-be1d-df1c54bc0114",
   "metadata": {},
   "source": [
    "## First step to clean the dataset:\n",
    "\n",
    "- Select only English movies\n",
    "- Select onlu full-length feature (movies of more than one hour long)\n",
    "- Remove movies for which we don't have the title"
   ]
  },
  {
   "cell_type": "code",
   "execution_count": 22,
   "id": "89d56d4a-bdd9-438a-a690-5cbffaba8284",
   "metadata": {
    "tags": []
   },
   "outputs": [],
   "source": [
    "import pandas as pd\n",
    "import seaborn as sns\n",
    "import matplotlib.pyplot as plt\n",
    "import requests\n",
    "import numpy as np\n",
    "import string\n",
    "import json"
   ]
  },
  {
   "cell_type": "code",
   "execution_count": 23,
   "id": "d0660acd-f658-4151-82cd-116d5d5063dd",
   "metadata": {
    "tags": []
   },
   "outputs": [],
   "source": [
    "character_metadata = pd.read_csv('Data/character.metadata.tsv', sep='\\t', names = ['Wikipedia_movie_ID',\n",
    "                                                                              'Freebase_movie_ID',\n",
    "                                                                              'Movie_release_date',\n",
    "                                                                              'Character_name',\n",
    "                                                                              'Actor_date_of_birth',\n",
    "                                                                              'Actor_gender',\n",
    "                                                                              'Actor_height',\n",
    "                                                                              'Actor_ethnicity',\n",
    "                                                                              'Actor_name',\n",
    "                                                                              'Actor_age_at_movie_release',\n",
    "                                                                              'Freebase_character/actor_map_ID',\n",
    "                                                                              'Freebase_character_ID',\n",
    "                                                                              'Freebase_actor_ID'])\n",
    "\n",
    "movie_metadata = pd.read_csv('Data/movie.metadata.tsv', sep='\\t', names = ['Wikipedia_movie_ID',\n",
    "                                                                              'Freebase_movie_ID',\n",
    "                                                                              'Movie_name',\n",
    "                                                                              'Movie_release_date',\n",
    "                                                                              'Movie_box_office_revenue',\n",
    "                                                                              'Movie_runtime',\n",
    "                                                                              'Movie_languages',\n",
    "                                                                              'Movie_countries',\n",
    "                                                                              'Movie_genres'])\n",
    "\n",
    "plot_summaries = pd.read_csv('Data/plot_summaries.txt', sep='\\t', names = ['Wikipedia_movie_ID',\n",
    "                                                                              'summary'])"
   ]
  },
  {
   "cell_type": "code",
   "execution_count": 24,
   "id": "831f40e2",
   "metadata": {
    "tags": []
   },
   "outputs": [
    {
     "data": {
      "text/html": [
       "<div>\n",
       "<style scoped>\n",
       "    .dataframe tbody tr th:only-of-type {\n",
       "        vertical-align: middle;\n",
       "    }\n",
       "\n",
       "    .dataframe tbody tr th {\n",
       "        vertical-align: top;\n",
       "    }\n",
       "\n",
       "    .dataframe thead th {\n",
       "        text-align: right;\n",
       "    }\n",
       "</style>\n",
       "<table border=\"1\" class=\"dataframe\">\n",
       "  <thead>\n",
       "    <tr style=\"text-align: right;\">\n",
       "      <th></th>\n",
       "      <th>Wikipedia_movie_ID</th>\n",
       "      <th>Freebase_movie_ID</th>\n",
       "      <th>Movie_name</th>\n",
       "      <th>Movie_release_date</th>\n",
       "      <th>Movie_box_office_revenue</th>\n",
       "      <th>Movie_runtime</th>\n",
       "      <th>Movie_languages</th>\n",
       "      <th>Movie_countries</th>\n",
       "      <th>Movie_genres</th>\n",
       "    </tr>\n",
       "  </thead>\n",
       "  <tbody>\n",
       "    <tr>\n",
       "      <th>0</th>\n",
       "      <td>975900</td>\n",
       "      <td>/m/03vyhn</td>\n",
       "      <td>Ghosts of Mars</td>\n",
       "      <td>2001-08-24</td>\n",
       "      <td>14010832.0</td>\n",
       "      <td>98.0</td>\n",
       "      <td>[English Language]</td>\n",
       "      <td>[United States of America]</td>\n",
       "      <td>[Thriller, Science Fiction, Horror, Adventure,...</td>\n",
       "    </tr>\n",
       "    <tr>\n",
       "      <th>1</th>\n",
       "      <td>3196793</td>\n",
       "      <td>/m/08yl5d</td>\n",
       "      <td>Getting Away with Murder: The JonBenét Ramsey ...</td>\n",
       "      <td>2000-02-16</td>\n",
       "      <td>NaN</td>\n",
       "      <td>95.0</td>\n",
       "      <td>[English Language]</td>\n",
       "      <td>[United States of America]</td>\n",
       "      <td>[Mystery, Biographical film, Drama, Crime Drama]</td>\n",
       "    </tr>\n",
       "    <tr>\n",
       "      <th>2</th>\n",
       "      <td>28463795</td>\n",
       "      <td>/m/0crgdbh</td>\n",
       "      <td>Brun bitter</td>\n",
       "      <td>1988</td>\n",
       "      <td>NaN</td>\n",
       "      <td>83.0</td>\n",
       "      <td>[Norwegian Language]</td>\n",
       "      <td>[Norway]</td>\n",
       "      <td>[Crime Fiction, Drama]</td>\n",
       "    </tr>\n",
       "    <tr>\n",
       "      <th>3</th>\n",
       "      <td>9363483</td>\n",
       "      <td>/m/0285_cd</td>\n",
       "      <td>White Of The Eye</td>\n",
       "      <td>1987</td>\n",
       "      <td>NaN</td>\n",
       "      <td>110.0</td>\n",
       "      <td>[English Language]</td>\n",
       "      <td>[United Kingdom]</td>\n",
       "      <td>[Thriller, Erotic thriller, Psychological thri...</td>\n",
       "    </tr>\n",
       "    <tr>\n",
       "      <th>4</th>\n",
       "      <td>261236</td>\n",
       "      <td>/m/01mrr1</td>\n",
       "      <td>A Woman in Flames</td>\n",
       "      <td>1983</td>\n",
       "      <td>NaN</td>\n",
       "      <td>106.0</td>\n",
       "      <td>[German Language]</td>\n",
       "      <td>[Germany]</td>\n",
       "      <td>[Drama]</td>\n",
       "    </tr>\n",
       "  </tbody>\n",
       "</table>\n",
       "</div>"
      ],
      "text/plain": [
       "   Wikipedia_movie_ID Freebase_movie_ID  \\\n",
       "0              975900         /m/03vyhn   \n",
       "1             3196793         /m/08yl5d   \n",
       "2            28463795        /m/0crgdbh   \n",
       "3             9363483        /m/0285_cd   \n",
       "4              261236         /m/01mrr1   \n",
       "\n",
       "                                          Movie_name Movie_release_date  \\\n",
       "0                                     Ghosts of Mars         2001-08-24   \n",
       "1  Getting Away with Murder: The JonBenét Ramsey ...         2000-02-16   \n",
       "2                                        Brun bitter               1988   \n",
       "3                                   White Of The Eye               1987   \n",
       "4                                  A Woman in Flames               1983   \n",
       "\n",
       "   Movie_box_office_revenue  Movie_runtime       Movie_languages  \\\n",
       "0                14010832.0           98.0    [English Language]   \n",
       "1                       NaN           95.0    [English Language]   \n",
       "2                       NaN           83.0  [Norwegian Language]   \n",
       "3                       NaN          110.0    [English Language]   \n",
       "4                       NaN          106.0     [German Language]   \n",
       "\n",
       "              Movie_countries  \\\n",
       "0  [United States of America]   \n",
       "1  [United States of America]   \n",
       "2                    [Norway]   \n",
       "3            [United Kingdom]   \n",
       "4                   [Germany]   \n",
       "\n",
       "                                        Movie_genres  \n",
       "0  [Thriller, Science Fiction, Horror, Adventure,...  \n",
       "1   [Mystery, Biographical film, Drama, Crime Drama]  \n",
       "2                             [Crime Fiction, Drama]  \n",
       "3  [Thriller, Erotic thriller, Psychological thri...  \n",
       "4                                            [Drama]  "
      ]
     },
     "execution_count": 24,
     "metadata": {},
     "output_type": "execute_result"
    }
   ],
   "source": [
    "#Copy of movie_metadata dataset\n",
    "movie_metadata_readable = movie_metadata.copy(deep= True)\n",
    "\n",
    "# Make the column Movie_languages, Movie_countries and Movie_genres more readable (i.e change as list)\n",
    "\n",
    "def readable(column):\n",
    "    pd.set_option('mode.chained_assignment', None) #remove warning\n",
    "    for i in column.index:\n",
    "        d=json.loads(column[i]) #change set of each row from the colomn to dict\n",
    "        column[i]=list(d.values()) #change the dict into list\n",
    "\n",
    "readable(movie_metadata_readable['Movie_languages'])\n",
    "readable(movie_metadata_readable['Movie_countries'])\n",
    "readable(movie_metadata_readable['Movie_genres'])\n",
    "\n",
    "movie_metadata_readable.head()"
   ]
  },
  {
   "cell_type": "code",
   "execution_count": 25,
   "id": "c371179e-7f33-4628-9145-5f8af60c7d1b",
   "metadata": {
    "tags": []
   },
   "outputs": [
    {
     "name": "stdout",
     "output_type": "stream",
     "text": [
      "Number of movies in the database before the first cleaning step: 81741.\n",
      "Number of movies in the database after this first cleaning step: 52286.\n"
     ]
    }
   ],
   "source": [
    "#Filtering of movie_metada, keeping only full-length features movies (more than 60 minutes long) and that have a Title in the database.\n",
    "movie_metadata_filtered = movie_metadata_readable.copy(deep=True)\n",
    "print(f\"Number of movies in the database before the first cleaning step: {movie_metadata_filtered['Movie_release_date'].size}.\")\n",
    "\n",
    "\n",
    "movie_metadata_filtered.dropna(subset=['Movie_name'],inplace=True)\n",
    "\n",
    "movie_metadata_filtered = movie_metadata_filtered[movie_metadata_filtered.Movie_runtime >= 60]\n",
    "\n",
    "\n",
    "#Cleaning of the Movie_release_date column, to keep only the year of release\n",
    "movie_metadata_filtered.dropna(subset=['Movie_release_date'], inplace = True)\n",
    "movie_metadata_filtered[\"Movie_release_date\"] = movie_metadata_filtered['Movie_release_date'].apply(lambda x : str(x)[:4]).apply(lambda x : int(x))\n",
    "\n",
    "\n",
    "print(f\"Number of movies in the database after this first cleaning step: {movie_metadata_filtered['Movie_release_date'].size}.\")"
   ]
  },
  {
   "cell_type": "markdown",
   "id": "d203f0f8",
   "metadata": {},
   "source": [
    "# Language filtering\n",
    "Because we want to do NLP analysis of the title, we want to filter the dataset to keep mainly english movies, as the NLP packages are mostly developed for english. To do this easily we may want to only select movies that have English as main language as they should also have an English title."
   ]
  },
  {
   "cell_type": "code",
   "execution_count": 26,
   "id": "23948f58",
   "metadata": {
    "tags": []
   },
   "outputs": [
    {
     "data": {
      "image/png": "[encoded data removed]",
      "text/plain": [
       "<Figure size 1000x600 with 1 Axes>"
      ]
     },
     "metadata": {},
     "output_type": "display_data"
    }
   ],
   "source": [
    "#Movie distribution per languages\n",
    "\n",
    "movie_metadata_filtered['Movie_main_language'] = movie_metadata_filtered.Movie_languages.str[0]\n",
    "movie_metadata_filtered['Movie_main_language'] = movie_metadata_filtered.Movie_main_language.astype('category')\n",
    "\n",
    "# Create a DataFrame with feature counts\n",
    "main_languages = movie_metadata_filtered['Movie_main_language'].value_counts()\n",
    "\n",
    "# Select the top ten features\n",
    "top_ten_main_languages = main_languages.head(10)\n",
    "\n",
    "# Plot the bar plot\n",
    "plt.figure(figsize=(10, 6))\n",
    "top_ten_main_languages.plot(kind='bar', color='skyblue')\n",
    "plt.title('Top Ten main languages by Count')\n",
    "plt.xlabel('Main language')\n",
    "plt.ylabel('Count')\n",
    "plt.show()\n",
    "\n",
    "\n",
    "#plt.figure(figsize=(30,10))\n",
    "##plt.rc('axes', unicode_minus=False)\n",
    "#ax = sns.histplot(movie_metadata_filtered,x='Movie_main_language',stat='count',color='orange')\n",
    "#plt.setp(ax.xaxis.get_majorticklabels(), rotation=90)\n",
    "#plt.gcf().subplots_adjust(bottom=0.15)\n",
    "\n",
    "\n",
    "#The warning messages are due to some errors because of the font used which is not able to print foreign characters (Chinese or Arab characters for example)\n",
    "\n",
    "#The most used language is the english. It should not be a problem to only keep movies with english as main language."
   ]
  },
  {
   "cell_type": "markdown",
   "id": "c1ed7315-0c6a-4115-ae1f-67a56f635145",
   "metadata": {},
   "source": [
    "The main language of most movies is English, so keeping only these movies should not alter too much the whole database."
   ]
  },
  {
   "cell_type": "code",
   "execution_count": 27,
   "id": "39f28514",
   "metadata": {
    "tags": []
   },
   "outputs": [
    {
     "name": "stdout",
     "output_type": "stream",
     "text": [
      "Number of movies in the database after the language filtering: 26855.\n"
     ]
    }
   ],
   "source": [
    "#Create dataset with filtered language:  english as first language\n",
    "\n",
    "movie_metadata_filtered = movie_metadata_filtered[movie_metadata_filtered.Movie_main_language==\"English Language\"] #English Language as First Language\n",
    "\n",
    "print(f\"Number of movies in the database after the language filtering: {movie_metadata_filtered['Movie_release_date'].size}.\")"
   ]
  },
  {
   "cell_type": "markdown",
   "id": "ff519e76",
   "metadata": {},
   "source": [
    "# Temporal distribution\n",
    "\n",
    "Let's explore our data. One first thing to look at is the temporal distribution of movies. When where movies released and how did it changed with time?"
   ]
  },
  {
   "cell_type": "code",
   "execution_count": 28,
   "id": "80ed2f75",
   "metadata": {
    "tags": []
   },
   "outputs": [
    {
     "data": {
      "image/png": "[encoded data removed]",
      "text/plain": [
       "<Figure size 1000x500 with 1 Axes>"
      ]
     },
     "metadata": {},
     "output_type": "display_data"
    }
   ],
   "source": [
    "#Number of movies per year\n",
    "plt.figure(figsize=(10,5))\n",
    "ax = sns.histplot(movie_metadata_filtered,x='Movie_release_date',stat='count',color=\"purple\").set(title=\"Number of movies per year\",xlabel=\"Year\",ylabel=\"Number of movies\")"
   ]
  },
  {
   "cell_type": "markdown",
   "id": "0004ee7a-fece-4eaa-88de-01ba09eeba1b",
   "metadata": {},
   "source": [
    "Our dataset was extracted in 2012. Thus, the movies released after 2012 miss a lot of information. Let's see if some movies have a release date after 2012"
   ]
  },
  {
   "cell_type": "code",
   "execution_count": 29,
   "id": "960987cb",
   "metadata": {
    "tags": []
   },
   "outputs": [
    {
     "data": {
      "text/html": [
       "<div>\n",
       "<style scoped>\n",
       "    .dataframe tbody tr th:only-of-type {\n",
       "        vertical-align: middle;\n",
       "    }\n",
       "\n",
       "    .dataframe tbody tr th {\n",
       "        vertical-align: top;\n",
       "    }\n",
       "\n",
       "    .dataframe thead th {\n",
       "        text-align: right;\n",
       "    }\n",
       "</style>\n",
       "<table border=\"1\" class=\"dataframe\">\n",
       "  <thead>\n",
       "    <tr style=\"text-align: right;\">\n",
       "      <th></th>\n",
       "      <th>Wikipedia_movie_ID</th>\n",
       "      <th>Freebase_movie_ID</th>\n",
       "      <th>Movie_name</th>\n",
       "      <th>Movie_release_date</th>\n",
       "      <th>Movie_box_office_revenue</th>\n",
       "      <th>Movie_runtime</th>\n",
       "      <th>Movie_languages</th>\n",
       "      <th>Movie_countries</th>\n",
       "      <th>Movie_genres</th>\n",
       "      <th>Movie_main_language</th>\n",
       "    </tr>\n",
       "  </thead>\n",
       "  <tbody>\n",
       "    <tr>\n",
       "      <th>2942</th>\n",
       "      <td>29097142</td>\n",
       "      <td>/m/0dlk_qn</td>\n",
       "      <td>Movie 43</td>\n",
       "      <td>2013</td>\n",
       "      <td>NaN</td>\n",
       "      <td>175.0</td>\n",
       "      <td>[English Language]</td>\n",
       "      <td>[United States of America]</td>\n",
       "      <td>[Comedy]</td>\n",
       "      <td>English Language</td>\n",
       "    </tr>\n",
       "    <tr>\n",
       "      <th>4676</th>\n",
       "      <td>34957039</td>\n",
       "      <td>/m/0j7mv7h</td>\n",
       "      <td>Postman Pat: The Movie — You Know You're The One</td>\n",
       "      <td>2013</td>\n",
       "      <td>NaN</td>\n",
       "      <td>117.0</td>\n",
       "      <td>[English Language]</td>\n",
       "      <td>[United Kingdom]</td>\n",
       "      <td>[Family Film, Animation]</td>\n",
       "      <td>English Language</td>\n",
       "    </tr>\n",
       "    <tr>\n",
       "      <th>9447</th>\n",
       "      <td>3081811</td>\n",
       "      <td>/m/08q3xy</td>\n",
       "      <td>Sin City 2</td>\n",
       "      <td>2013</td>\n",
       "      <td>NaN</td>\n",
       "      <td>120.0</td>\n",
       "      <td>[English Language]</td>\n",
       "      <td>[United States of America]</td>\n",
       "      <td>[Thriller, Crime Fiction, Superhero movie, Act...</td>\n",
       "      <td>English Language</td>\n",
       "    </tr>\n",
       "    <tr>\n",
       "      <th>13338</th>\n",
       "      <td>36120997</td>\n",
       "      <td>/m/0k0wrfg</td>\n",
       "      <td>Ned Venture</td>\n",
       "      <td>2013</td>\n",
       "      <td>NaN</td>\n",
       "      <td>90.0</td>\n",
       "      <td>[English Language]</td>\n",
       "      <td>[United States of America]</td>\n",
       "      <td>[Comedy film]</td>\n",
       "      <td>English Language</td>\n",
       "    </tr>\n",
       "    <tr>\n",
       "      <th>14160</th>\n",
       "      <td>31106576</td>\n",
       "      <td>/m/0gh8bt9</td>\n",
       "      <td>Bullet to the Head</td>\n",
       "      <td>2013</td>\n",
       "      <td>NaN</td>\n",
       "      <td>97.0</td>\n",
       "      <td>[English Language]</td>\n",
       "      <td>[United States of America]</td>\n",
       "      <td>[Thriller, Crime Fiction, Action]</td>\n",
       "      <td>English Language</td>\n",
       "    </tr>\n",
       "    <tr>\n",
       "      <th>16772</th>\n",
       "      <td>23468311</td>\n",
       "      <td>/m/06w6vd9</td>\n",
       "      <td>Quick, Slip Me A Bride</td>\n",
       "      <td>2013</td>\n",
       "      <td>NaN</td>\n",
       "      <td>100.0</td>\n",
       "      <td>[English Language]</td>\n",
       "      <td>[United Kingdom]</td>\n",
       "      <td>[Romance Film]</td>\n",
       "      <td>English Language</td>\n",
       "    </tr>\n",
       "    <tr>\n",
       "      <th>18210</th>\n",
       "      <td>34682342</td>\n",
       "      <td>/m/0j3d8n7</td>\n",
       "      <td>Calvary</td>\n",
       "      <td>2013</td>\n",
       "      <td>NaN</td>\n",
       "      <td>147.0</td>\n",
       "      <td>[English Language]</td>\n",
       "      <td>[Ireland, United Kingdom]</td>\n",
       "      <td>[Black comedy, Comedy film, Drama]</td>\n",
       "      <td>English Language</td>\n",
       "    </tr>\n",
       "    <tr>\n",
       "      <th>32241</th>\n",
       "      <td>34779274</td>\n",
       "      <td>/m/0j3f7xf</td>\n",
       "      <td>Viy. Returning</td>\n",
       "      <td>2013</td>\n",
       "      <td>NaN</td>\n",
       "      <td>112.0</td>\n",
       "      <td>[English Language, Russian Language]</td>\n",
       "      <td>[Ukraine, Czech Republic, Russia]</td>\n",
       "      <td>[Thriller, Mystery, Horror, Adventure]</td>\n",
       "      <td>English Language</td>\n",
       "    </tr>\n",
       "    <tr>\n",
       "      <th>32338</th>\n",
       "      <td>35229863</td>\n",
       "      <td>/m/0j7m_4k</td>\n",
       "      <td>McConkey</td>\n",
       "      <td>2013</td>\n",
       "      <td>NaN</td>\n",
       "      <td>90.0</td>\n",
       "      <td>[English Language]</td>\n",
       "      <td>[United States of America]</td>\n",
       "      <td>[Biographical film, Documentary]</td>\n",
       "      <td>English Language</td>\n",
       "    </tr>\n",
       "    <tr>\n",
       "      <th>32529</th>\n",
       "      <td>35720024</td>\n",
       "      <td>/m/0jt1g0l</td>\n",
       "      <td>Teen Beach Musical</td>\n",
       "      <td>2013</td>\n",
       "      <td>NaN</td>\n",
       "      <td>125.0</td>\n",
       "      <td>[English Language]</td>\n",
       "      <td>[United States of America]</td>\n",
       "      <td>[Musical, Family Film]</td>\n",
       "      <td>English Language</td>\n",
       "    </tr>\n",
       "    <tr>\n",
       "      <th>41704</th>\n",
       "      <td>34502682</td>\n",
       "      <td>/m/0j27q89</td>\n",
       "      <td>Khumba</td>\n",
       "      <td>2013</td>\n",
       "      <td>NaN</td>\n",
       "      <td>90.0</td>\n",
       "      <td>[English Language]</td>\n",
       "      <td>[South Africa]</td>\n",
       "      <td>[Family Film, Children's, Adventure, Animation]</td>\n",
       "      <td>English Language</td>\n",
       "    </tr>\n",
       "    <tr>\n",
       "      <th>41865</th>\n",
       "      <td>11055577</td>\n",
       "      <td>/m/02qzhdk</td>\n",
       "      <td>Boyhood</td>\n",
       "      <td>2013</td>\n",
       "      <td>NaN</td>\n",
       "      <td>153.0</td>\n",
       "      <td>[English Language]</td>\n",
       "      <td>[United States of America]</td>\n",
       "      <td>[Drama]</td>\n",
       "      <td>English Language</td>\n",
       "    </tr>\n",
       "    <tr>\n",
       "      <th>52589</th>\n",
       "      <td>35777727</td>\n",
       "      <td>/m/0jt0p_0</td>\n",
       "      <td>Ruby</td>\n",
       "      <td>2013</td>\n",
       "      <td>NaN</td>\n",
       "      <td>90.0</td>\n",
       "      <td>[English Language]</td>\n",
       "      <td>[Italy]</td>\n",
       "      <td>[Animation]</td>\n",
       "      <td>English Language</td>\n",
       "    </tr>\n",
       "    <tr>\n",
       "      <th>54491</th>\n",
       "      <td>35749085</td>\n",
       "      <td>/m/0jt35_j</td>\n",
       "      <td>Cherry Chérie</td>\n",
       "      <td>2013</td>\n",
       "      <td>NaN</td>\n",
       "      <td>90.0</td>\n",
       "      <td>[English Language]</td>\n",
       "      <td>[Italy]</td>\n",
       "      <td>[Romantic comedy, Romance Film, Drama]</td>\n",
       "      <td>English Language</td>\n",
       "    </tr>\n",
       "    <tr>\n",
       "      <th>79567</th>\n",
       "      <td>36423358</td>\n",
       "      <td>/m/0k9390g</td>\n",
       "      <td>Paranoia</td>\n",
       "      <td>2013</td>\n",
       "      <td>NaN</td>\n",
       "      <td>115.0</td>\n",
       "      <td>[English Language]</td>\n",
       "      <td>[France, United States of America]</td>\n",
       "      <td>[Thriller, Drama]</td>\n",
       "      <td>English Language</td>\n",
       "    </tr>\n",
       "  </tbody>\n",
       "</table>\n",
       "</div>"
      ],
      "text/plain": [
       "       Wikipedia_movie_ID Freebase_movie_ID  \\\n",
       "2942             29097142        /m/0dlk_qn   \n",
       "4676             34957039        /m/0j7mv7h   \n",
       "9447              3081811         /m/08q3xy   \n",
       "13338            36120997        /m/0k0wrfg   \n",
       "14160            31106576        /m/0gh8bt9   \n",
       "16772            23468311        /m/06w6vd9   \n",
       "18210            34682342        /m/0j3d8n7   \n",
       "32241            34779274        /m/0j3f7xf   \n",
       "32338            35229863        /m/0j7m_4k   \n",
       "32529            35720024        /m/0jt1g0l   \n",
       "41704            34502682        /m/0j27q89   \n",
       "41865            11055577        /m/02qzhdk   \n",
       "52589            35777727        /m/0jt0p_0   \n",
       "54491            35749085        /m/0jt35_j   \n",
       "79567            36423358        /m/0k9390g   \n",
       "\n",
       "                                             Movie_name  Movie_release_date  \\\n",
       "2942                                           Movie 43                2013   \n",
       "4676   Postman Pat: The Movie — You Know You're The One                2013   \n",
       "9447                                         Sin City 2                2013   \n",
       "13338                                       Ned Venture                2013   \n",
       "14160                                Bullet to the Head                2013   \n",
       "16772                            Quick, Slip Me A Bride                2013   \n",
       "18210                                           Calvary                2013   \n",
       "32241                                    Viy. Returning                2013   \n",
       "32338                                          McConkey                2013   \n",
       "32529                                Teen Beach Musical                2013   \n",
       "41704                                            Khumba                2013   \n",
       "41865                                           Boyhood                2013   \n",
       "52589                                              Ruby                2013   \n",
       "54491                                     Cherry Chérie                2013   \n",
       "79567                                          Paranoia                2013   \n",
       "\n",
       "       Movie_box_office_revenue  Movie_runtime  \\\n",
       "2942                        NaN          175.0   \n",
       "4676                        NaN          117.0   \n",
       "9447                        NaN          120.0   \n",
       "13338                       NaN           90.0   \n",
       "14160                       NaN           97.0   \n",
       "16772                       NaN          100.0   \n",
       "18210                       NaN          147.0   \n",
       "32241                       NaN          112.0   \n",
       "32338                       NaN           90.0   \n",
       "32529                       NaN          125.0   \n",
       "41704                       NaN           90.0   \n",
       "41865                       NaN          153.0   \n",
       "52589                       NaN           90.0   \n",
       "54491                       NaN           90.0   \n",
       "79567                       NaN          115.0   \n",
       "\n",
       "                            Movie_languages  \\\n",
       "2942                     [English Language]   \n",
       "4676                     [English Language]   \n",
       "9447                     [English Language]   \n",
       "13338                    [English Language]   \n",
       "14160                    [English Language]   \n",
       "16772                    [English Language]   \n",
       "18210                    [English Language]   \n",
       "32241  [English Language, Russian Language]   \n",
       "32338                    [English Language]   \n",
       "32529                    [English Language]   \n",
       "41704                    [English Language]   \n",
       "41865                    [English Language]   \n",
       "52589                    [English Language]   \n",
       "54491                    [English Language]   \n",
       "79567                    [English Language]   \n",
       "\n",
       "                          Movie_countries  \\\n",
       "2942           [United States of America]   \n",
       "4676                     [United Kingdom]   \n",
       "9447           [United States of America]   \n",
       "13338          [United States of America]   \n",
       "14160          [United States of America]   \n",
       "16772                    [United Kingdom]   \n",
       "18210           [Ireland, United Kingdom]   \n",
       "32241   [Ukraine, Czech Republic, Russia]   \n",
       "32338          [United States of America]   \n",
       "32529          [United States of America]   \n",
       "41704                      [South Africa]   \n",
       "41865          [United States of America]   \n",
       "52589                             [Italy]   \n",
       "54491                             [Italy]   \n",
       "79567  [France, United States of America]   \n",
       "\n",
       "                                            Movie_genres Movie_main_language  \n",
       "2942                                            [Comedy]    English Language  \n",
       "4676                            [Family Film, Animation]    English Language  \n",
       "9447   [Thriller, Crime Fiction, Superhero movie, Act...    English Language  \n",
       "13338                                      [Comedy film]    English Language  \n",
       "14160                  [Thriller, Crime Fiction, Action]    English Language  \n",
       "16772                                     [Romance Film]    English Language  \n",
       "18210                 [Black comedy, Comedy film, Drama]    English Language  \n",
       "32241             [Thriller, Mystery, Horror, Adventure]    English Language  \n",
       "32338                   [Biographical film, Documentary]    English Language  \n",
       "32529                             [Musical, Family Film]    English Language  \n",
       "41704    [Family Film, Children's, Adventure, Animation]    English Language  \n",
       "41865                                            [Drama]    English Language  \n",
       "52589                                        [Animation]    English Language  \n",
       "54491             [Romantic comedy, Romance Film, Drama]    English Language  \n",
       "79567                                  [Thriller, Drama]    English Language  "
      ]
     },
     "execution_count": 29,
     "metadata": {},
     "output_type": "execute_result"
    }
   ],
   "source": [
    "movie_metadata_filtered[movie_metadata_filtered.Movie_release_date > 2012]"
   ]
  },
  {
   "cell_type": "markdown",
   "id": "2f6c99d2-6b14-4c54-803c-0c436c48f8b1",
   "metadata": {},
   "source": [
    "We remove these movies released after 2012 to be consistent with our main database."
   ]
  },
  {
   "cell_type": "code",
   "execution_count": 30,
   "id": "46ee950f",
   "metadata": {
    "tags": []
   },
   "outputs": [
    {
     "name": "stdout",
     "output_type": "stream",
     "text": [
      "Number of movies in the database after the language filtering: 26840.\n"
     ]
    }
   ],
   "source": [
    "movie_metadata_filtered = movie_metadata_filtered[movie_metadata_filtered.Movie_release_date <= 2012]\n",
    "\n",
    "print(f\"Number of movies in the database after the language filtering: {movie_metadata_filtered['Movie_release_date'].size}.\")"
   ]
  },
  {
   "cell_type": "markdown",
   "id": "1dc61cf4",
   "metadata": {},
   "source": [
    "# Genre processing\n",
    "\n",
    "For our sentimental analysis using NLP, we may need to use movies genres as categories. We thus need to assign every movies in only one genre category (preferably the main genre, which is the first in the list). We thus created a more \"basic\" dictionnary of genres and assigned most categories to one of these \"main/major\" genres."
   ]
  },
  {
   "cell_type": "code",
   "execution_count": 31,
   "id": "ce93cc76",
   "metadata": {
    "tags": []
   },
   "outputs": [],
   "source": [
    "# Genre processing: give only one genre to our films, preferably the main genre (first on the list), from a \"basic\" dictionnary of genre\n",
    "# For some of the categories we had to look for it and to look at the movies that had this genre to know it which categories we should put it in.\n",
    "\n",
    "# 1st step: create a new genre dictionnary\n",
    "dict_genre = {\n",
    "    \"Action\": [\"Action/adventure\", \"ninja movie\", \"epic\", \"auto racing\", \"martial arts film\",\"Combat Films\", \"race movie\", \"samurai cinema\", \"Super hero\", \"superhero movie\", \"superhero\",\"Outlaw biker film\"],\n",
    "    \"Adventure\": [\"Adventure\", \"travel\"],\n",
    "    \"Art\": [\"Art film\",\"Concert film\", \"Film-Opera\", \"Operetta\", \"Punk rock\", \"Rockumentary\", \"Space opera\", \"Singing cowboy\", \"Hip hop movies\", \"Breakdance\", \"Dance\", \"musical\", \"& Literature\", \"Literature\", \"Music\",\"Experimental film\"],\n",
    "    \"Comedy\": [\"Humour\", \"Tragicomedy\", \"Ealing Comedies\", \"Comedy film\",\"Comedy\", \"Adventure Comedy\", \"Comedy of manners\", \"Workplace comedy\", \"comedy-drama\", \"Buddy Picture\", \"Buddy cop\", \"Parody\",\"Black comedy\",\"Satire\",\"Screwball comedy\",\"Musical comedy\",\"Buddy film\",\"Mockumentary\"], \n",
    "    \"Documentary\": [\"Docudrama\", \"Historical Documentaries\", \"Rockumentary\", \"media studies\", \"media satire\", \"Political Documentary\"],\n",
    "    \"Drama\": [\"Melodrama\", \"Tragedy\", \"Tragicomedy\", \"Docudrama\", \"Family drama\", \"Comedy-drama\", 'illnesses & disabilities','Costume drama',\"Political drama\",\"Exploitation\"], \n",
    "    \"Political\":[ \"Political cinema\",\"LGBT\",\"Blaxploitation\",\"Christian film\",\"Culture & Society\",\"Religious Film\"], #Here we regroup movies that may convey a political message as the main genre or that are mostly linked with Society \n",
    "    \"Family\": [\"Computer Animation\",\"Coming of age\",\"Family Film\", \"Animation\", \"Animated cartoon\", \"Children's film\", \"children's\", \"children's entertainment\", \"children's fantasy\", \"children's/family\", \"For children\",\"Christmas movie\",\"Television movie\",\"Teen\"], \n",
    "    \"Fiction\": [\"Science Fiction\",\"fairy tail\", \"fictional film\", \"medical fiction\", \"mythological fantasy\", \"sci fi pictures\", 'sci fi pictures original films', \"sword and sorcery films\", \"sword and sandal\", \"time travel\", \"supernatural\", \"Alien invasion\",\"Alien Film\", \"Zombie film\", \"Z-movie\", \"z movie\", \"Zombie\",\"Fantasy\",\"Disaster\",\"Fan film\"],\n",
    "    \"Historical\": [\"Short Film\",\"Historical fiction\",\"Period piece\",\"history\", \"Biographical\", \"British History\", \"British Empire Film\", \"British new wave\", \"Historical Epic\", \"Cold War\", \"Historical Documentaries\", \"Biography\", \"Biopic [feature]\", \"The Netherlands in World War II\", \"Gulf War\", \"movies about gladiators\",\"Biographical film\",\"Historical drama\",\"Sponsored film\"],\n",
    "    \"Horror\": [\"Natural Horror film\", \"Sci-fi Horror\", \"road-horror\", \"Creature Movie\", \"Monster Movie\", \"Creature\",\"Slasher\"],\n",
    "    \"Old movie\":['Black-and-white',\"Silent film\"],\n",
    "    \"Porn\": [\"Pornographic movie\", \"Pornography\", \"Softcore Porn\", \"Adult\", \"Sexploitation\", \"Erotica\", \"homoeroticism\", \"erotic thriller\", \"Hardcore pornography\", \"Homoeroticism\",\"Gay pornography\"], \n",
    "    \"Romance\": [\"Romance film\", \"romantic fantasy\",\"Romantic comedy\",\"Romantic drama\",\"Pre-code\"],\n",
    "    \"Sport\": [\"baseball\", \"boxing\", \"sports\"],\n",
    "    \"Thriller\": [ \"film à clef\", \"mystery\", \"suspense\", 'crime', 'crime fiction', 'crime thriller', \"master criminal films\", \"detective\", \"Master Criminal Films\", \"Heist\", \"Gangster Film\",\"Film noir\",\"Psychological thriller\",\"Detective fiction\",\"Spy\"],\n",
    "    \"Western\": [\"Singing cowboy\", \"Westerns\", \"B-Western\", \"Epic Western\", \"Spaghetti Western\"],\n",
    "    \"World cinema\": [\"Northern\",\"Chinese Movies\", \"Japanese Movies\", \"Latino\", \"americana\", \"bengali cinema\", \"filipino movies\", \"Anime\", \"Indie\"],\n",
    "    \"War film\": [\"war\", \"War effort\", \"anti-war\", \"anti-war film\", \"nuclear warfare\", \"foreign legion\"],\n",
    "}"
   ]
  },
  {
   "cell_type": "code",
   "execution_count": 32,
   "id": "d6d71a7e",
   "metadata": {
    "tags": []
   },
   "outputs": [],
   "source": [
    "# 2nd step: Revert the current dictionnary, easier to manipulate\n",
    "\n",
    "dict_genre_revert = {}\n",
    "for key, value in dict_genre.items():\n",
    "    key = key.lower() #passage en minuscule\n",
    "    for v in value:\n",
    "        v = v.lower()\n",
    "        dict_genre_revert[v] = key\n",
    "    dict_genre_revert[key] = key"
   ]
  },
  {
   "cell_type": "code",
   "execution_count": 33,
   "id": "2dd4e7e3",
   "metadata": {
    "tags": []
   },
   "outputs": [],
   "source": [
    "#drop movie without genre (=emplty list in 'Movie_genres')\n",
    "movie_metadata_filtered = movie_metadata_filtered[movie_metadata_filtered['Movie_genres'].map(lambda d: len(d)) > 0]"
   ]
  },
  {
   "cell_type": "markdown",
   "id": "9549ba08-c5f3-4198-9d1f-f43a1d46c824",
   "metadata": {},
   "source": [
    "We now want to assign each movie to one of our new genres categories. To do this we look at the genres in the order of the list ('Movie_genres') and assign the main genre as the first one in the list that match one of the entry of our dictionnary. We made the dictionnary so that all of the movies fall in one of the categories. "
   ]
  },
  {
   "cell_type": "code",
   "execution_count": 34,
   "id": "bef643e8",
   "metadata": {
    "tags": []
   },
   "outputs": [],
   "source": [
    "#3rd step: Give main genre to each movie \n",
    "\n",
    "Main_genres=[]\n",
    "for i in movie_metadata_filtered.index:\n",
    "    N=len(movie_metadata_filtered['Movie_genres'][i])\n",
    "    k=0\n",
    "    while k < N:\n",
    "        genre = movie_metadata_filtered['Movie_genres'][i][k].lower()\n",
    "        if genre in dict_genre_revert.keys():\n",
    "            genre=dict_genre_revert.get(genre)\n",
    "            Main_genres.append(str(genre))\n",
    "            k=N+1\n",
    "        else:\n",
    "            k+=1\n",
    "\n",
    "movie_metadata_filtered['Movie_main_genre']=Main_genres\n"
   ]
  },
  {
   "cell_type": "markdown",
   "id": "b778da0b-4e36-45fd-bdcd-faa38e00c068",
   "metadata": {},
   "source": [
    "Here is the plot of the number of movies in each of ours new main genres. We can see that most of the movies fall in the 'Thriller' or 'Drama' categories. "
   ]
  },
  {
   "cell_type": "code",
   "execution_count": 35,
   "id": "ce00a7de-b0f1-4bb9-96a9-5b82b04e0b0a",
   "metadata": {
    "tags": []
   },
   "outputs": [
    {
     "data": {
      "text/plain": [
       "[Text(0.5, 0, 'Main genres'),\n",
       " Text(0, 0.5, 'Number of movies'),\n",
       " Text(0.5, 1.0, 'Number of movies per genre')]"
      ]
     },
     "execution_count": 35,
     "metadata": {},
     "output_type": "execute_result"
    },
    {
     "data": {
      "image/png": "[encoded data removed]",
      "text/plain": [
       "<Figure size 640x480 with 1 Axes>"
      ]
     },
     "metadata": {},
     "output_type": "display_data"
    }
   ],
   "source": [
    "movie_metadata_filtered['Movie_main_genre'] = movie_metadata_filtered.Movie_main_genre.astype('category')\n",
    "\n",
    "ax = sns.histplot(movie_metadata_filtered,x='Movie_main_genre',stat='count',color='pink')\n",
    "plt.setp(ax.xaxis.get_majorticklabels(), rotation=90)\n",
    "plt.gcf().subplots_adjust(bottom=0)\n",
    "ax.set(xlabel=\"Main genres\",ylabel=\"Number of movies\",title=\"Number of movies per genre\")\n",
    "\n"
   ]
  },
  {
   "cell_type": "code",
   "execution_count": 36,
   "id": "73a95c4c",
   "metadata": {
    "tags": []
   },
   "outputs": [],
   "source": [
    "movie_metadata_filtered.drop(labels=[\"Movie_genres\",\"Movie_languages\",\"Movie_main_language\"],axis=1,inplace=True)"
   ]
  },
  {
   "cell_type": "markdown",
   "id": "5371e528",
   "metadata": {},
   "source": [
    "# Processing character metadata \n",
    "\n",
    "We may want to look at character names as it may be part of the title of the movie (Batman in Batman movies for example). To do this we add here the character names in the movie_metadata_database ('movie_metadata_filtered'). And we later add a column for wether a character name is "
   ]
  },
  {
   "cell_type": "code",
   "execution_count": 37,
   "id": "4c2e203a",
   "metadata": {
    "tags": []
   },
   "outputs": [
    {
     "data": {
      "text/html": [
       "<div>\n",
       "<style scoped>\n",
       "    .dataframe tbody tr th:only-of-type {\n",
       "        vertical-align: middle;\n",
       "    }\n",
       "\n",
       "    .dataframe tbody tr th {\n",
       "        vertical-align: top;\n",
       "    }\n",
       "\n",
       "    .dataframe thead th {\n",
       "        text-align: right;\n",
       "    }\n",
       "</style>\n",
       "<table border=\"1\" class=\"dataframe\">\n",
       "  <thead>\n",
       "    <tr style=\"text-align: right;\">\n",
       "      <th></th>\n",
       "      <th>Wikipedia_movie_ID</th>\n",
       "      <th>Movie_name</th>\n",
       "      <th>Movie_box_office_revenue</th>\n",
       "      <th>Movie_runtime</th>\n",
       "      <th>Movie_countries</th>\n",
       "      <th>Movie_main_genre</th>\n",
       "      <th>Character_name</th>\n",
       "      <th>Freebase_character_ID</th>\n",
       "    </tr>\n",
       "  </thead>\n",
       "  <tbody>\n",
       "    <tr>\n",
       "      <th>503</th>\n",
       "      <td>164502</td>\n",
       "      <td>The Adventures of Baron Munchausen</td>\n",
       "      <td>8083123.0</td>\n",
       "      <td>127.0</td>\n",
       "      <td>[United States of America, United Kingdom]</td>\n",
       "      <td>adventure</td>\n",
       "      <td>[Sally Salt, Vulcan, Venus / Rose, Ray D. Tutto]</td>\n",
       "      <td>[/m/0h342yh, /m/0h321k5, /m/0gxtwhh, /m/0gwtvgw]</td>\n",
       "    </tr>\n",
       "    <tr>\n",
       "      <th>7228</th>\n",
       "      <td>5812847</td>\n",
       "      <td>Gator</td>\n",
       "      <td>NaN</td>\n",
       "      <td>116.0</td>\n",
       "      <td>[United States of America]</td>\n",
       "      <td>thriller</td>\n",
       "      <td>[Gator McKlusky, Aggie Maybank]</td>\n",
       "      <td>[/m/0h14jd7, /m/0h5gy_r]</td>\n",
       "    </tr>\n",
       "    <tr>\n",
       "      <th>5978</th>\n",
       "      <td>4243613</td>\n",
       "      <td>Friendship's Field</td>\n",
       "      <td>NaN</td>\n",
       "      <td>84.0</td>\n",
       "      <td>[United States of America]</td>\n",
       "      <td>adventure</td>\n",
       "      <td>[Ira]</td>\n",
       "      <td>[/m/05sm512]</td>\n",
       "    </tr>\n",
       "    <tr>\n",
       "      <th>6331</th>\n",
       "      <td>4694464</td>\n",
       "      <td>Adam &amp; Steve</td>\n",
       "      <td>330116.0</td>\n",
       "      <td>99.0</td>\n",
       "      <td>[United States of America]</td>\n",
       "      <td>romance</td>\n",
       "      <td>[Ruth, Rhonda, Michael]</td>\n",
       "      <td>[/m/0h1dqsm, /m/0h1yxkq, /m/0h5h6kf]</td>\n",
       "    </tr>\n",
       "    <tr>\n",
       "      <th>8091</th>\n",
       "      <td>7141343</td>\n",
       "      <td>Shtickmen</td>\n",
       "      <td>NaN</td>\n",
       "      <td>86.0</td>\n",
       "      <td>[United States of America]</td>\n",
       "      <td>comedy</td>\n",
       "      <td>[Jonothan Krastenberg, Jerry Martin, 'Buckeye'...</td>\n",
       "      <td>[/m/0lk7ygx, /m/0lk7yh3, /m/0lk7yll, /m/0lk7yg...</td>\n",
       "    </tr>\n",
       "  </tbody>\n",
       "</table>\n",
       "</div>"
      ],
      "text/plain": [
       "      Wikipedia_movie_ID                          Movie_name  \\\n",
       "503               164502  The Adventures of Baron Munchausen   \n",
       "7228             5812847                               Gator   \n",
       "5978             4243613                  Friendship's Field   \n",
       "6331             4694464                        Adam & Steve   \n",
       "8091             7141343                           Shtickmen   \n",
       "\n",
       "      Movie_box_office_revenue  Movie_runtime  \\\n",
       "503                  8083123.0          127.0   \n",
       "7228                       NaN          116.0   \n",
       "5978                       NaN           84.0   \n",
       "6331                  330116.0           99.0   \n",
       "8091                       NaN           86.0   \n",
       "\n",
       "                                 Movie_countries Movie_main_genre  \\\n",
       "503   [United States of America, United Kingdom]        adventure   \n",
       "7228                  [United States of America]         thriller   \n",
       "5978                  [United States of America]        adventure   \n",
       "6331                  [United States of America]          romance   \n",
       "8091                  [United States of America]           comedy   \n",
       "\n",
       "                                         Character_name  \\\n",
       "503    [Sally Salt, Vulcan, Venus / Rose, Ray D. Tutto]   \n",
       "7228                    [Gator McKlusky, Aggie Maybank]   \n",
       "5978                                              [Ira]   \n",
       "6331                            [Ruth, Rhonda, Michael]   \n",
       "8091  [Jonothan Krastenberg, Jerry Martin, 'Buckeye'...   \n",
       "\n",
       "                                  Freebase_character_ID  \n",
       "503    [/m/0h342yh, /m/0h321k5, /m/0gxtwhh, /m/0gwtvgw]  \n",
       "7228                           [/m/0h14jd7, /m/0h5gy_r]  \n",
       "5978                                       [/m/05sm512]  \n",
       "6331               [/m/0h1dqsm, /m/0h1yxkq, /m/0h5h6kf]  \n",
       "8091  [/m/0lk7ygx, /m/0lk7yh3, /m/0lk7yll, /m/0lk7yg...  "
      ]
     },
     "execution_count": 37,
     "metadata": {},
     "output_type": "execute_result"
    }
   ],
   "source": [
    "#Drop row without character names\n",
    "movie_characters = movie_metadata_filtered.copy(deep=True)\n",
    "\n",
    "character_metadata_copy = character_metadata.copy(deep=True)\n",
    "character_metadata_copy.dropna(subset=['Character_name'], inplace=True)\n",
    "\n",
    "character_metadata_copy.drop(labels=[\"Movie_release_date\",\"Freebase_movie_ID\"],axis=1,inplace=True)\n",
    "\n",
    "movie_characters=movie_characters.merge(character_metadata_copy, how='inner',left_on='Wikipedia_movie_ID', right_on='Wikipedia_movie_ID')\n",
    "\n",
    "movie_characters = movie_characters[['Wikipedia_movie_ID', 'Movie_name', 'Movie_release_date',  'Movie_box_office_revenue', 'Movie_runtime', 'Movie_countries', 'Movie_main_genre', 'Character_name', 'Freebase_character_ID']]\n",
    "\n",
    "\n",
    "movie_characters = movie_characters.groupby('Wikipedia_movie_ID').agg({\n",
    "    'Movie_name': 'first',  \n",
    "    'Movie_box_office_revenue': 'first', \n",
    "    'Movie_runtime': 'first',  \n",
    "    'Movie_countries': 'first',  \n",
    "    'Movie_main_genre': 'first',  \n",
    "    'Character_name': lambda x: list(x),  \n",
    "    'Freebase_character_ID':  lambda x: list(x)\n",
    "}).reset_index()\n",
    "movie_characters.sample(5).head()"
   ]
  },
  {
   "cell_type": "code",
   "execution_count": 38,
   "id": "070435ca",
   "metadata": {
    "tags": []
   },
   "outputs": [
    {
     "data": {
      "text/plain": [
       "16471"
      ]
     },
     "execution_count": 38,
     "metadata": {},
     "output_type": "execute_result"
    }
   ],
   "source": [
    "movie_characters['Character_name'].size"
   ]
  },
  {
   "cell_type": "code",
   "execution_count": 39,
   "id": "53a0a110",
   "metadata": {
    "tags": []
   },
   "outputs": [
    {
     "name": "stdout",
     "output_type": "stream",
     "text": [
      "Fraction of movie titles containing character name: 2.94%\n",
      "                               Movie_name  \\\n",
      "3                                  Batman   \n",
      "6                          Batman Forever   \n",
      "43                         The Terminator   \n",
      "52                               THX 1138   \n",
      "81                 The Life of Emile Zola   \n",
      "...                                   ...   \n",
      "16270           The Elizabeth Smart Story   \n",
      "16380               Margaret Bourke-White   \n",
      "16410  Captain America II: Death Too Soon   \n",
      "16430                      Up Goes Maisie   \n",
      "16463     Rita Hayworth: The Love Goddess   \n",
      "\n",
      "                                          Character_name  \n",
      "3      [Batman, Catwoman, Joker, Penguin, Riddler, Al...  \n",
      "6      [Batman, Harvey Dent, Dr. Chase Meridian, Suga...  \n",
      "43     [Terminator, Kyle Reese, Sarah Connor, Punk Le...  \n",
      "52     [THX, SEN, SRT, LUH, PTO, TWA, NCH, DWY, IMM, ...  \n",
      "81                                          [Emile Zola]  \n",
      "...                                                  ...  \n",
      "16270                                  [Elizabeth Smart]  \n",
      "16380                            [Margaret Bourke-White]  \n",
      "16410                   [Captain America, Dr. Wendy Day]  \n",
      "16430                                           [Maisie]  \n",
      "16463                                    [Rita Hayworth]  \n",
      "\n",
      "[484 rows x 2 columns]\n"
     ]
    }
   ],
   "source": [
    "# Check if one of the character's name is present in the movie title\n",
    "def is_in_title(df):\n",
    "    characters = df['Character_name']\n",
    "    title = str(df['Movie_name'])\n",
    "    for i in characters:\n",
    "        if str(i) in title:\n",
    "            return True\n",
    "        return False\n",
    "\n",
    "movie_characters['Character_in_title'] = movie_characters.apply(lambda x: is_in_title(x), axis=1)\n",
    "movie_with_character_in_title = movie_characters['Character_in_title'].sum()\n",
    "\n",
    "print(f\"Fraction of movie titles containing character name: {movie_with_character_in_title / len(movie_characters):.2%}\")\n",
    "print(movie_characters.loc[movie_characters['Character_in_title'] == 1, ['Movie_name', 'Character_name']])"
   ]
  },
  {
   "cell_type": "code",
   "execution_count": 40,
   "id": "103a9055",
   "metadata": {
    "tags": []
   },
   "outputs": [],
   "source": [
    "movie_characters.drop(labels=[\"Movie_name\",\"Movie_box_office_revenue\",\"Movie_runtime\",\"Movie_countries\",\"Movie_main_genre\",\"Freebase_character_ID\"],axis=1,inplace=True)\n",
    "\n",
    "movie_metadata_filtered = movie_metadata_filtered.merge(movie_characters,how='left', on = 'Wikipedia_movie_ID')\n",
    "movie_metadata_filtered.to_csv(\"Data/movies_preprocessed.csv\")"
   ]
  }
 ],
 "metadata": {
  "kernelspec": {
   "display_name": "ada",
   "language": "python",
   "name": "python3"
  },
  "language_info": {
   "codemirror_mode": {
    "name": "ipython",
    "version": 3
   },
   "file_extension": ".py",
   "mimetype": "text/x-python",
   "name": "python",
   "nbconvert_exporter": "python",
   "pygments_lexer": "ipython3",
   "version": "3.9.18"
  }
 },
 "nbformat": 4,
 "nbformat_minor": 5
}
