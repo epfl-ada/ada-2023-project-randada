{
 "cells": [
  {
   "cell_type": "markdown",
   "id": "67beb099-0c20-4431-be1d-df1c54bc0114",
   "metadata": {},
   "source": [
    "## First step to clean the dataset:\n",
    "\n",
    "- Select only English movies\n",
    "- Select onlu full-length feature (movies of more than one hour long)\n",
    "- Remove movies for which we don't have the title"
   ]
  },
  {
   "cell_type": "code",
   "execution_count": 2,
   "id": "89d56d4a-bdd9-438a-a690-5cbffaba8284",
   "metadata": {
    "tags": []
   },
   "outputs": [],
   "source": [
    "import pandas as pd\n",
    "#import requests\n",
    "import numpy as np\n",
    "import string\n",
    "import json"
   ]
  },
  {
   "cell_type": "code",
   "execution_count": 3,
   "id": "d0660acd-f658-4151-82cd-116d5d5063dd",
   "metadata": {
    "tags": []
   },
   "outputs": [],
   "source": [
    "character_metadata = pd.read_csv('Data/character.metadata.tsv', sep='\\t', names = ['Wikipedia_movie_ID',\n",
    "                                                                              'Freebase_movie_ID',\n",
    "                                                                              'Movie_release_date',\n",
    "                                                                              'Character_name',\n",
    "                                                                              'Actor_date_of_birth',\n",
    "                                                                              'Actor_gender',\n",
    "                                                                              'Actor_height',\n",
    "                                                                              'Actor_ethnicity',\n",
    "                                                                              'Actor_name',\n",
    "                                                                              'Actor_age_at_movie_release',\n",
    "                                                                              'Freebase_character/actor_map_ID',\n",
    "                                                                              'Freebase_character_ID',\n",
    "                                                                              'Freebase_actor_ID'])\n",
    "\n",
    "movie_metadata = pd.read_csv('Data/movie.metadata.tsv', sep='\\t', names = ['Wikipedia_movie_ID',\n",
    "                                                                              'Freebase_movie_ID',\n",
    "                                                                              'Movie_name',\n",
    "                                                                              'Movie_release_date',\n",
    "                                                                              'Movie_box_office_revenue',\n",
    "                                                                              'Movie_runtime',\n",
    "                                                                              'Movie_languages',\n",
    "                                                                              'Movie_countries',\n",
    "                                                                              'Movie_genres'])\n",
    "\n",
    "plot_summaries = pd.read_csv('Data/plot_summaries.txt', sep='\\t', names = ['Wikipedia_movie_ID',\n",
    "                                                                              'summary'])"
   ]
  },
  {
   "cell_type": "markdown",
   "id": "cbb66b04",
   "metadata": {},
   "source": []
  },
  {
   "cell_type": "code",
   "execution_count": 140,
   "id": "c371179e-7f33-4628-9145-5f8af60c7d1b",
   "metadata": {
    "tags": []
   },
   "outputs": [
    {
     "name": "stdout",
     "output_type": "stream",
     "text": [
      "       Wikipedia_movie_ID Freebase_movie_ID  \\\n",
      "0                  975900         /m/03vyhn   \n",
      "1                 3196793         /m/08yl5d   \n",
      "3                 9363483        /m/0285_cd   \n",
      "6                18998739        /m/04jcqvw   \n",
      "7                10408933        /m/02qc0j7   \n",
      "...                   ...               ...   \n",
      "81735            32468537        /m/0crwd9y   \n",
      "81736            35228177        /m/0j7hxnt   \n",
      "81737            34980460        /m/0g4pl34   \n",
      "81738             9971909        /m/02pygw1   \n",
      "81740            12476867        /m/02w7zz8   \n",
      "\n",
      "                                              Movie_name Movie_release_date  \\\n",
      "0                                         Ghosts of Mars         2001-08-24   \n",
      "1      Getting Away with Murder: The JonBenét Ramsey ...         2000-02-16   \n",
      "3                                       White Of The Eye               1987   \n",
      "6                              The Sorcerer's Apprentice               2002   \n",
      "7                               Alexander's Ragtime Band         1938-08-16   \n",
      "...                                                  ...                ...   \n",
      "81735                                    Shadow Boxing 2         2007-10-18   \n",
      "81736                           Mermaids: The Body Found         2011-03-19   \n",
      "81737                                            Knuckle         2011-01-21   \n",
      "81738                                  Another Nice Mess         1972-09-22   \n",
      "81740                                            Spliced               2002   \n",
      "\n",
      "       Movie_box_office_revenue  Movie_runtime  \\\n",
      "0                    14010832.0           98.0   \n",
      "1                           NaN           95.0   \n",
      "3                           NaN          110.0   \n",
      "6                           NaN           86.0   \n",
      "7                     3600000.0          106.0   \n",
      "...                         ...            ...   \n",
      "81735                       NaN          132.0   \n",
      "81736                       NaN          120.0   \n",
      "81737                       NaN           96.0   \n",
      "81738                       NaN           66.0   \n",
      "81740                       NaN           86.0   \n",
      "\n",
      "                                         Movie_languages  \\\n",
      "0                     {\"/m/02h40lc\": \"English Language\"}   \n",
      "1                     {\"/m/02h40lc\": \"English Language\"}   \n",
      "3                     {\"/m/02h40lc\": \"English Language\"}   \n",
      "6                     {\"/m/02h40lc\": \"English Language\"}   \n",
      "7                     {\"/m/02h40lc\": \"English Language\"}   \n",
      "...                                                  ...   \n",
      "81735  {\"/m/06b_j\": \"Russian Language\", \"/m/02h40lc\":...   \n",
      "81736                 {\"/m/02h40lc\": \"English Language\"}   \n",
      "81737                 {\"/m/02h40lc\": \"English Language\"}   \n",
      "81738                 {\"/m/02h40lc\": \"English Language\"}   \n",
      "81740                 {\"/m/02h40lc\": \"English Language\"}   \n",
      "\n",
      "                                         Movie_countries  \\\n",
      "0              {\"/m/09c7w0\": \"United States of America\"}   \n",
      "1              {\"/m/09c7w0\": \"United States of America\"}   \n",
      "3                         {\"/m/07ssc\": \"United Kingdom\"}   \n",
      "6                           {\"/m/0hzlz\": \"South Africa\"}   \n",
      "7              {\"/m/09c7w0\": \"United States of America\"}   \n",
      "...                                                  ...   \n",
      "81735                             {\"/m/06bnz\": \"Russia\"}   \n",
      "81736          {\"/m/09c7w0\": \"United States of America\"}   \n",
      "81737  {\"/m/03rt9\": \"Ireland\", \"/m/07ssc\": \"United Ki...   \n",
      "81738          {\"/m/09c7w0\": \"United States of America\"}   \n",
      "81740                            {\"/m/0d060g\": \"Canada\"}   \n",
      "\n",
      "                                            Movie_genres  \n",
      "0      {\"/m/01jfsb\": \"Thriller\", \"/m/06n90\": \"Science...  \n",
      "1      {\"/m/02n4kr\": \"Mystery\", \"/m/03bxz7\": \"Biograp...  \n",
      "3      {\"/m/01jfsb\": \"Thriller\", \"/m/0glj9q\": \"Erotic...  \n",
      "6      {\"/m/0hqxf\": \"Family Film\", \"/m/01hmnh\": \"Fant...  \n",
      "7      {\"/m/04t36\": \"Musical\", \"/m/01z4y\": \"Comedy\", ...  \n",
      "...                                                  ...  \n",
      "81735  {\"/m/01z02hx\": \"Sports\", \"/m/0lsxr\": \"Crime Fi...  \n",
      "81736                            {\"/m/07s9rl0\": \"Drama\"}  \n",
      "81737  {\"/m/03bxz7\": \"Biographical film\", \"/m/07s9rl0...  \n",
      "81738       {\"/m/06nbt\": \"Satire\", \"/m/01z4y\": \"Comedy\"}  \n",
      "81740  {\"/m/01jfsb\": \"Thriller\", \"/m/03npn\": \"Horror\"...  \n",
      "\n",
      "[31269 rows x 9 columns]\n"
     ]
    }
   ],
   "source": [
    "#Copy of movie_metadata dataset\n",
    "movie_metadata_filtered = movie_metadata.copy(deep= True)\n",
    "\n",
    "#Filtering of movie_metada, keeping only full-length features movies (more than 60 minutes long), in English and with that have a Title in the database.\n",
    "movie_metadata_filtered = movie_metadata_filtered[movie_metadata_filtered.Movie_languages.str.contains(\"English\")]\n",
    "movie_metadata_filtered.dropna(subset=['Movie_name'],inplace=True)\n",
    "movie_metadata_filtered = movie_metadata_filtered[movie_metadata_filtered.Movie_runtime >= 60]\n",
    "\n",
    "print(movie_metadata_filtered)"
   ]
  },
  {
   "cell_type": "code",
   "execution_count": 5,
   "id": "1320b194-178c-43c3-ad4b-c83d289ef097",
   "metadata": {
    "tags": []
   },
   "outputs": [
    {
     "data": {
      "text/plain": [
       "21500                              Murder a la Mod\n",
       "33420    La pelota vasca. La piel contra la piedra\n",
       "39681                             Café de la plage\n",
       "40550                         Les Damnés de la mer\n",
       "45773               Lumumba, la mort d'un prophète\n",
       "Name: Movie_name, dtype: object"
      ]
     },
     "execution_count": 5,
     "metadata": {},
     "output_type": "execute_result"
    }
   ],
   "source": [
    "movie_metadata_filtered.Movie_name[movie_metadata_filtered.Movie_name.str.contains(\" la \")].head()\n",
    "\n",
    "#There are still some Title that are not in English..."
   ]
  },
  {
   "cell_type": "code",
   "execution_count": 6,
   "id": "24b9232b-9cd8-48ae-aaf2-f4d0a053cdd5",
   "metadata": {
    "tags": []
   },
   "outputs": [],
   "source": [
    "movie_English_only = movie_metadata_filtered[movie_metadata_filtered.Movie_languages == '{\"/m/02h40lc\": \"English Language\"}']"
   ]
  },
  {
   "cell_type": "code",
   "execution_count": 7,
   "id": "67d8371b-1281-4010-a60b-8c29eb91876f",
   "metadata": {
    "tags": []
   },
   "outputs": [
    {
     "data": {
      "text/plain": [
       "21500    Murder a la Mod\n",
       "70558      Irma la Douce\n",
       "Name: Movie_name, dtype: object"
      ]
     },
     "execution_count": 7,
     "metadata": {},
     "output_type": "execute_result"
    }
   ],
   "source": [
    "movie_English_only.Movie_name[movie_English_only.Movie_name.str.contains(\" la \")].head()"
   ]
  },
  {
   "cell_type": "code",
   "execution_count": 8,
   "id": "0e83862d-05fd-4ee9-9d4c-6359e877b9b8",
   "metadata": {
    "tags": []
   },
   "outputs": [],
   "source": [
    "movie_English_only.to_csv(path_or_buf = \"Data/movies_metadata_english_only.csv\", sep=',')"
   ]
  },
  {
   "cell_type": "code",
   "execution_count": 9,
   "id": "181fc730",
   "metadata": {},
   "outputs": [],
   "source": [
    "# IMDB files \n",
    "\n",
    "ratings_imdb = pd.read_table('Data/ratings_imdb.tsv', sep=\"\\t\")\n",
    "ratings_imdb.head()\n",
    "\n",
    "\n",
    "movies_imdb= pd.read_table('Data/movies_imdb.tsv', sep=\"\\t\")\n",
    "\n"
   ]
  },
  {
   "cell_type": "code",
   "execution_count": 10,
   "id": "ce93cc76",
   "metadata": {},
   "outputs": [],
   "source": [
    "# Genre processing\n",
    "# Objectif: donner des noms de genre communs pour tous les films\n",
    "#(grosse) Inspiration du projet adamax 2022 (spliter + les genres ou en faire moins?)\n",
    "\n",
    "### 1st step: create a new genre dictionnary /!\\ they did it themselves, should we do it as well?\n",
    "dict_genre = {\n",
    "    \"Porn\": [\"Pornographic movie\", \"Pornography\", \"Softcore Porn\", \"Adult\", \"Sexploitation\", \"Erotica\", \"homoeroticism\"], \n",
    "    \"Action\": [\"Action/adventure\", \"ninja movie\", \"epic\", \"auto racing\", \"martial arts film\", \"race movie\", \"samurai cinema\"],\n",
    "    \"Adventure\": [\"Adventure\", \"travel\"],\n",
    "    \"Animals\": [\"Animal Picture\"],\n",
    "    \"Anime\": [],\n",
    "    \"Alien Film\": [\"Alien invasion\"],\n",
    "    \"Animation\": [\"Animated cartoon\"],\n",
    "    \"Beach Film\": [\"Beach Party film\"],\n",
    "    \"Biographical film\": [\"Biography\", \"Biopic [feature]\"],\n",
    "    \"Buddy film\": [\"Buddy Picture\", \"Buddy cop\"],\n",
    "    \"Coming of age\": [\"Coming-of-age film\"],\n",
    "    \"Comedy\": [\"Humour\", \"Tragicomedy\", \"Ealing Comedies\", \"Comdedy\", \"Adventure Comedy\", \"Commedy of manners\", \"Workplace comedy\", \"comedy-drama\"], \n",
    "    \"Crime\": ['crime', 'crime fiction', 'crime thriller', \"master criminal films\", \"detective\"],\n",
    "    \"Documentary\": [\"Political Documetary\", \"Docudrama\", \"Historical Documentaries\", \"Rockumentary\", \"media studies\", \"media satire\"], \n",
    "    \"Drama\": [\"Melodrama\", \"Tragedy\", \"Tragicomedy\", \"Docudrama\", \"Family drama\", \"Comedy-drama\", 'illnesses & disabilities'], \n",
    "    \"Family\": [\"Family Film\"],\n",
    "    \"Fiction\": [\"fairy tail\", \"fictional film\", \"medical fiction\", \"mythological fantasy\", \"sci fi pictures\", 'sci fi pictures original films', \"sword and sorcery films\", \"sword and sandal\", \"time travel\", \"supernatural\"],\n",
    "    \"Gross out\": [\"Gross-out Film\"],\n",
    "    \"Historical\": [\"history\", \"Biographical\", \"British History\", \"British Empire Film\", \"British new wave\", \"Historical Epic\", \"Cold War\", \"Historical Documentaries\"],\n",
    "    \"Monster\": [\"Creature Movie\", \"Monster Movie\", \"Creature\"],\n",
    "    \"Horror\": [\"Natural Horror film\", \"Sci-fi Horror\", \"road-horror\"],\n",
    "    \"Indie\": [\"Indie\"],\n",
    "    \"Language & Literature\": [\"& Literature\"], \n",
    "    \"LGBT\": [\"New Queer Cinema\", \"Gay\", \"Homoeroticism\"],\n",
    "    \"Old movies\": [\"Silent film\", \"black-and-white\"],\n",
    "    \"Parody\": [],\n",
    "    \"Political cinema\": [\"Political Documentary\"],\n",
    "    \"Prison\": [\"Prison film\", \"Women in prison film\"],\n",
    "    \"Master Criminal Films\": [\"Heist\", \"Gangster Film\"],\n",
    "    \"Music\": [\"Concert film\", \"Film-Opera\", \"Operetta\", \"Punk rock\", \"Rockumentary\", \"Space opera\", \"Singing cowboy\", \"Hip hop movies\", \"Breakdance\", \"Dance\", \"musical\"],\n",
    "    \"For children\": [\"Children's film\", \"children's\", \"children's entertainment\", \"children's fantasy\", \"children's/family\"],\n",
    "    \"Religious Film\": [\"Christian film\", \"Cult\"],\n",
    "    \"Romance\": [\"Romance film\", \"romantic fantasy\"],\n",
    "    \"Sport\": [\"baseball\", \"boxing\", \"sports\"],\n",
    "    \"Super hero\": [\"superhero movie\", \"superhero\"],\n",
    "    \"Social issues\": [\"Social problem film\"], \n",
    "    \"Television Movie\": [\"TV Movie\"],\n",
    "    \"Thriller\": [\"erotic thriller\", \"film à clef\", \"mystery\", \"suspense\"],\n",
    "    \"War film\": [\"war\", \"War effort\", \"The Netherlands in World War II\", \"Gulf War\", \"Combat Films\", \"movies about gladiators\", \"anti-war\", \"anti-war film\", \"nuclear warfare\", \"foreign legion\"],\n",
    "    \"Western\": [\"Singing cowboy\", \"Westerns\", \"B-Western\", \"Epic Western\", \"Spaghetti Western\"],\n",
    "    \"World cinema\": [\"Chinese Movies\", \"Japanese Movies\", \"Latino\", \"americana\", \"bengali cinema\", \"filipino movies\"],\n",
    "    \"Zombie\": [\"Zombie film\", \"Z-movie\", \"z movie\"]\n",
    "}\n",
    "## To discuss: \"world cinema\"--> keep or remove? diversity?\n"
   ]
  },
  {
   "cell_type": "code",
   "execution_count": 11,
   "id": "d6d71a7e",
   "metadata": {},
   "outputs": [],
   "source": [
    "##2nd step: Revert the current dictionnary, easier to manipulate\n",
    "\n",
    "dict_genre_revert = {}\n",
    "for key, value in dict_genre.items():\n",
    "    key = key.lower() #passage en minuscule\n",
    "    for v in value:\n",
    "        v = v.lower()\n",
    "        dict_genre_revert[v] = key\n",
    "    dict_genre_revert[key] = key\n",
    "\n"
   ]
  },
  {
   "cell_type": "code",
   "execution_count": 12,
   "id": "35bb75f4",
   "metadata": {},
   "outputs": [],
   "source": [
    "##3rd step= create a new set with the new genre\n",
    "\n",
    "def get_genre(set_original_genres):\n",
    "    set_new_genres = set()\n",
    "    for g in set_original_genres:\n",
    "        g = g.lower()\n",
    "        temp = True\n",
    "        for s_g in g.split(\" \"): \n",
    "            if s_g in dict_genre_revert.keys():\n",
    "                set_new_genres.add(dict_genre_revert[s_g])\n",
    "                temp = False\n",
    "        if temp:\n",
    "            if g in dict_genre_revert.keys():\n",
    "                set_new_genres.add(dict_genre_revert[g])\n",
    "    return set_new_genres"
   ]
  },
  {
   "cell_type": "code",
   "execution_count": 13,
   "id": "db28c509",
   "metadata": {},
   "outputs": [],
   "source": [
    "# Test process genre sur movie_English_only\n",
    "\n",
    "df_test= movie_English_only.copy(deep=True)\n"
   ]
  },
  {
   "cell_type": "code",
   "execution_count": 14,
   "id": "e1ea8983",
   "metadata": {},
   "outputs": [],
   "source": [
    "## Rendre les colonnes lisibles (set de valeurs) -->intéressant pour d'autres colonnes!!\n",
    "pd.set_option('mode.chained_assignment', None) #enlever les warnings de changement de valeur\n",
    "\n",
    "for i in df_test.index:\n",
    "\n",
    "    d=json.loads(df_test[\"Movie_genres\"][i]) #transformer str en dict\n",
    "\n",
    "    df_test[\"Movie_genres\"][i]=set(d.values()) #retourne un set des valeurs du dict\n",
    "\n",
    "### en faire une fonction?"
   ]
  },
  {
   "cell_type": "code",
   "execution_count": 21,
   "id": "ccb1a6ac",
   "metadata": {},
   "outputs": [
    {
     "name": "stdout",
     "output_type": "stream",
     "text": [
      "{'drama', 'historical', 'crime', 'thriller'}\n",
      "{\"/m/02n4kr\": \"Mystery\", \"/m/03bxz7\": \"Biographical film\", \"/m/07s9rl0\": \"Drama\", \"/m/0hj3n01\": \"Crime Drama\"}\n"
     ]
    }
   ],
   "source": [
    "## Changer les genres originaux en nouveux genres simplifiés\n",
    "for i in df_test.index:\n",
    "    df_test[\"Movie_genres\"][i] = get_genre(df_test[\"Movie_genres\"][i])\n",
    "\n",
    "print(get_genre(df_test[\"Movie_genres\"][1]))\n",
    "print(movie_English_only[\"Movie_genres\"][1])\n",
    "\n"
   ]
  },
  {
   "cell_type": "markdown",
   "id": "5371e528",
   "metadata": {},
   "source": [
    "# preprocess character metadata before to merge it with movies\n",
    "\n"
   ]
  },
  {
   "cell_type": "code",
   "execution_count": 136,
   "id": "4c2e203a",
   "metadata": {},
   "outputs": [
    {
     "data": {
      "text/html": [
       "<div>\n",
       "<style scoped>\n",
       "    .dataframe tbody tr th:only-of-type {\n",
       "        vertical-align: middle;\n",
       "    }\n",
       "\n",
       "    .dataframe tbody tr th {\n",
       "        vertical-align: top;\n",
       "    }\n",
       "\n",
       "    .dataframe thead th {\n",
       "        text-align: right;\n",
       "    }\n",
       "</style>\n",
       "<table border=\"1\" class=\"dataframe\">\n",
       "  <thead>\n",
       "    <tr style=\"text-align: right;\">\n",
       "      <th></th>\n",
       "      <th>Wikipedia_movie_ID</th>\n",
       "      <th>Movie_name</th>\n",
       "      <th>Movie_box_office_revenue</th>\n",
       "      <th>Movie_runtime</th>\n",
       "      <th>Movie_languages</th>\n",
       "      <th>Movie_countries</th>\n",
       "      <th>Movie_genres</th>\n",
       "      <th>Character_name</th>\n",
       "      <th>Freebase_character_ID</th>\n",
       "    </tr>\n",
       "  </thead>\n",
       "  <tbody>\n",
       "    <tr>\n",
       "      <th>9801</th>\n",
       "      <td>6270685</td>\n",
       "      <td>Tiptoes</td>\n",
       "      <td>NaN</td>\n",
       "      <td>90.0</td>\n",
       "      <td>{\"/m/02h40lc\": \"English Language\"}</td>\n",
       "      <td>{\"/m/0f8l9c\": \"France\", \"/m/09c7w0\": \"United S...</td>\n",
       "      <td>{\"/m/06cvj\": \"Romantic comedy\", \"/m/0219x_\": \"...</td>\n",
       "      <td>Carol, Steven Bedalia, Rolfe, Lucy, Maurice, S...</td>\n",
       "      <td>/m/0gxbc2b, /m/0ghtvx2, /m/0gy9v2l, /m/0h282wx...</td>\n",
       "    </tr>\n",
       "    <tr>\n",
       "      <th>20207</th>\n",
       "      <td>23594997</td>\n",
       "      <td>Gulliver's Travels</td>\n",
       "      <td>237382724.0</td>\n",
       "      <td>95.0</td>\n",
       "      <td>{\"/m/02h40lc\": \"English Language\"}</td>\n",
       "      <td>{\"/m/09c7w0\": \"United States of America\"}</td>\n",
       "      <td>{\"/m/0hqxf\": \"Family Film\", \"/m/0hj3n2k\": \"Fan...</td>\n",
       "      <td>Dan, Lemuel Gulliver, Horatio, Princess Mary, ...</td>\n",
       "      <td>/m/0g1__n3, /m/083m72x, /m/083m728, /m/08x2q7v...</td>\n",
       "    </tr>\n",
       "    <tr>\n",
       "      <th>6452</th>\n",
       "      <td>3517536</td>\n",
       "      <td>The Lovely Bones</td>\n",
       "      <td>93621340.0</td>\n",
       "      <td>136.0</td>\n",
       "      <td>{\"/m/02h40lc\": \"English Language\"}</td>\n",
       "      <td>{\"/m/09c7w0\": \"United States of America\", \"/m/...</td>\n",
       "      <td>{\"/m/01jfsb\": \"Thriller\", \"/m/03q4nz\": \"World ...</td>\n",
       "      <td>Lindsey Salmon, Jack Salmon, Abigail Salmon, G...</td>\n",
       "      <td>/m/07yk3gx, /m/07yk3d_, /m/07yk3hh, /m/07yk3h7...</td>\n",
       "    </tr>\n",
       "    <tr>\n",
       "      <th>6867</th>\n",
       "      <td>3782892</td>\n",
       "      <td>Pack Up Your Troubles</td>\n",
       "      <td>NaN</td>\n",
       "      <td>68.0</td>\n",
       "      <td>{\"/m/02h40lc\": \"English Language\"}</td>\n",
       "      <td>{\"/m/09c7w0\": \"United States of America\"}</td>\n",
       "      <td>{\"/m/01z4y\": \"Comedy\", \"/m/01g6gs\": \"Black-and...</td>\n",
       "      <td></td>\n",
       "      <td></td>\n",
       "    </tr>\n",
       "    <tr>\n",
       "      <th>11793</th>\n",
       "      <td>8752596</td>\n",
       "      <td>Dead Clever</td>\n",
       "      <td>NaN</td>\n",
       "      <td>120.0</td>\n",
       "      <td>{\"/m/02h40lc\": \"English Language\"}</td>\n",
       "      <td>{\"/m/07ssc\": \"United Kingdom\"}</td>\n",
       "      <td>{\"/m/01jfsb\": \"Thriller\", \"/m/0vgkd\": \"Black c...</td>\n",
       "      <td>Daniel, Young Nathan, Gaynor, Judge, D.S. Liam...</td>\n",
       "      <td>/m/0kxpdyq, /m/0kxnd7d, /m/0kxlzgs, /m/0kxp3jj...</td>\n",
       "    </tr>\n",
       "  </tbody>\n",
       "</table>\n",
       "</div>"
      ],
      "text/plain": [
       "       Wikipedia_movie_ID             Movie_name  Movie_box_office_revenue  \\\n",
       "9801              6270685                Tiptoes                       NaN   \n",
       "20207            23594997     Gulliver's Travels               237382724.0   \n",
       "6452              3517536       The Lovely Bones                93621340.0   \n",
       "6867              3782892  Pack Up Your Troubles                       NaN   \n",
       "11793             8752596            Dead Clever                       NaN   \n",
       "\n",
       "       Movie_runtime                     Movie_languages  \\\n",
       "9801            90.0  {\"/m/02h40lc\": \"English Language\"}   \n",
       "20207           95.0  {\"/m/02h40lc\": \"English Language\"}   \n",
       "6452           136.0  {\"/m/02h40lc\": \"English Language\"}   \n",
       "6867            68.0  {\"/m/02h40lc\": \"English Language\"}   \n",
       "11793          120.0  {\"/m/02h40lc\": \"English Language\"}   \n",
       "\n",
       "                                         Movie_countries  \\\n",
       "9801   {\"/m/0f8l9c\": \"France\", \"/m/09c7w0\": \"United S...   \n",
       "20207          {\"/m/09c7w0\": \"United States of America\"}   \n",
       "6452   {\"/m/09c7w0\": \"United States of America\", \"/m/...   \n",
       "6867           {\"/m/09c7w0\": \"United States of America\"}   \n",
       "11793                     {\"/m/07ssc\": \"United Kingdom\"}   \n",
       "\n",
       "                                            Movie_genres  \\\n",
       "9801   {\"/m/06cvj\": \"Romantic comedy\", \"/m/0219x_\": \"...   \n",
       "20207  {\"/m/0hqxf\": \"Family Film\", \"/m/0hj3n2k\": \"Fan...   \n",
       "6452   {\"/m/01jfsb\": \"Thriller\", \"/m/03q4nz\": \"World ...   \n",
       "6867   {\"/m/01z4y\": \"Comedy\", \"/m/01g6gs\": \"Black-and...   \n",
       "11793  {\"/m/01jfsb\": \"Thriller\", \"/m/0vgkd\": \"Black c...   \n",
       "\n",
       "                                          Character_name  \\\n",
       "9801   Carol, Steven Bedalia, Rolfe, Lucy, Maurice, S...   \n",
       "20207  Dan, Lemuel Gulliver, Horatio, Princess Mary, ...   \n",
       "6452   Lindsey Salmon, Jack Salmon, Abigail Salmon, G...   \n",
       "6867                                                       \n",
       "11793  Daniel, Young Nathan, Gaynor, Judge, D.S. Liam...   \n",
       "\n",
       "                                   Freebase_character_ID  \n",
       "9801   /m/0gxbc2b, /m/0ghtvx2, /m/0gy9v2l, /m/0h282wx...  \n",
       "20207  /m/0g1__n3, /m/083m72x, /m/083m728, /m/08x2q7v...  \n",
       "6452   /m/07yk3gx, /m/07yk3d_, /m/07yk3hh, /m/07yk3h7...  \n",
       "6867                                                      \n",
       "11793  /m/0kxpdyq, /m/0kxnd7d, /m/0kxlzgs, /m/0kxp3jj...  "
      ]
     },
     "execution_count": 136,
     "metadata": {},
     "output_type": "execute_result"
    }
   ],
   "source": [
    "# Ajouter les noms des personnages principaux au movie.metadata\n",
    "\n",
    "character_metadata_copy= character_metadata.copy(deep= True)\n",
    "character_metadata_copy.dropna(subset=['Character_name'], inplace=True)\n",
    "#il reste encore des NaN !!!!\n",
    "\n",
    "movie_character = movie_English_only.merge(character_metadata_copy, how='left', left_on='Wikipedia_movie_ID', right_on='Wikipedia_movie_ID')\n",
    "\n",
    "movie_character = movie_character[['Wikipedia_movie_ID', 'Movie_name',  'Movie_box_office_revenue', 'Movie_runtime', 'Movie_languages', 'Movie_countries', 'Movie_genres', 'Character_name', 'Freebase_character_ID']]\n",
    "# je sais pas pourquoi mais il veut pas mettre le wikipedia movie ID et la release date\n",
    "\n",
    "grouped_movie_character = movie_character.groupby('Wikipedia_movie_ID').agg({\n",
    "    'Movie_name': 'first',  \n",
    "    'Movie_box_office_revenue': 'first', \n",
    "    'Movie_runtime': 'first', \n",
    "    'Movie_languages': 'first', \n",
    "    'Movie_countries': 'first',  \n",
    "    'Movie_genres': 'first',  \n",
    "    'Character_name': lambda x: ', '.join(x.dropna()),  \n",
    "    'Freebase_character_ID':  lambda x: ', '.join(x.dropna())\n",
    "}).reset_index()\n",
    "grouped_movie_character.sample(5).head()"
   ]
  },
  {
   "cell_type": "code",
   "execution_count": 137,
   "id": "53a0a110",
   "metadata": {},
   "outputs": [
    {
     "name": "stdout",
     "output_type": "stream",
     "text": [
      "Fraction of movie titles containing character name: 1.21%\n",
      "                                     Movie_name   Character_name\n",
      "29                                      Henry V          Henry V\n",
      "38                                 Mary Poppins     Mary Poppins\n",
      "200                 ChromeSkull: Laid to Rest 2      ChromeSkull\n",
      "272                      Good Morning Miss Dove        Miss Dove\n",
      "399                                   RoboCop 3          RoboCop\n",
      "...                                         ...              ...\n",
      "108887                             Stingray Sam     Stingray Sam\n",
      "109242                                    Emile            Emile\n",
      "109308                            Grandma's Boy    Grandma's Boy\n",
      "109768  Sherlock Holmes and the Voice of Terror  Voice of Terror\n",
      "109777  Sherlock Holmes and the Voice of Terror  Sherlock Holmes\n",
      "\n",
      "[1326 rows x 2 columns]\n"
     ]
    }
   ],
   "source": [
    "# check if one of the character's name is present in the movie title\n",
    "\n",
    "movie_character['Character_in_title'] = movie_character.apply(lambda row: str(row['Character_name']).lower() in str(row['Movie_name']).lower(), axis=1)\n",
    "movie_with_character_in_title = movie_character['Character_in_title'].sum()\n",
    "\n",
    "\n",
    "print(f\"Fraction of movie titles containing character name: {movie_with_character_in_title / len(movie_character):.2%}\")\n",
    "print(movie_character.loc[movie_character['Character_in_title'] == 1, ['Movie_name', 'Character_name']])"
   ]
  },
  {
   "cell_type": "code",
   "execution_count": null,
   "id": "103a9055",
   "metadata": {},
   "outputs": [],
   "source": [
    "# certains noms de personnages ne sont aps vraiment des prénoms, est-ce qu'il faudra faire de la NLP?\n"
   ]
  },
  {
   "cell_type": "code",
   "execution_count": 145,
   "id": "9161f2a1",
   "metadata": {},
   "outputs": [],
   "source": [
    "# years corrected\n",
    "\n",
    "movie_metadata_temporal = movie_metadata_filtered.copy(deep= True)\n",
    "movie_metadata_temporal.dropna(subset=['Movie_release_date'], inplace = True)\n",
    "movie_metadata_temporal[\"Movie_release_date\"] = movie_metadata_temporal['Movie_release_date'].apply(lambda x : str(x)[:4]).apply(lambda x : int(x))\n"
   ]
  }
 ],
 "metadata": {
  "kernelspec": {
   "display_name": "Python3",
   "language": "python",
   "name": "python3"
  },
  "language_info": {
   "codemirror_mode": {
    "name": "ipython",
    "version": 3
   },
   "file_extension": ".py",
   "mimetype": "text/x-python",
   "name": "python",
   "nbconvert_exporter": "python",
   "pygments_lexer": "ipython3",
   "version": "3.9.18"
  }
 },
 "nbformat": 4,
 "nbformat_minor": 5
}
