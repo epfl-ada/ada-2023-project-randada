{
 "cells": [
  {
   "cell_type": "markdown",
   "metadata": {},
   "source": [
    "# Matching movies for a balanced dataset\n",
    "\n",
    "IMPORTANT REMARK: this notebook can't be run, it is a draft for matching after we finish the adjustements and the cleaning of cofounders analysis"
   ]
  },
  {
   "cell_type": "markdown",
   "metadata": {},
   "source": [
    "## Calcul of propensity scores"
   ]
  },
  {
   "cell_type": "code",
   "execution_count": 3,
   "metadata": {},
   "outputs": [],
   "source": [
    "import statsmodels.api as sm\n",
    "import statsmodels.formula.api as smf\n"
   ]
  },
  {
   "cell_type": "markdown",
   "metadata": {},
   "source": [
    "### First step: transform success into binary data\n",
    "\n",
    "Why? Currently, matching methods rely on the match between one \"control\" point and one \"treated\" point. Research is aiming to develop propensity score calculation methods on non-binary treatment (but we are far away from being data analysis researchers...). We thus need to binarize our success indicator. This will unfortunately limit our conclusions and simplify a lot (too much?) our study."
   ]
  },
  {
   "cell_type": "code",
   "execution_count": null,
   "metadata": {},
   "outputs": [],
   "source": [
    "#Perform logistic regression with cofounders found previously\n",
    "\n",
    "mod == smf.logit(formula='IsSuccessful ~  C(HasFamousActor) + C(IsFamousDirector) +\\\n",
    "                        C(IsFamousStudio) ', data=success_data) #to complete with more cofounders?\n",
    "\n",
    "res = mod.fit()\n",
    "print(res.summary())\n"
   ]
  },
  {
   "cell_type": "code",
   "execution_count": null,
   "metadata": {},
   "outputs": [],
   "source": [
    "#Add propensity score to the dataframe\n",
    "success_data['Propensity_score']=res.predict()"
   ]
  },
  {
   "cell_type": "code",
   "execution_count": null,
   "metadata": {},
   "outputs": [],
   "source": [
    "#get similarity\n",
    "def similarity(propensity_x,propensity_y):\n",
    "    return 1-np.abs(propensity_x-propensity_y)"
   ]
  },
  {
   "cell_type": "code",
   "execution_count": null,
   "metadata": {},
   "outputs": [],
   "source": [
    "#Perform matching\n",
    "\n",
    "import networkx as nx\n",
    "G=nx.Graph()\n",
    "movies_successful=success_data[success_data.IsSuccessful==1]\n",
    "movies_non_successful=success_data[success_data.IsSuccessful==0]\n",
    "for non_successful_id, non_successful_row in movies_non_successful.iterrows():\n",
    "    \n",
    "    for successful_id, successful_row in movies_successful.iterrows():\n",
    "        \n",
    "        s=similarity(non_successful_row['Propensity_score'],successful_row['Propensity_score'])\n",
    "    \n",
    "        G.add_weighted_edges_from([(non_successful_id,successful_id,s )])\n",
    "        \n",
    "matching = nx.max_weight_matching(G)"
   ]
  },
  {
   "cell_type": "code",
   "execution_count": null,
   "metadata": {},
   "outputs": [],
   "source": [
    "matched = [i[0] for i in list(matching)] + [i[1] for i in list(matching)]\n",
    "balanced_success_data = df.iloc[matched]\n",
    "balanced_success_data.head()"
   ]
  }
 ],
 "metadata": {
  "kernelspec": {
   "display_name": "ada",
   "language": "python",
   "name": "python3"
  },
  "language_info": {
   "codemirror_mode": {
    "name": "ipython",
    "version": 3
   },
   "file_extension": ".py",
   "mimetype": "text/x-python",
   "name": "python",
   "nbconvert_exporter": "python",
   "pygments_lexer": "ipython3",
   "version": "3.9.18"
  }
 },
 "nbformat": 4,
 "nbformat_minor": 2
}
